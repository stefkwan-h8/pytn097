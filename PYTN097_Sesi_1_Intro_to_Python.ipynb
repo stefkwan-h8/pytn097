{
 "cells": [
  {
   "cell_type": "code",
   "execution_count": 8,
   "metadata": {
    "colab": {
     "base_uri": "https://localhost:8080/"
    },
    "id": "pKZg7w8q3j7O",
    "outputId": "84008245-7442-420a-dfb0-c7032524732c"
   },
   "outputs": [
    {
     "name": "stdout",
     "output_type": "stream",
     "text": [
      "Selamat malam, selamat datang ke kelas Hacktiv8\n"
     ]
    }
   ],
   "source": [
    "print(\"Selamat malam, selamat datang ke kelas Hacktiv8\")"
   ]
  },
  {
   "cell_type": "code",
   "execution_count": 10,
   "metadata": {
    "colab": {
     "base_uri": "https://localhost:8080/"
    },
    "id": "9R_AYi_m4WWC",
    "outputId": "eeb4d61e-aebf-40e6-926c-04cb6c07f8c0"
   },
   "outputs": [
    {
     "name": "stdout",
     "output_type": "stream",
     "text": [
      "tes pake Python\n"
     ]
    }
   ],
   "source": [
    "print(\"tes pake Python\")"
   ]
  },
  {
   "cell_type": "markdown",
   "metadata": {
    "id": "ZHY3IENk4XwJ"
   },
   "source": [
    "# Sesi 1 - Intro to Python\n",
    "Di sesi ini kita akan mempelajari basic syntax python, termasuk:\n",
    "- print\n",
    "- data types\n",
    "  - numerik: integer, float\n",
    "  - text: string (di kutip \"\")\n",
    "  - boolean (hanya true/false)\n",
    "  - list\n",
    "  - dictionary\n",
    "- variable"
   ]
  },
  {
   "cell_type": "code",
   "execution_count": 11,
   "metadata": {
    "colab": {
     "base_uri": "https://localhost:8080/"
    },
    "id": "b3mfDKK04Zu7",
    "outputId": "b9d6b342-72a4-451c-bff0-bc54380d870b"
   },
   "outputs": [
    {
     "data": {
      "text/plain": [
       "3456"
      ]
     },
     "execution_count": 11,
     "metadata": {},
     "output_type": "execute_result"
    }
   ],
   "source": [
    "123\n",
    "12\n",
    "12354\n",
    "3456"
   ]
  },
  {
   "cell_type": "markdown",
   "metadata": {
    "id": "ZkXvfP_o6EV7"
   },
   "source": [
    "karena python notebook hanya memperlihatkan data yang terakhir kita tulis di sebuah kotak, kita bisa pakai keyword \"print\" untuk memastikan data yang mau kelihatan, di tampilkan"
   ]
  },
  {
   "cell_type": "code",
   "execution_count": 12,
   "metadata": {
    "colab": {
     "base_uri": "https://localhost:8080/"
    },
    "id": "F9E-G50A6Lq9",
    "outputId": "b56628bd-2072-43ba-a072-a189fb434517"
   },
   "outputs": [
    {
     "name": "stdout",
     "output_type": "stream",
     "text": [
      "a\n",
      "b\n",
      "123\n",
      "3456\n"
     ]
    }
   ],
   "source": [
    "print(\"a\")\n",
    "print(\"b\")\n",
    "print(123)\n",
    "print(3456)"
   ]
  },
  {
   "cell_type": "markdown",
   "metadata": {
    "id": "khudKEpP6bPz"
   },
   "source": [
    "## Basic Data Types\n",
    "tipe data yang berdiri sendiri, mendasar, primitif, simple\n",
    "\n",
    "1. Integer, tipe data angka numerik yang tidak memiliki desimal\n",
    "2. float, untuk angka yang memiliki desimal point, dinamakan sebagai \"float\" bukan integer. walaupun 0.0, desimal 0, tetap dianggap float.\n",
    "3. string, tipe data non-numerik, termasuk alphabet, angka, simbol, spasi, dan lain-lain. asalkan datanya dikutip.\n",
    "4. boolean, true atau false, dua pilihan saja"
   ]
  },
  {
   "cell_type": "code",
   "execution_count": null,
   "metadata": {
    "id": "YG3hrIgg6P02"
   },
   "outputs": [],
   "source": [
    "123\n",
    "1\n",
    "0\n",
    "-500\n",
    "734"
   ]
  },
  {
   "cell_type": "markdown",
   "metadata": {
    "id": "QRUHYbQs6tXx"
   },
   "source": [
    "untuk cek tipe data, kita bisa gunakan keyword \"type\""
   ]
  },
  {
   "cell_type": "code",
   "execution_count": 13,
   "metadata": {
    "colab": {
     "base_uri": "https://localhost:8080/"
    },
    "id": "Id7ZsrWe6vjq",
    "outputId": "47cd9669-e973-46c5-9b2f-2145aefc49f3"
   },
   "outputs": [
    {
     "data": {
      "text/plain": [
       "int"
      ]
     },
     "execution_count": 13,
     "metadata": {},
     "output_type": "execute_result"
    }
   ],
   "source": [
    "type(123)"
   ]
  },
  {
   "cell_type": "markdown",
   "metadata": {
    "id": "2SOjnU7v6zRA"
   },
   "source": [
    "untuk lebih rapi, type nya kita bungkus dengan print"
   ]
  },
  {
   "cell_type": "code",
   "execution_count": 14,
   "metadata": {
    "colab": {
     "base_uri": "https://localhost:8080/"
    },
    "id": "NGGKfyzJ6xdN",
    "outputId": "7eafd442-2284-4bcd-b9e8-5ece4b961b02"
   },
   "outputs": [
    {
     "name": "stdout",
     "output_type": "stream",
     "text": [
      "<class 'int'>\n"
     ]
    }
   ],
   "source": [
    "print(type(123))"
   ]
  },
  {
   "cell_type": "markdown",
   "metadata": {
    "id": "ATREB0qP67v4"
   },
   "source": [
    "class adalah sebuah konsep dalam bahasa pemrograman, untuk sebuah tipe data.\n",
    "\n",
    "kalau mau buat tipe data custom, kita bisa buat class baru. tapi di kelas data analysis ini tidak kita pelajari."
   ]
  },
  {
   "cell_type": "code",
   "execution_count": 15,
   "metadata": {
    "colab": {
     "base_uri": "https://localhost:8080/"
    },
    "id": "3qPr7rFN65Y3",
    "outputId": "8e31b4fc-c0a1-4d22-9477-abab4eee8e39"
   },
   "outputs": [
    {
     "name": "stdout",
     "output_type": "stream",
     "text": [
      "<class 'int'>\n",
      "<class 'int'>\n",
      "<class 'int'>\n",
      "<class 'int'>\n"
     ]
    }
   ],
   "source": [
    "print(type(-156))\n",
    "print(type(0))\n",
    "print(type(123654968656546578461681313))\n",
    "print(type(9999999999999999999999999999999))"
   ]
  },
  {
   "cell_type": "markdown",
   "metadata": {
    "id": "DcIg14wY7lKH"
   },
   "source": [
    "2. float, untuk angka yang memiliki desimal point, dinamakan sebagai \"float\" bukan integer. walaupun 0.0, desimal 0, tetap dianggap float."
   ]
  },
  {
   "cell_type": "code",
   "execution_count": 16,
   "metadata": {
    "colab": {
     "base_uri": "https://localhost:8080/"
    },
    "id": "AzzHhkLb7eaM",
    "outputId": "655352f2-e9a2-4a97-be32-4540b2aa2696"
   },
   "outputs": [
    {
     "name": "stdout",
     "output_type": "stream",
     "text": [
      "<class 'float'>\n",
      "<class 'float'>\n",
      "<class 'float'>\n",
      "<class 'float'>\n"
     ]
    }
   ],
   "source": [
    "print(type(-156.8))\n",
    "print(type(0.0))\n",
    "print(type(123654968656546578461681313.235))\n",
    "print(type(9999999999999999999999999999999.99999999999999))"
   ]
  },
  {
   "cell_type": "markdown",
   "metadata": {
    "id": "3b4Kd3KB78Pd"
   },
   "source": [
    "3. string, tipe data non-numerik, termasuk alphabet, angka, simbol, spasi, dan lain-lain. asalkan datanya dikutip."
   ]
  },
  {
   "cell_type": "code",
   "execution_count": 17,
   "metadata": {
    "colab": {
     "base_uri": "https://localhost:8080/"
    },
    "id": "6897-Ank75Bu",
    "outputId": "2f5c13cc-87cf-423b-8247-140809da3fc3"
   },
   "outputs": [
    {
     "name": "stdout",
     "output_type": "stream",
     "text": [
      "<class 'str'>\n",
      "<class 'str'>\n",
      "<class 'str'>\n",
      "<class 'str'>\n"
     ]
    }
   ],
   "source": [
    "print(type(\"Hacktiv8\"))\n",
    "print(type(\"\"))\n",
    "print(type(\"aku mau belajar data analysis..!\"))\n",
    "print(type(\"123746512834765 !@#%(%$&^$)\"))"
   ]
  },
  {
   "cell_type": "markdown",
   "metadata": {
    "id": "fwdW1_B_8SGW"
   },
   "source": [
    "4. boolean, true atau false, dua pilihan saja\n",
    "\n",
    "karena cara menyimpan data di sebuah bahasa pemrograman sangat kaku, semua data di klasifikasi menjadi true atau false."
   ]
  },
  {
   "cell_type": "code",
   "execution_count": 18,
   "metadata": {
    "colab": {
     "base_uri": "https://localhost:8080/"
    },
    "id": "OJdKlD5Y8O8X",
    "outputId": "90c8cef6-296c-445b-f2df-2f2f5bff0502"
   },
   "outputs": [
    {
     "name": "stdout",
     "output_type": "stream",
     "text": [
      "<class 'bool'>\n",
      "<class 'bool'>\n"
     ]
    }
   ],
   "source": [
    "print(type(True))\n",
    "print(type(False))"
   ]
  },
  {
   "cell_type": "markdown",
   "metadata": {
    "id": "KTC4kTD788xZ"
   },
   "source": [
    "nama class untuk tipe data kita: int, float, str, bool\n",
    "\n",
    "bisa digunakan untuk meng-convert data dari satu tipe ke tipe lainnya"
   ]
  },
  {
   "cell_type": "code",
   "execution_count": 19,
   "metadata": {
    "colab": {
     "base_uri": "https://localhost:8080/"
    },
    "id": "wfrLLnI98rpR",
    "outputId": "cf2754fc-97ba-46ba-beed-d8444611057b"
   },
   "outputs": [
    {
     "data": {
      "text/plain": [
       "123"
      ]
     },
     "execution_count": 19,
     "metadata": {},
     "output_type": "execute_result"
    }
   ],
   "source": [
    "# mau konversi 123.5 menjadi integer\n",
    "int(123.5)"
   ]
  },
  {
   "cell_type": "code",
   "execution_count": 20,
   "metadata": {
    "colab": {
     "base_uri": "https://localhost:8080/"
    },
    "id": "PpANlsBf9NSt",
    "outputId": "6801c9c8-44ae-4ee6-f019-d3371278d485"
   },
   "outputs": [
    {
     "data": {
      "text/plain": [
       "501"
      ]
     },
     "execution_count": 20,
     "metadata": {},
     "output_type": "execute_result"
    }
   ],
   "source": [
    "# mau konversi string \"501\" menjadi integer\n",
    "int(\"501\")"
   ]
  },
  {
   "cell_type": "code",
   "execution_count": 30,
   "metadata": {
    "id": "rlc_46NT9um3"
   },
   "outputs": [],
   "source": [
    "# print(int(\"123.5\"))\n",
    "# tidak bisa convert string \"21.5\" menjadi int, tapi bisa convert jadi float"
   ]
  },
  {
   "cell_type": "markdown",
   "metadata": {
    "id": "2S9HTL8s-S8O"
   },
   "source": [
    "untuk konversi float ke integer, tidak ada masalah\n",
    "\n",
    "untuk konversi string ke integer, pastikan string nya berisi angka integer - string yang berisi angka float tidak bisa di konversi ke integer secara langsung, harus ke float dulu, baru ke integer"
   ]
  },
  {
   "cell_type": "code",
   "execution_count": 24,
   "metadata": {
    "colab": {
     "base_uri": "https://localhost:8080/"
    },
    "id": "altqibKV9lLI",
    "outputId": "3b067283-496a-4d7f-89d6-2d332ebac00c"
   },
   "outputs": [
    {
     "name": "stdout",
     "output_type": "stream",
     "text": [
      "12\n",
      "345\n",
      "1\n",
      "0\n"
     ]
    }
   ],
   "source": [
    "# mau konversi jadi int\n",
    "print(int(12.456))\n",
    "print(int(\"345\"))\n",
    "print(int(True))\n",
    "print(int(False))"
   ]
  },
  {
   "cell_type": "code",
   "execution_count": 29,
   "metadata": {
    "colab": {
     "base_uri": "https://localhost:8080/"
    },
    "id": "LSRVqVb19Um_",
    "outputId": "6e93b8ca-6ad0-4486-9b08-ba418f207596"
   },
   "outputs": [
    {
     "name": "stdout",
     "output_type": "stream",
     "text": [
      "12.0\n",
      "123.5\n",
      "1.0\n",
      "0.0\n"
     ]
    }
   ],
   "source": [
    "# mau konversi jadi float\n",
    "print(float(12))\n",
    "print(float(\"123.5\"))\n",
    "print(float(True))\n",
    "print(float(False))"
   ]
  },
  {
   "cell_type": "code",
   "execution_count": 31,
   "metadata": {
    "colab": {
     "base_uri": "https://localhost:8080/"
    },
    "id": "c8R3FauR9fkz",
    "outputId": "fcc315e9-2fe0-4747-aab6-a478ee20bdda"
   },
   "outputs": [
    {
     "name": "stdout",
     "output_type": "stream",
     "text": [
      "12\n",
      "12.5464\n",
      "123.5\n",
      "True\n",
      "False\n"
     ]
    }
   ],
   "source": [
    "# mau konversi jadi string\n",
    "print(str(12))\n",
    "print(str(12.5464))\n",
    "print(str(\"123.5\"))\n",
    "print(str(True))\n",
    "print(str(False))"
   ]
  },
  {
   "cell_type": "code",
   "execution_count": 33,
   "metadata": {
    "colab": {
     "base_uri": "https://localhost:8080/"
    },
    "id": "U1fKEKei-uh5",
    "outputId": "4f73bbb5-e43d-418a-f707-e1398cc567c7"
   },
   "outputs": [
    {
     "name": "stdout",
     "output_type": "stream",
     "text": [
      "True\n",
      "True\n",
      "True\n",
      "True\n",
      "False\n"
     ]
    }
   ],
   "source": [
    "# mau konversi jadi boolean\n",
    "print(bool(-12))\n",
    "print(bool(12.5464))\n",
    "print(bool(\"123.5\"))\n",
    "print(bool(True))\n",
    "print(bool(False))"
   ]
  },
  {
   "cell_type": "markdown",
   "metadata": {
    "id": "J0pVOEJT-07M"
   },
   "source": [
    "Ada konsep \"falsy\" dimana kita menandai beberapa data sebagai False. Data lain semuanya True.\n",
    "\n",
    "Data yang dianggap False adalah:\n",
    "- boolean False\n",
    "- integer 0\n",
    "- float 0.0\n",
    "- string \"\"\n",
    "- list []\n",
    "- tuple ()\n",
    "- dictionary {}\n",
    "\n",
    "yang kosong kosong dianggap False\n",
    "\n",
    "yang ada isinya dianggap True, walaupun misalkan angka negatif"
   ]
  },
  {
   "cell_type": "markdown",
   "metadata": {
    "id": "0Ne1ri1KCd6A"
   },
   "source": [
    "## Variable\n",
    "data yang kita tulis sejauh ini adalah data lepas, yang terlupakan. Kita tidak bisa akses semua data yang kita tulis tadi.\n",
    "\n",
    "Variable adalah memberikan nama ke sebuah data, jadi bisa kita panggil lagi.\n",
    "\n",
    "cara buat Variable di Python adalah\n",
    "\n",
    "```python\n",
    "nama_variable = \"data\"\n",
    "```\n",
    "\n",
    "nama variable di sebelah kiri:\n",
    "- BUKAN keyword python\n",
    "- TIDAK dimulai dengan angka\n",
    "- TIDAK ada spasi, gantikan semua spasi dengan \"_\"\n",
    "- semua huruf kecil"
   ]
  },
  {
   "cell_type": "code",
   "execution_count": 35,
   "metadata": {
    "colab": {
     "base_uri": "https://localhost:8080/"
    },
    "id": "CmrxOgJyC07S",
    "outputId": "1922ace2-2ebc-46c5-e215-ff4361ac3f3b"
   },
   "outputs": [
    {
     "name": "stdout",
     "output_type": "stream",
     "text": [
      "70 71 72 73 74 75 76 77\n"
     ]
    }
   ],
   "source": [
    "# contoh: variable untuk nilai ujian Andi\n",
    "nilai_andi = 70\n",
    "NILAI_andi = 71\n",
    "Nilai_andi = 72\n",
    "NilaiAndi = 73\n",
    "nilaiAndi = 74\n",
    "nilaiANDI = 75\n",
    "_nilai_andi_ = 76\n",
    "_nilai_ANDI = 77\n",
    "\n",
    "print(nilai_andi, NILAI_andi, Nilai_andi, NilaiAndi, nilaiAndi, nilaiANDI, _nilai_andi_, _nilai_ANDI)"
   ]
  },
  {
   "cell_type": "markdown",
   "metadata": {
    "id": "BfJDJowWDkQc"
   },
   "source": [
    "bagi Python tidak masalah huruf besar/kecil atau simbol _ dalam sebuah variable. Hanya biar kita sebagai manusia tidak pusing, kita pakai standard cara tulis variable yang namanya snake_case\n",
    "\n",
    "standard cara tulis nama di bahasa pemrograman ada:\n",
    "- snake_case: spasi digantikan _, huruf kecil semua\n",
    "- kebab-case: spasi digantikan -, huruf kecil semua\n",
    "- camelCase: spasi dihapus, huruf setelah spasi jadi UPPERCASE, huruf lain smallcase\n",
    "- PascalCase: huruf pertama dari setiap kata menjadi UPPERCASE, huruf lain smallcase, spasi dihapus\n",
    "\n",
    "aku rekomen:\n",
    "- variable: snake_case\n",
    "- function: camelCase (nanti kita pelajari di sesi 3)\n",
    "- class: PascalCase (tidak dipelajari di kelas ini)"
   ]
  },
  {
   "cell_type": "code",
   "execution_count": 36,
   "metadata": {
    "colab": {
     "base_uri": "https://localhost:8080/"
    },
    "id": "JTOOnxOEDivi",
    "outputId": "d63b69a8-13aa-4f23-d71f-ecccd86488e1"
   },
   "outputs": [
    {
     "data": {
      "text/plain": [
       "70"
      ]
     },
     "execution_count": 36,
     "metadata": {},
     "output_type": "execute_result"
    }
   ],
   "source": [
    "nilai_andi"
   ]
  },
  {
   "cell_type": "code",
   "execution_count": 37,
   "metadata": {
    "colab": {
     "base_uri": "https://localhost:8080/"
    },
    "id": "dfebPkUfEhey",
    "outputId": "7856e2f6-4d62-4a78-f977-c551ec694d1b"
   },
   "outputs": [
    {
     "name": "stdout",
     "output_type": "stream",
     "text": [
      "70\n"
     ]
    }
   ],
   "source": [
    "print(nilai_andi)"
   ]
  },
  {
   "cell_type": "markdown",
   "metadata": {
    "id": "BazVxr90Ej3x"
   },
   "source": [
    "di Python, sebuah variable tidak terpaku ke tipe data tertentu\n",
    "\n",
    "bisa kita ganti ganti"
   ]
  },
  {
   "cell_type": "code",
   "execution_count": 38,
   "metadata": {
    "colab": {
     "base_uri": "https://localhost:8080/"
    },
    "id": "-DS9nFw3EiMK",
    "outputId": "d05ffd3e-6e54-4647-fb21-034fedb3a706"
   },
   "outputs": [
    {
     "name": "stdout",
     "output_type": "stream",
     "text": [
      "A\n"
     ]
    }
   ],
   "source": [
    "nilai_andi = \"A\"\n",
    "\n",
    "print(nilai_andi)"
   ]
  },
  {
   "cell_type": "code",
   "execution_count": 39,
   "metadata": {
    "colab": {
     "base_uri": "https://localhost:8080/"
    },
    "id": "nNjze-3rEqi9",
    "outputId": "895cb5c5-8c05-49b1-ca9f-fe2edde88c90"
   },
   "outputs": [
    {
     "name": "stdout",
     "output_type": "stream",
     "text": [
      "75.5\n"
     ]
    }
   ],
   "source": [
    "nilai_andi = 75.5\n",
    "\n",
    "print(nilai_andi)"
   ]
  },
  {
   "cell_type": "markdown",
   "metadata": {
    "id": "B3Pv1522E4ox"
   },
   "source": [
    "## Tipe Data Terstruktur\n",
    "selain tipe data simple, kadang kita perlu lebih. Bagaimana kalau kita mau simpan nilai murid murid 1 kelas (ada 6 nilai) apakah kita harus pakai 6 variable berbeda? repot diingatnya, kalau 100 murid, 100 variable?\n",
    "\n",
    "kita pakai tipe data terstruktur, dimana 1 data bisa menyimpan banyak data. 100 angka di 1 data. 100 text di satu data. campuran angka dan text di 1 data.\n",
    "\n",
    "# List\n",
    "- dibuat dengan kurung kotak []\n",
    "- setiap data yang ada di dalam sebuah list, kita pisah dengan koma ,\n",
    "\n",
    "misalkan list berisi nama buah buahan, ada 3 buah:\n",
    "```python\n",
    "[\"apel\", \"jeruk\", \"pisang\"]\n",
    "```\n",
    "\n"
   ]
  },
  {
   "cell_type": "code",
   "execution_count": 40,
   "metadata": {
    "colab": {
     "base_uri": "https://localhost:8080/"
    },
    "id": "rkv_iUaWEtS2",
    "outputId": "730accbd-84ee-4593-df51-720de1fafa74"
   },
   "outputs": [
    {
     "name": "stdout",
     "output_type": "stream",
     "text": [
      "[70, 80, 90, 56, 45, 12]\n"
     ]
    }
   ],
   "source": [
    "# contoh lain\n",
    "nilai_kelas_a = [70, 80, 90, 56, 45, 12]\n",
    "\n",
    "print(nilai_kelas_a)"
   ]
  },
  {
   "cell_type": "code",
   "execution_count": 41,
   "metadata": {
    "colab": {
     "base_uri": "https://localhost:8080/"
    },
    "id": "4CKdDlWJFnHb",
    "outputId": "c4cf8862-8bb6-4587-ecc2-e176c976f711"
   },
   "outputs": [
    {
     "name": "stdout",
     "output_type": "stream",
     "text": [
      "['apel', 'jeruk', 'pisang']\n"
     ]
    }
   ],
   "source": [
    "buah_buahan = [\"apel\", \"jeruk\", \"pisang\"]\n",
    "\n",
    "print(buah_buahan)"
   ]
  },
  {
   "cell_type": "code",
   "execution_count": 42,
   "metadata": {
    "colab": {
     "base_uri": "https://localhost:8080/"
    },
    "id": "6dNqKG4iFvxQ",
    "outputId": "3365b0d6-50a8-4dbe-c985-93912d7978bc"
   },
   "outputs": [
    {
     "name": "stdout",
     "output_type": "stream",
     "text": [
      "['ada string', 555, 1.43, True, []]\n"
     ]
    }
   ],
   "source": [
    "# isi data campur juga boleh\n",
    "\n",
    "random_list = [\"ada string\", 555, 1.43, True, []]\n",
    "\n",
    "print(random_list)"
   ]
  },
  {
   "cell_type": "markdown",
   "metadata": {
    "id": "xDvRo2w0GAWl"
   },
   "source": [
    "karena satu list isinya bisa banyak, bagaimana caranya kita bisa akses data tertentu dalam sebuah list? atau bagaimana caranya kita bisa tambahin/ kurangin/ edit data dalam sebuah list?\n",
    "\n",
    "CRUD - Create Read Update Delete\n",
    "\n",
    "setiap tipe data baru di sebuah bahasa pemrograman, kita akan coba pahami cara bikinnya (Create), cara bacanya (Read), cara edit (Update), dan cara hapus (Delete)\n",
    "\n",
    "untuk list di Python:\n",
    "- membuat kurung kotak [] untuk Create\n",
    "- pakai index, angka integer urut, untuk membaca data di dalam sebuah list (Read)\n",
    "- pakai index, untuk mengakses data tertentu dalam list untuk di ubah (Edit)\n",
    "- bisa juga pakai operator + *\n",
    "- untuk hapus bisa pakai keyword delete, tapi aku lebih rekomen dikosongkan saja list nya, jadi variable tidak ikut hilang"
   ]
  },
  {
   "cell_type": "code",
   "execution_count": 43,
   "metadata": {
    "colab": {
     "base_uri": "https://localhost:8080/"
    },
    "id": "4193wyRRF7zk",
    "outputId": "2fe18678-b2fa-4a9d-b6da-74b8d42b91cc"
   },
   "outputs": [
    {
     "name": "stdout",
     "output_type": "stream",
     "text": [
      "['apel', 'jeruk', 'pisang']\n"
     ]
    }
   ],
   "source": [
    "print(buah_buahan)"
   ]
  },
  {
   "cell_type": "code",
   "execution_count": 44,
   "metadata": {
    "colab": {
     "base_uri": "https://localhost:8080/"
    },
    "id": "1eoQl_K7GseF",
    "outputId": "47cdfacc-b300-48a7-c7db-8aa924dea594"
   },
   "outputs": [
    {
     "name": "stdout",
     "output_type": "stream",
     "text": [
      "apel\n"
     ]
    }
   ],
   "source": [
    "# Create\n",
    "buah_buahan = [\"apel\", \"jeruk\", \"pisang\"]\n",
    "\n",
    "# Read pakai angka urut 0,1,2,3... sesuai posisi item dalam list\n",
    "# di contoh diatas, 0 - \"apel\", 1 - \"jeruk\", 2 - \"pisang\", 3 - error tidak ada data di posisi index 3\n",
    "print(buah_buahan[0])"
   ]
  },
  {
   "cell_type": "code",
   "execution_count": 45,
   "metadata": {
    "colab": {
     "base_uri": "https://localhost:8080/"
    },
    "id": "kP-jfMW8G8ZL",
    "outputId": "7a0e2437-28bd-45ac-e19d-ae37a3da91e7"
   },
   "outputs": [
    {
     "name": "stdout",
     "output_type": "stream",
     "text": [
      "jeruk\n"
     ]
    }
   ],
   "source": [
    "print(buah_buahan[1])"
   ]
  },
  {
   "cell_type": "code",
   "execution_count": 46,
   "metadata": {
    "colab": {
     "base_uri": "https://localhost:8080/"
    },
    "id": "6_IkGJc_G-RM",
    "outputId": "e16e79e1-ab9c-4fe2-8694-24c50a1eca2c"
   },
   "outputs": [
    {
     "name": "stdout",
     "output_type": "stream",
     "text": [
      "pisang\n"
     ]
    }
   ],
   "source": [
    "print(buah_buahan[2])"
   ]
  },
  {
   "cell_type": "code",
   "execution_count": 48,
   "metadata": {
    "colab": {
     "base_uri": "https://localhost:8080/"
    },
    "id": "_Cu8ffOuHB9V",
    "outputId": "73e65ac7-a19e-4414-dca0-49630b006125"
   },
   "outputs": [
    {
     "name": "stdout",
     "output_type": "stream",
     "text": [
      "3\n"
     ]
    }
   ],
   "source": [
    "# pakai keyword len untuk cek ada berapa item dalam sebuah list\n",
    "print(len(buah_buahan))"
   ]
  },
  {
   "cell_type": "markdown",
   "metadata": {
    "id": "q-KoQffNHJtc"
   },
   "source": [
    "kalau len adalah 3, maka index adalah 0,1,2"
   ]
  },
  {
   "cell_type": "code",
   "execution_count": 49,
   "metadata": {
    "colab": {
     "base_uri": "https://localhost:8080/"
    },
    "id": "QN0BzS--HIqZ",
    "outputId": "13660d19-e2dc-403b-d0f8-a264ba80d4cf"
   },
   "outputs": [
    {
     "name": "stdout",
     "output_type": "stream",
     "text": [
      "['apel', 'jeruk', 'pisang']\n"
     ]
    }
   ],
   "source": [
    "# Update\n",
    "print(buah_buahan)"
   ]
  },
  {
   "cell_type": "code",
   "execution_count": 50,
   "metadata": {
    "id": "50TnaheKHhix"
   },
   "outputs": [],
   "source": [
    "# ubah apel menjadi Apel Fuji\n",
    "buah_buahan[0] = \"Apel Fuji\""
   ]
  },
  {
   "cell_type": "code",
   "execution_count": 51,
   "metadata": {
    "colab": {
     "base_uri": "https://localhost:8080/"
    },
    "id": "gF96KZzlHlxS",
    "outputId": "a9a70831-8445-45dd-fbee-77ad20e0b3d3"
   },
   "outputs": [
    {
     "name": "stdout",
     "output_type": "stream",
     "text": [
      "['Apel Fuji', 'jeruk', 'pisang']\n"
     ]
    }
   ],
   "source": [
    "print(buah_buahan)"
   ]
  },
  {
   "cell_type": "code",
   "execution_count": 52,
   "metadata": {
    "colab": {
     "base_uri": "https://localhost:8080/"
    },
    "id": "V8XPHyD-Hm2a",
    "outputId": "34a8346c-0352-4074-9eec-3faae1e90b70"
   },
   "outputs": [
    {
     "name": "stdout",
     "output_type": "stream",
     "text": [
      "['Apel Fuji', 'jeruk', 'pisang', 'kelapa']\n"
     ]
    }
   ],
   "source": [
    "# mau nambah kelapa ke dalam list buah_buahan\n",
    "buah_buahan = buah_buahan + [\"kelapa\"]\n",
    "\n",
    "print(buah_buahan)"
   ]
  },
  {
   "cell_type": "code",
   "execution_count": 53,
   "metadata": {
    "colab": {
     "base_uri": "https://localhost:8080/"
    },
    "id": "ZIgsPf2nHyAu",
    "outputId": "39a6a4dc-5790-49f8-82d0-68f4d2ac1d30"
   },
   "outputs": [
    {
     "name": "stdout",
     "output_type": "stream",
     "text": [
      "['Apel Fuji', 'jeruk', 'pisang', 'kelapa', 'semangka']\n"
     ]
    }
   ],
   "source": [
    "# nambah pakai keyword append, append adalah function milik list\n",
    "buah_buahan.append(\"semangka\")\n",
    "\n",
    "print(buah_buahan)"
   ]
  },
  {
   "cell_type": "markdown",
   "metadata": {
    "id": "NVwRVrVzIKH2"
   },
   "source": [
    "untuk melihat keyword milik list dan apa saja yang bisa dilakukan ke sebuah list, bisa cek dokumentasi dari W3School https://www.w3schools.com/python/python_ref_list.asp"
   ]
  },
  {
   "cell_type": "code",
   "execution_count": 54,
   "metadata": {
    "colab": {
     "base_uri": "https://localhost:8080/"
    },
    "id": "bbCekZICH5c6",
    "outputId": "f363a1e3-784b-4327-f3c2-a3cfe1fad570"
   },
   "outputs": [
    {
     "name": "stdout",
     "output_type": "stream",
     "text": [
      "['jeruk', 'pisang', 'kelapa', 'semangka']\n"
     ]
    }
   ],
   "source": [
    "# untuk hapus item dalam list, pakai keyword\n",
    "buah_buahan.remove(\"Apel Fuji\")\n",
    "\n",
    "print(buah_buahan)"
   ]
  },
  {
   "cell_type": "code",
   "execution_count": 57,
   "metadata": {
    "id": "ecxYj2BCIThk"
   },
   "outputs": [],
   "source": [
    "# terakhir untuk Delete\n",
    "# del buah_buahan\n",
    "buah_buahan = []"
   ]
  },
  {
   "cell_type": "code",
   "execution_count": 58,
   "metadata": {
    "colab": {
     "base_uri": "https://localhost:8080/"
    },
    "id": "epWy1oVvIZp2",
    "outputId": "bb3d3f74-89f7-40f4-f4a8-b9a0319ff842"
   },
   "outputs": [
    {
     "name": "stdout",
     "output_type": "stream",
     "text": [
      "[]\n"
     ]
    }
   ],
   "source": [
    "print(buah_buahan)"
   ]
  },
  {
   "cell_type": "markdown",
   "metadata": {
    "id": "FEpaAmbcIvM9"
   },
   "source": [
    "### Explore edit data untuk tipe data simple\n",
    "- menggunakan operator + - * /\n",
    "- membahas built-in function, fungsionalitas khusus untuk setiap tipe data, sudah dibuatkan oleh Python\n"
   ]
  },
  {
   "cell_type": "code",
   "execution_count": 59,
   "metadata": {
    "colab": {
     "base_uri": "https://localhost:8080/"
    },
    "id": "fRZrdutfIhgZ",
    "outputId": "cf744126-c5cf-4735-bac6-d974742cb075"
   },
   "outputs": [
    {
     "name": "stdout",
     "output_type": "stream",
     "text": [
      "100\n"
     ]
    }
   ],
   "source": [
    "rating = 100\n",
    "\n",
    "print(rating)"
   ]
  },
  {
   "cell_type": "code",
   "execution_count": 60,
   "metadata": {
    "colab": {
     "base_uri": "https://localhost:8080/"
    },
    "id": "h-zacoJcJBH0",
    "outputId": "fef821fa-aebe-470b-a081-8e1f96ee6021"
   },
   "outputs": [
    {
     "name": "stdout",
     "output_type": "stream",
     "text": [
      "157.5\n"
     ]
    }
   ],
   "source": [
    "print(rating + 20 * 3 - 5 / 2)"
   ]
  },
  {
   "cell_type": "code",
   "execution_count": 65,
   "metadata": {
    "colab": {
     "base_uri": "https://localhost:8080/"
    },
    "id": "bjFTDriWJEk2",
    "outputId": "b23b5557-31e6-4b9d-969a-69cc0080720e"
   },
   "outputs": [
    {
     "name": "stdout",
     "output_type": "stream",
     "text": [
      "157.5\n"
     ]
    }
   ],
   "source": [
    "print(rating + (20 * 3) - (5 / 2))"
   ]
  },
  {
   "cell_type": "markdown",
   "metadata": {
    "id": "5RYVuHOaJRmh"
   },
   "source": [
    "operator di python mengikuti peraturan matematik kali bagi tambah kurang"
   ]
  },
  {
   "cell_type": "code",
   "execution_count": 66,
   "metadata": {
    "colab": {
     "base_uri": "https://localhost:8080/"
    },
    "id": "StEeQh_cJH1f",
    "outputId": "1478b852-041a-4068-9dd8-1f8314d1afa5"
   },
   "outputs": [
    {
     "name": "stdout",
     "output_type": "stream",
     "text": [
      "halo\n"
     ]
    }
   ],
   "source": [
    "# untuk string, operator yang diterima hanya + dan *\n",
    "message = \"halo\"\n",
    "\n",
    "print(message)"
   ]
  },
  {
   "cell_type": "code",
   "execution_count": 67,
   "metadata": {
    "colab": {
     "base_uri": "https://localhost:8080/"
    },
    "id": "3EEhUcJYJgiQ",
    "outputId": "b1bcc587-5cbb-4adf-c4dd-036f58b31e5f"
   },
   "outputs": [
    {
     "name": "stdout",
     "output_type": "stream",
     "text": [
      "halo halo Bandung\n"
     ]
    }
   ],
   "source": [
    "print(message + \" halo \" + \"Bandung\")"
   ]
  },
  {
   "cell_type": "code",
   "execution_count": 68,
   "metadata": {
    "colab": {
     "base_uri": "https://localhost:8080/"
    },
    "id": "W38qH1yCJj2J",
    "outputId": "1ce09878-52ed-4f0b-e00f-bb78a7ac0513"
   },
   "outputs": [
    {
     "name": "stdout",
     "output_type": "stream",
     "text": [
      "halohalohalo\n"
     ]
    }
   ],
   "source": [
    "print(message * 3)"
   ]
  },
  {
   "cell_type": "code",
   "execution_count": 71,
   "metadata": {
    "colab": {
     "base_uri": "https://localhost:8080/"
    },
    "id": "NjZXhWfCJlfK",
    "outputId": "8082f56e-e027-44b9-b278-9543b0b1a480"
   },
   "outputs": [
    {
     "name": "stdout",
     "output_type": "stream",
     "text": [
      "malam ini 24 july kita belajar python!\n",
      "Malam Ini 24 July Kita Belajar Python!\n",
      "MALAM INI 24 JULY KITA BELAJAR PYTHON!\n"
     ]
    }
   ],
   "source": [
    "# untuk string, punya built-in function, seperti untuk ubah case\n",
    "message = \"Malam ini 24 JULY kita belajar Python!\"\n",
    "\n",
    "# smallcase\n",
    "print(message.lower())\n",
    "\n",
    "# Title Case\n",
    "print(message.title())\n",
    "\n",
    "# UPPERCASE\n",
    "print(message.upper())"
   ]
  },
  {
   "cell_type": "markdown",
   "metadata": {
    "id": "HRveXnK-KL5e"
   },
   "source": [
    "untuk melihat fungsi fungsi bawaan lainnya bisa ke dokumentasi di https://www.w3schools.com/python/python_ref_string.asp"
   ]
  },
  {
   "cell_type": "markdown",
   "metadata": {
    "id": "w2VZYrfZKlT8"
   },
   "source": [
    "# Dictionary\n",
    "- dibuat dengan {}\n",
    "\n",
    "tipe data mirip List, tapi untuk akses item dalam data ini, tidak menggunakan angka index. pakainya keyword string.\n",
    "\n",
    "setiap item dalam dictionary dibuat sepasang, ada keyword (string) dan ada value (tipe data bebas)\n",
    "\n",
    "```python\n",
    "{\"apel\": 3, \"jeruk\": 12, \"pisang\": 5}\n",
    "```\n",
    "\n",
    "di dictionary diatas ada 3 item. item pertama adalah keyword \"apel\" dengan value integer 3."
   ]
  },
  {
   "cell_type": "code",
   "execution_count": 72,
   "metadata": {
    "colab": {
     "base_uri": "https://localhost:8080/"
    },
    "id": "413oWdCTKA5T",
    "outputId": "bad92ae4-800b-434b-8508-c4c7def7f5af"
   },
   "outputs": [
    {
     "name": "stdout",
     "output_type": "stream",
     "text": [
      "{'apel': 3, 'jeruk': 12, 'pisang': 5}\n"
     ]
    }
   ],
   "source": [
    "# create\n",
    "stok_buah = {\"apel\": 3, \"jeruk\": 12, \"pisang\": 5}\n",
    "\n",
    "print(stok_buah)"
   ]
  },
  {
   "cell_type": "code",
   "execution_count": 73,
   "metadata": {
    "colab": {
     "base_uri": "https://localhost:8080/"
    },
    "id": "xmY7c7FhLSO8",
    "outputId": "1e84a8d8-dbe3-4500-de4a-ffbf3e4ff699"
   },
   "outputs": [
    {
     "name": "stdout",
     "output_type": "stream",
     "text": [
      "3\n"
     ]
    }
   ],
   "source": [
    "# read\n",
    "\n",
    "# stok apel berapa?\n",
    "print(stok_buah[\"apel\"])"
   ]
  },
  {
   "cell_type": "code",
   "execution_count": 74,
   "metadata": {
    "colab": {
     "base_uri": "https://localhost:8080/"
    },
    "id": "kyYZdejpLbQF",
    "outputId": "56107151-ecb7-4586-aa57-00156fbdea47"
   },
   "outputs": [
    {
     "name": "stdout",
     "output_type": "stream",
     "text": [
      "12\n",
      "5\n"
     ]
    }
   ],
   "source": [
    "print(stok_buah[\"jeruk\"])\n",
    "print(stok_buah[\"pisang\"])"
   ]
  },
  {
   "cell_type": "code",
   "execution_count": 75,
   "metadata": {
    "colab": {
     "base_uri": "https://localhost:8080/"
    },
    "id": "JkpYp9UfLfhu",
    "outputId": "dff74b24-4c6d-4370-8b2b-32cd0f6ffd02"
   },
   "outputs": [
    {
     "name": "stdout",
     "output_type": "stream",
     "text": [
      "{'apel': 3, 'jeruk': 12, 'pisang': 5, 'semangka': 1}\n"
     ]
    }
   ],
   "source": [
    "# update\n",
    "# nambahin buah baru, misalkan semangka\n",
    "\n",
    "stok_buah[\"semangka\"] = 1\n",
    "\n",
    "print(stok_buah)"
   ]
  },
  {
   "cell_type": "code",
   "execution_count": 76,
   "metadata": {
    "colab": {
     "base_uri": "https://localhost:8080/"
    },
    "id": "vP0vJYsZLneR",
    "outputId": "5869d875-3b79-4686-897a-ecfa7b232f73"
   },
   "outputs": [
    {
     "name": "stdout",
     "output_type": "stream",
     "text": [
      "{'apel': 3, 'jeruk': 12, 'pisang': 5, 'semangka': 2}\n"
     ]
    }
   ],
   "source": [
    "# ubah stok tekniknya sama, misalkan semangka ada 2\n",
    "stok_buah[\"semangka\"] = 2\n",
    "\n",
    "print(stok_buah)"
   ]
  },
  {
   "cell_type": "code",
   "execution_count": 77,
   "metadata": {
    "colab": {
     "base_uri": "https://localhost:8080/"
    },
    "id": "xktRFwk4Ltfd",
    "outputId": "d60bf461-5c0a-47ed-aae3-658c1f3eee47"
   },
   "outputs": [
    {
     "name": "stdout",
     "output_type": "stream",
     "text": [
      "{'apel': 3, 'jeruk': 12, 'pisang': 5}\n"
     ]
    }
   ],
   "source": [
    "# hapus\n",
    "# hapus sebuah keyword, sebuah item\n",
    "del stok_buah[\"semangka\"]\n",
    "\n",
    "print(stok_buah)"
   ]
  },
  {
   "cell_type": "code",
   "execution_count": 78,
   "metadata": {
    "colab": {
     "base_uri": "https://localhost:8080/"
    },
    "id": "ni-TWUf7L6v5",
    "outputId": "ba9bb9d7-962c-4063-c53b-193310c8bf09"
   },
   "outputs": [
    {
     "name": "stdout",
     "output_type": "stream",
     "text": [
      "{'apel': 3, 'jeruk': 12, 'pisang': 5, 'semangka': 0}\n"
     ]
    }
   ],
   "source": [
    "# rekomennya untuk hapus pakai default value saja\n",
    "# di kasus ini, kalau semangka habis, kita set aja stok ke 0, bukan di delete\n",
    "stok_buah[\"semangka\"] = 0\n",
    "\n",
    "print(stok_buah)"
   ]
  },
  {
   "cell_type": "code",
   "execution_count": 79,
   "metadata": {
    "colab": {
     "base_uri": "https://localhost:8080/"
    },
    "id": "W3WRtUmYMFL9",
    "outputId": "35a96840-b086-4d85-ce6c-3cad6c59601b"
   },
   "outputs": [
    {
     "name": "stdout",
     "output_type": "stream",
     "text": [
      "{}\n"
     ]
    }
   ],
   "source": [
    "# untuk dictionary nya sendiri, kalau mau dihapus, aku rekomen set ke {}\n",
    "stok_buah = {}\n",
    "\n",
    "print(stok_buah)"
   ]
  },
  {
   "cell_type": "markdown",
   "metadata": {
    "id": "1GcmKD8kMZAY"
   },
   "source": [
    "untuk dictionary, beberapa built-in function yang mau kita bahas termasuk:\n",
    "- melihat keys nya apa saja\n",
    "- melihat values nya apa saja\n",
    "- melihat items nya apa saja"
   ]
  },
  {
   "cell_type": "code",
   "execution_count": 80,
   "metadata": {
    "colab": {
     "base_uri": "https://localhost:8080/"
    },
    "id": "Il18GX9tMQPC",
    "outputId": "704e3b28-a7b9-4e05-b2e6-bd8f47ac17ba"
   },
   "outputs": [
    {
     "name": "stdout",
     "output_type": "stream",
     "text": [
      "dict_keys(['apel', 'jeruk', 'pisang'])\n"
     ]
    }
   ],
   "source": [
    "# keys dalam sebuah dictionary\n",
    "stok_buah = {\"apel\": 3, \"jeruk\": 12, \"pisang\": 5}\n",
    "\n",
    "print(stok_buah.keys())"
   ]
  },
  {
   "cell_type": "markdown",
   "metadata": {
    "id": "NMnJfo-MM0G2"
   },
   "source": [
    "perhatikan tipe data yang dikasih adalah dict_keys bukan list. kalau kita mau pakai teknik list, amannya kita convert jadi tipe data list.\n",
    "\n",
    "konversi data menjadi list, kita kurung datanya dengan keyword list"
   ]
  },
  {
   "cell_type": "code",
   "execution_count": 81,
   "metadata": {
    "colab": {
     "base_uri": "https://localhost:8080/"
    },
    "id": "8mK2lbTxMyT-",
    "outputId": "44f5aba4-3103-4e09-d745-8e5161471dd3"
   },
   "outputs": [
    {
     "name": "stdout",
     "output_type": "stream",
     "text": [
      "['apel', 'jeruk', 'pisang']\n"
     ]
    }
   ],
   "source": [
    "stok_buah_keys = list(stok_buah.keys())\n",
    "\n",
    "print(stok_buah_keys)"
   ]
  },
  {
   "cell_type": "code",
   "execution_count": 82,
   "metadata": {
    "colab": {
     "base_uri": "https://localhost:8080/"
    },
    "id": "RGyZGQmdNA9j",
    "outputId": "f09639cd-8c91-4712-a879-d47b29b319a6"
   },
   "outputs": [
    {
     "name": "stdout",
     "output_type": "stream",
     "text": [
      "dict_values([3, 12, 5])\n"
     ]
    }
   ],
   "source": [
    "# values dalam sebuah dictionary\n",
    "print(stok_buah.values())"
   ]
  },
  {
   "cell_type": "code",
   "execution_count": 83,
   "metadata": {
    "colab": {
     "base_uri": "https://localhost:8080/"
    },
    "id": "_bo_6g1ENG-t",
    "outputId": "12e2cab2-767c-4d64-bae9-88741c70637a"
   },
   "outputs": [
    {
     "name": "stdout",
     "output_type": "stream",
     "text": [
      "dict_items([('apel', 3), ('jeruk', 12), ('pisang', 5)])\n"
     ]
    }
   ],
   "source": [
    "# items dalam sebuah dictionary\n",
    "print(stok_buah.items())"
   ]
  },
  {
   "cell_type": "markdown",
   "metadata": {
    "id": "4i6R3jjfNMw2"
   },
   "source": [
    "untuk items, dia kasih kita sebuah dict_items berisi banyak tuple\n",
    "\n",
    "() [] {}\n",
    "\n",
    "## tuple\n",
    "- dibuat dengan ()\n",
    "\n",
    "mirip list, tipe data terstruktur, hanya sebuah tuple tidak bisa di edit\n",
    "\n",
    "dibuat\n",
    "\n",
    "dibaca\n",
    "\n",
    "TIDAK di edit"
   ]
  },
  {
   "cell_type": "code",
   "execution_count": 84,
   "metadata": {
    "colab": {
     "base_uri": "https://localhost:8080/"
    },
    "id": "KWtbfvRuNLAo",
    "outputId": "eed4ab37-b5ce-48e0-d85d-c1383ae3bcb7"
   },
   "outputs": [
    {
     "name": "stdout",
     "output_type": "stream",
     "text": [
      "('Andi', 70)\n"
     ]
    }
   ],
   "source": [
    "nilai_andi = (\"Andi\", 70)\n",
    "\n",
    "print(nilai_andi)"
   ]
  },
  {
   "cell_type": "code",
   "execution_count": 88,
   "metadata": {
    "colab": {
     "base_uri": "https://localhost:8080/"
    },
    "id": "UwZDTwclN-QR",
    "outputId": "04e9ab9b-3854-4c87-e05b-ac48a17b7793"
   },
   "outputs": [
    {
     "name": "stdout",
     "output_type": "stream",
     "text": [
      "Andi\n",
      "70\n"
     ]
    }
   ],
   "source": [
    "print(nilai_andi[0])\n",
    "print(nilai_andi[1])"
   ]
  },
  {
   "cell_type": "code",
   "execution_count": null,
   "metadata": {
    "id": "QAzfAYXfOJHW"
   },
   "outputs": [],
   "source": []
  }
 ],
 "metadata": {
  "colab": {
   "provenance": []
  },
  "kernelspec": {
   "display_name": "Python 3 (ipykernel)",
   "language": "python",
   "name": "python3"
  },
  "language_info": {
   "codemirror_mode": {
    "name": "ipython",
    "version": 3
   },
   "file_extension": ".py",
   "mimetype": "text/x-python",
   "name": "python",
   "nbconvert_exporter": "python",
   "pygments_lexer": "ipython3",
   "version": "3.9.13"
  }
 },
 "nbformat": 4,
 "nbformat_minor": 4
}
