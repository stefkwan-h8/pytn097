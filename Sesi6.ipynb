{
 "cells": [
  {
   "cell_type": "markdown",
   "metadata": {},
   "source": [
    "# Pandas - Exploratory Data Analysis\n",
    "kita akan meng-explore data menggunakan bantuan Pandas\n",
    "\n",
    "- handle missing values\n",
    "- handle invalid values\n",
    "- merapikan datanya sebisa mungkin\n",
    "- mencari pattern di data"
   ]
  },
  {
   "cell_type": "code",
   "execution_count": null,
   "metadata": {},
   "outputs": [],
   "source": []
  }
 ],
 "metadata": {
  "language_info": {
   "name": "python"
  },
  "orig_nbformat": 4
 },
 "nbformat": 4,
 "nbformat_minor": 2
}
