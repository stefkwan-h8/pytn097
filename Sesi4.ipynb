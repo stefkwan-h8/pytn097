{
  "nbformat": 4,
  "nbformat_minor": 0,
  "metadata": {
    "colab": {
      "provenance": []
    },
    "kernelspec": {
      "name": "python3",
      "display_name": "Python 3"
    },
    "language_info": {
      "name": "python"
    }
  },
  "cells": [
    {
      "cell_type": "markdown",
      "source": [
        "# Numpy\n",
        "kita akan belajar menggunakan package Numpy di Python\n",
        "\n",
        " - Tipe data Numpy Array\n",
        "  - CRUD create read update delete sebuah numpy array\n",
        " - cara kalkulasi angka menggunakan Numpy"
      ],
      "metadata": {
        "id": "phyuV4PQJgdy"
      }
    },
    {
      "cell_type": "code",
      "source": [
        "# semua package yang kita gunakan biasakan di import di satu tempat saja di notebook, di awal\n",
        "import numpy as np"
      ],
      "metadata": {
        "id": "nsaUw-FWJ0bx"
      },
      "execution_count": 1,
      "outputs": []
    },
    {
      "cell_type": "code",
      "source": [
        "print([1,2,3,4])"
      ],
      "metadata": {
        "colab": {
          "base_uri": "https://localhost:8080/"
        },
        "id": "Wkm6umilJ_mY",
        "outputId": "845a6218-5e17-4a5b-8d54-a4d130484780"
      },
      "execution_count": 2,
      "outputs": [
        {
          "output_type": "stream",
          "name": "stdout",
          "text": [
            "[1, 2, 3, 4]\n"
          ]
        }
      ]
    },
    {
      "cell_type": "code",
      "source": [
        "print(np.array([1,2,3,4]))"
      ],
      "metadata": {
        "colab": {
          "base_uri": "https://localhost:8080/"
        },
        "id": "3XCaM-sQKP7l",
        "outputId": "36499c9f-214e-4857-bf3c-144fea007c15"
      },
      "execution_count": 3,
      "outputs": [
        {
          "output_type": "stream",
          "name": "stdout",
          "text": [
            "[1 2 3 4]\n"
          ]
        }
      ]
    },
    {
      "cell_type": "code",
      "source": [
        "print(np.array([[1,2],[3,4]]))"
      ],
      "metadata": {
        "colab": {
          "base_uri": "https://localhost:8080/"
        },
        "id": "ZBabX6gEKSj-",
        "outputId": "b6652925-c657-4a04-f2ba-7f99616e14f1"
      },
      "execution_count": 4,
      "outputs": [
        {
          "output_type": "stream",
          "name": "stdout",
          "text": [
            "[[1 2]\n",
            " [3 4]]\n"
          ]
        }
      ]
    },
    {
      "cell_type": "markdown",
      "source": [
        "cara mudah untuk membuat numpy array adalah dengan np.array()\n",
        "\n",
        "di dalam function np.array() tersebut kita isi dengan list angka\n",
        "\n",
        "dengan begitu kita akan dapat (hasil return) sebuah numpy array"
      ],
      "metadata": {
        "id": "yM0Kaj94Kgjr"
      }
    },
    {
      "cell_type": "code",
      "source": [
        "a = np.array([1,2,3])\n",
        "\n",
        "print(a, type(a))"
      ],
      "metadata": {
        "colab": {
          "base_uri": "https://localhost:8080/"
        },
        "id": "z7RTb4zfKdwj",
        "outputId": "d8a8b42b-a042-424c-d826-a1307e3b9bd0"
      },
      "execution_count": 5,
      "outputs": [
        {
          "output_type": "stream",
          "name": "stdout",
          "text": [
            "[1 2 3] <class 'numpy.ndarray'>\n"
          ]
        }
      ]
    },
    {
      "cell_type": "markdown",
      "source": [
        "selain menggunakan sebuah list isi angka yang kita pass sebagai argumen ke function `np.array()` masih ada banyak cara lain untuk membuat sebuah numpy array:\n",
        "\n",
        "1. numpy array isi angka 0 semua, `np.zeros()`\n",
        "2. isi angka 1 semua, `np.ones()`\n",
        "3. isi angka random, `np.random.random()`\n",
        "4. isi kosong, kita tidak peduli isinya apa, `np.empty()`\n",
        "5. isi angka urut, cara tulisnya seperti saat kita bikin range, `np.arange()`"
      ],
      "metadata": {
        "id": "Qi_sTOLgLmH0"
      }
    },
    {
      "cell_type": "code",
      "source": [
        "# numpy zeros, kita isi satu int atau tuple isi int untuk menandakan berapa banyak angka 0 yang kita mau di np array ini\n",
        "b = np.zeros(10)\n",
        "\n",
        "print(b)"
      ],
      "metadata": {
        "colab": {
          "base_uri": "https://localhost:8080/"
        },
        "id": "TOhFo8eXLKNe",
        "outputId": "7c0d0922-5c96-477e-c341-d81072b45172"
      },
      "execution_count": 6,
      "outputs": [
        {
          "output_type": "stream",
          "name": "stdout",
          "text": [
            "[0. 0. 0. 0. 0. 0. 0. 0. 0. 0.]\n"
          ]
        }
      ]
    },
    {
      "cell_type": "code",
      "source": [
        "print(type(b))"
      ],
      "metadata": {
        "colab": {
          "base_uri": "https://localhost:8080/"
        },
        "id": "gSSV00y6Oc43",
        "outputId": "0714b1a0-b65d-4dcb-c492-fee1878dab7e"
      },
      "execution_count": 7,
      "outputs": [
        {
          "output_type": "stream",
          "name": "stdout",
          "text": [
            "<class 'numpy.ndarray'>\n"
          ]
        }
      ]
    },
    {
      "cell_type": "markdown",
      "source": [
        "kita akan paling sering memanipulasi data 2 dimensi, data tabular, ada kolom ada baris.\n",
        "\n",
        "kita akan membuat np array 2 dimensi dengan memberi tau pakai tuple, \"shape\" nya, bentuk dari numpy array ini\n",
        "\n",
        "ada berapa baris, ada berapa kolom. ada berapa item di dimensi ke-1 dan ada berapa item di dimensi ke-2."
      ],
      "metadata": {
        "id": "7SNhU1hYO0Pk"
      }
    },
    {
      "cell_type": "code",
      "source": [
        "b2 = np.zeros((3,4))\n",
        "\n",
        "print(b2)"
      ],
      "metadata": {
        "colab": {
          "base_uri": "https://localhost:8080/"
        },
        "id": "LWCzKVOzOf44",
        "outputId": "55b93d75-d2f5-4f5d-f7ce-da86b080f9a5"
      },
      "execution_count": 8,
      "outputs": [
        {
          "output_type": "stream",
          "name": "stdout",
          "text": [
            "[[0. 0. 0. 0.]\n",
            " [0. 0. 0. 0.]\n",
            " [0. 0. 0. 0.]]\n"
          ]
        }
      ]
    },
    {
      "cell_type": "code",
      "source": [
        "# ones\n",
        "c = np.ones(8)\n",
        "c2 = np.ones((2, 6))\n",
        "\n",
        "print(c)\n",
        "print(c2)"
      ],
      "metadata": {
        "colab": {
          "base_uri": "https://localhost:8080/"
        },
        "id": "u1MotqVqPLXy",
        "outputId": "63734e5b-8807-4e79-877b-6a3736563edf"
      },
      "execution_count": 9,
      "outputs": [
        {
          "output_type": "stream",
          "name": "stdout",
          "text": [
            "[1. 1. 1. 1. 1. 1. 1. 1.]\n",
            "[[1. 1. 1. 1. 1. 1.]\n",
            " [1. 1. 1. 1. 1. 1.]]\n"
          ]
        }
      ]
    },
    {
      "cell_type": "code",
      "source": [
        "# random\n",
        "d = np.random.random(8)\n",
        "d2 = np.random.random((2, 6))\n",
        "\n",
        "print(d)\n",
        "print(d2)"
      ],
      "metadata": {
        "colab": {
          "base_uri": "https://localhost:8080/"
        },
        "id": "k5x-Da8sPYM3",
        "outputId": "d2f1f518-37d7-4c9a-d004-4174bbf4d433"
      },
      "execution_count": 13,
      "outputs": [
        {
          "output_type": "stream",
          "name": "stdout",
          "text": [
            "[0.72883316 0.97118143 0.70641272 0.55423304 0.32707849 0.78207457\n",
            " 0.42579818 0.59847518]\n",
            "[[0.04067977 0.501135   0.1327426  0.06722066 0.26730664 0.28630068]\n",
            " [0.31446842 0.44514548 0.36805876 0.45557482 0.96358055 0.58826154]]\n"
          ]
        }
      ]
    },
    {
      "cell_type": "markdown",
      "source": [
        "kenapa random 2 kali random.random? karena sebenarnya ada banyak cara untuk generate random numbers, bisa juga kita minta random.randint khusus integer, random.rand, random.... masi banyak lainnya.\n",
        "\n",
        "kali ini kita fokus ke 1 dulu saja, random.random"
      ],
      "metadata": {
        "id": "GdJgKO07PsTb"
      }
    },
    {
      "cell_type": "code",
      "source": [
        "# empty\n",
        "# isi np.empty kita tidak peduli, bisa 0 semua, 1 semua, random, atau angka lainnya\n",
        "\n",
        "e = np.empty(3)\n",
        "e2 = np.empty((5, 2))\n",
        "\n",
        "print(e)\n",
        "print(e2)"
      ],
      "metadata": {
        "colab": {
          "base_uri": "https://localhost:8080/"
        },
        "id": "ruMmTpslPiAs",
        "outputId": "c7a822ff-ccd0-4b5a-e27e-7e177a26e0d2"
      },
      "execution_count": 15,
      "outputs": [
        {
          "output_type": "stream",
          "name": "stdout",
          "text": [
            "[1. 1. 1.]\n",
            "[[0. 0.]\n",
            " [0. 0.]\n",
            " [0. 0.]\n",
            " [0. 0.]\n",
            " [0. 0.]]\n"
          ]
        }
      ]
    },
    {
      "cell_type": "markdown",
      "source": [
        "untuk np.arange, cara isinya sedikit berbeda dengan yang lain. karena dia lebih mirip cara isi range"
      ],
      "metadata": {
        "id": "dNp_wus-QWdz"
      }
    },
    {
      "cell_type": "code",
      "source": [
        "# np.arange()\n",
        "\n",
        "r = np.arange(5)\n",
        "print(r)"
      ],
      "metadata": {
        "colab": {
          "base_uri": "https://localhost:8080/"
        },
        "id": "Ii5EeH-YQH08",
        "outputId": "6e7b69c6-5d7a-4831-c123-dcc6e9290e6c"
      },
      "execution_count": 16,
      "outputs": [
        {
          "output_type": "stream",
          "name": "stdout",
          "text": [
            "[0 1 2 3 4]\n"
          ]
        }
      ]
    },
    {
      "cell_type": "code",
      "source": [
        "r = np.arange(5, 20)\n",
        "print(r)"
      ],
      "metadata": {
        "colab": {
          "base_uri": "https://localhost:8080/"
        },
        "id": "KvnLLksMQq-r",
        "outputId": "35941a1d-0f7f-4739-e4a5-13b54fb291c2"
      },
      "execution_count": 17,
      "outputs": [
        {
          "output_type": "stream",
          "name": "stdout",
          "text": [
            "[ 5  6  7  8  9 10 11 12 13 14 15 16 17 18 19]\n"
          ]
        }
      ]
    },
    {
      "cell_type": "code",
      "source": [
        "r = np.arange(5, 20, 7)\n",
        "print(r)"
      ],
      "metadata": {
        "colab": {
          "base_uri": "https://localhost:8080/"
        },
        "id": "gncI8pjhQtD7",
        "outputId": "4b9aa08c-6d43-4f0c-db05-652d18ec4744"
      },
      "execution_count": 18,
      "outputs": [
        {
          "output_type": "stream",
          "name": "stdout",
          "text": [
            "[ 5 12 19]\n"
          ]
        }
      ]
    },
    {
      "cell_type": "markdown",
      "source": [
        "kita sudah pelajari cara membuat numpy array\n",
        "- numpy array 1 dimensi\n",
        "- numpy array 2 dimensi\n",
        "- numpy array yang isinya tergantung list kita isi apa\n",
        "- 0 semua\n",
        "- 1 semua\n",
        "- random\n",
        "- tidak peduli isi, bentuk saja\n",
        "- angka urut\n",
        "\n",
        "berikutnya kita pelajari cara baca sebuah numpy array.\n",
        "\n",
        "selain untuk membaca angka di posisi tertentu di sebuah numpy array, kita juga bisa minta informasi tentang numpy array tersebut:\n",
        "- shape, ada berapa dimensi numpy array ini? berapa baris, berapa kolom?\n",
        "- ndim, ada berapa dimensi\n",
        "- size, jumlah item, ada berapa angka di dalam numpy array ini?"
      ],
      "metadata": {
        "id": "Zpu9FxTxQ6v9"
      }
    },
    {
      "cell_type": "code",
      "source": [
        "# misalakan kita mau cek numpy array b, dan b2\n",
        "\n",
        "print(b)\n",
        "print(b.shape)\n",
        "print(b.ndim)\n",
        "print(b.size)"
      ],
      "metadata": {
        "colab": {
          "base_uri": "https://localhost:8080/"
        },
        "id": "aarV2VlYQvkM",
        "outputId": "1b2a395f-5336-4906-fa86-3f20b44598f0"
      },
      "execution_count": 21,
      "outputs": [
        {
          "output_type": "stream",
          "name": "stdout",
          "text": [
            "[0. 0. 0. 0. 0. 0. 0. 0. 0. 0.]\n",
            "(10,)\n",
            "1\n",
            "10\n"
          ]
        }
      ]
    },
    {
      "cell_type": "markdown",
      "source": [
        "b adalah sebuah numpy array berisi angka 0\n",
        "\n",
        "shape menunjukkan bentuknya (10,) ada 10 item di dimensi pertama\n",
        "\n",
        "ndim menunjukkan dimensinya 1, bahwa b adalah numpy array 1 dimensi\n",
        "\n",
        "size menunjukkan 10, ada 10 angka di dalam numpy array b"
      ],
      "metadata": {
        "id": "jYWzMza4RpJD"
      }
    },
    {
      "cell_type": "code",
      "source": [
        "print(len(b))"
      ],
      "metadata": {
        "colab": {
          "base_uri": "https://localhost:8080/"
        },
        "id": "fyBtdqMdRjZc",
        "outputId": "45564383-fe06-4b94-bf61-2584c7c1f6cd"
      },
      "execution_count": 22,
      "outputs": [
        {
          "output_type": "stream",
          "name": "stdout",
          "text": [
            "10\n"
          ]
        }
      ]
    },
    {
      "cell_type": "markdown",
      "source": [
        "size bisa juga digantikan function bawaan python, len, untuk menghitung ada berapa item di dalam array/ list/ string tersebut."
      ],
      "metadata": {
        "id": "LfD0mpGeSBKk"
      }
    },
    {
      "cell_type": "code",
      "source": [
        "print(b2)\n",
        "print(b2.shape)\n",
        "print(b2.ndim)\n",
        "print(b2.size)"
      ],
      "metadata": {
        "colab": {
          "base_uri": "https://localhost:8080/"
        },
        "id": "5Y0rnso3SIki",
        "outputId": "0df8e3b2-f26d-4073-d04d-981ea5032618"
      },
      "execution_count": 24,
      "outputs": [
        {
          "output_type": "stream",
          "name": "stdout",
          "text": [
            "[[0. 0. 0. 0.]\n",
            " [0. 0. 0. 0.]\n",
            " [0. 0. 0. 0.]]\n",
            "(3, 4)\n",
            "2\n",
            "12\n"
          ]
        }
      ]
    },
    {
      "cell_type": "markdown",
      "source": [
        "disini karena b2 adalah sebuah numpy array 2 dimensi, kita bisa lihat kalau:\n",
        "- shape memiliki 2 angka, (3,4), ada 3 item di dimensi pertama, 3 kali [0,0,0,0]. lalu ada 4 item di dimensi kedua, ada 4 angka 0 di dalam sebuah item dimensi pertama.\n",
        "- ndim bilang 2, untuk 2 dimensi\n",
        "- size bilang 12, ada 12 angka 0 di dalam array b2"
      ],
      "metadata": {
        "id": "o3LhlT1sTE5T"
      }
    },
    {
      "cell_type": "markdown",
      "source": [
        "### n-dimensional array\n",
        "sebenarnya numpy array bisa lebih dari 2 dimensi. dia bisa memiliki 1,2,3,4,5,.... unlimited dimensi. python bisa handle hal tersebut.\n",
        "\n",
        "hanya di dunia riil, biasanya kita paling sering handle data di 2 dimensi. jadi contoh contoh di kelas kedepannya hampir semuanya di 2 dimensi."
      ],
      "metadata": {
        "id": "uHKQXrCrTcFL"
      }
    },
    {
      "cell_type": "code",
      "source": [
        "# contoh data 3 dimensi\n",
        "b3 = np.ones((2,3,5))\n",
        "print(b3)"
      ],
      "metadata": {
        "colab": {
          "base_uri": "https://localhost:8080/"
        },
        "id": "qGUDiBiiSguF",
        "outputId": "71843023-450a-424c-c67e-093dee3fbcaa"
      },
      "execution_count": 26,
      "outputs": [
        {
          "output_type": "stream",
          "name": "stdout",
          "text": [
            "[[[1. 1. 1. 1. 1.]\n",
            "  [1. 1. 1. 1. 1.]\n",
            "  [1. 1. 1. 1. 1.]]\n",
            "\n",
            " [[1. 1. 1. 1. 1.]\n",
            "  [1. 1. 1. 1. 1.]\n",
            "  [1. 1. 1. 1. 1.]]]\n"
          ]
        }
      ]
    },
    {
      "cell_type": "markdown",
      "source": [
        "### append delete sort\n"
      ],
      "metadata": {
        "id": "gApVZI9PUKOr"
      }
    },
    {
      "cell_type": "code",
      "source": [
        "arr_urut = np.array([1,2,3,4,5,6])\n",
        "\n",
        "print(arr_urut)"
      ],
      "metadata": {
        "colab": {
          "base_uri": "https://localhost:8080/"
        },
        "id": "yfMGGoE0T50T",
        "outputId": "73174bc3-0a1d-4d75-926d-41dec860a1c3"
      },
      "execution_count": 29,
      "outputs": [
        {
          "output_type": "stream",
          "name": "stdout",
          "text": [
            "[1 2 3 4 5 6]\n"
          ]
        }
      ]
    },
    {
      "cell_type": "code",
      "source": [
        "arr_baru = np.append(arr_urut, 7)\n",
        "\n",
        "print(arr_baru)"
      ],
      "metadata": {
        "colab": {
          "base_uri": "https://localhost:8080/"
        },
        "id": "JRapcswPX1Zl",
        "outputId": "f35595e4-84fa-4031-813d-8b0edd73839c"
      },
      "execution_count": 31,
      "outputs": [
        {
          "output_type": "stream",
          "name": "stdout",
          "text": [
            "[1 2 3 4 5 6 7]\n"
          ]
        }
      ]
    },
    {
      "cell_type": "code",
      "source": [
        "print(arr_urut)"
      ],
      "metadata": {
        "colab": {
          "base_uri": "https://localhost:8080/"
        },
        "id": "KVbMBfCrYSkZ",
        "outputId": "5f19fa3f-4640-4fd4-ad08-7ea3f8e73331"
      },
      "execution_count": 32,
      "outputs": [
        {
          "output_type": "stream",
          "name": "stdout",
          "text": [
            "[1 2 3 4 5 6]\n"
          ]
        }
      ]
    },
    {
      "cell_type": "code",
      "source": [
        "# append\n",
        "arr_baru = np.append(arr_urut, [[7,8],[10,12]])\n",
        "\n",
        "print(arr_baru)"
      ],
      "metadata": {
        "colab": {
          "base_uri": "https://localhost:8080/"
        },
        "id": "-eU1Y9xpYY07",
        "outputId": "faf45c59-3e00-4148-bc12-c583df8b0aef"
      },
      "execution_count": 34,
      "outputs": [
        {
          "output_type": "stream",
          "name": "stdout",
          "text": [
            "[ 1  2  3  4  5  6  7  8 10 12]\n"
          ]
        }
      ]
    },
    {
      "cell_type": "code",
      "source": [
        "# delete\n",
        "arr_baru = np.delete(arr_urut, [0,2])\n",
        "\n",
        "print(arr_baru)"
      ],
      "metadata": {
        "colab": {
          "base_uri": "https://localhost:8080/"
        },
        "id": "N_iV8SecYwI9",
        "outputId": "7bb84c74-11bf-4c48-8d31-e31225152a33"
      },
      "execution_count": 35,
      "outputs": [
        {
          "output_type": "stream",
          "name": "stdout",
          "text": [
            "[2 4 5 6]\n"
          ]
        }
      ]
    },
    {
      "cell_type": "code",
      "source": [
        "# sort\n",
        "arr_berantakan = np.array([456,234,-23,54,87,2,-1238])\n",
        "\n",
        "print(arr_berantakan)\n",
        "\n",
        "arr_sorted = np.sort(arr_berantakan)\n",
        "\n",
        "print(arr_sorted)"
      ],
      "metadata": {
        "colab": {
          "base_uri": "https://localhost:8080/"
        },
        "id": "xgOZLWoxZNzx",
        "outputId": "13fed27e-a956-46ab-826f-e87c6a2ad875"
      },
      "execution_count": 36,
      "outputs": [
        {
          "output_type": "stream",
          "name": "stdout",
          "text": [
            "[  456   234   -23    54    87     2 -1238]\n",
            "[-1238   -23     2    54    87   234   456]\n"
          ]
        }
      ]
    },
    {
      "cell_type": "markdown",
      "source": [
        "## Reshape\n",
        "kita bisa mengubah shape sebuah numpy array\n",
        "\n",
        "dengan catatan size sebelum dan sesudah di reshape sama.\n",
        "\n",
        "misalakan numpy array shape (2,3) berarti ada 6 angka di dalam numpy array tersebut, size 6, kita bisa reshape menjadi (3,2), menjadi (6,1), menjadi (1,6), atau (6,) satu dimensi isi 6 angka."
      ],
      "metadata": {
        "id": "zlaAVIxrZ_zs"
      }
    },
    {
      "cell_type": "code",
      "source": [
        "arr_new = np.arange(6)\n",
        "\n",
        "print(arr_new)\n",
        "print(arr_new.shape, \"shape array arr_new\")"
      ],
      "metadata": {
        "colab": {
          "base_uri": "https://localhost:8080/"
        },
        "id": "LnZSz9-yZfeB",
        "outputId": "d000a411-e195-45b9-ba11-5eb2ef64eb61"
      },
      "execution_count": 39,
      "outputs": [
        {
          "output_type": "stream",
          "name": "stdout",
          "text": [
            "[0 1 2 3 4 5]\n",
            "(6,) shape array arr_new\n"
          ]
        }
      ]
    },
    {
      "cell_type": "code",
      "source": [
        "arr_reshaped = arr_new.reshape((2,3))\n",
        "print(arr_reshaped, \"di reshape menjadi (2,3) 2 dimensi dengan 2 baris 3 kolom\")"
      ],
      "metadata": {
        "colab": {
          "base_uri": "https://localhost:8080/"
        },
        "id": "NYjk6UieaEBZ",
        "outputId": "9824705d-d8d0-4c8b-fc63-6dd45c6a4868"
      },
      "execution_count": 40,
      "outputs": [
        {
          "output_type": "stream",
          "name": "stdout",
          "text": [
            "[[0 1 2]\n",
            " [3 4 5]] di reshape menjadi (2,3) 2 dimensi dengan 2 baris 3 kolom\n"
          ]
        }
      ]
    },
    {
      "cell_type": "code",
      "source": [
        "arr_reshaped = arr_new.reshape((3,2))\n",
        "print(arr_reshaped, arr_reshaped.shape)\n",
        "\n",
        "arr_reshaped = arr_new.reshape((6,1))\n",
        "print(arr_reshaped, arr_reshaped.shape)\n",
        "\n",
        "arr_reshaped = arr_new.reshape((1,6))\n",
        "print(arr_reshaped, arr_reshaped.shape)\n",
        "\n",
        "arr_reshaped = arr_new.reshape((3,2,1))\n",
        "print(arr_reshaped, arr_reshaped.shape)"
      ],
      "metadata": {
        "colab": {
          "base_uri": "https://localhost:8080/"
        },
        "id": "RNaLJ1Nmao3g",
        "outputId": "8d9040ae-547d-4a8c-a98c-49c4fec4f2d3"
      },
      "execution_count": 41,
      "outputs": [
        {
          "output_type": "stream",
          "name": "stdout",
          "text": [
            "[[0 1]\n",
            " [2 3]\n",
            " [4 5]] (3, 2)\n",
            "[[0]\n",
            " [1]\n",
            " [2]\n",
            " [3]\n",
            " [4]\n",
            " [5]] (6, 1)\n",
            "[[0 1 2 3 4 5]] (1, 6)\n",
            "[[[0]\n",
            "  [1]]\n",
            "\n",
            " [[2]\n",
            "  [3]]\n",
            "\n",
            " [[4]\n",
            "  [5]]] (3, 2, 1)\n"
          ]
        }
      ]
    },
    {
      "cell_type": "markdown",
      "source": [
        "# Indexing dan Slicing\n",
        "indexing: mengambil 1 angka dari sebuah numpy array   \n",
        "slicing: mengambil beberapa angka dari sebuah numpy array"
      ],
      "metadata": {
        "id": "Vik5yroHbNwn"
      }
    },
    {
      "cell_type": "code",
      "source": [
        "arr_contoh = np.arange(12)\n",
        "arr_contoh = arr_contoh.reshape((3,4))\n",
        "\n",
        "# arr_contoh = np.arange(12).reshape((3,4))\n",
        "\n",
        "print(arr_contoh)"
      ],
      "metadata": {
        "colab": {
          "base_uri": "https://localhost:8080/"
        },
        "id": "CcbW-FBra4OP",
        "outputId": "98bb8ada-ade2-4523-8095-9a177914e39e"
      },
      "execution_count": 48,
      "outputs": [
        {
          "output_type": "stream",
          "name": "stdout",
          "text": [
            "[[ 0  1  2  3]\n",
            " [ 4  5  6  7]\n",
            " [ 8  9 10 11]]\n"
          ]
        }
      ]
    },
    {
      "cell_type": "code",
      "source": [
        "# kita coba ambil angka 6, indexing\n",
        "# angka 6 ada di posisi baris ke2, kolom ke3\n",
        "\n",
        "# baris ke 2 memiliki index 1, karena index dimulai dari 0\n",
        "# kolom ke 3 memiliki index 2, karena index dimulai dari 0, 1, 2, 3, ...\n",
        "print(arr_contoh[1, 2])"
      ],
      "metadata": {
        "colab": {
          "base_uri": "https://localhost:8080/"
        },
        "id": "IREF6jRZbfVP",
        "outputId": "967c2b94-6d58-44a4-a70a-a28ade933bbb"
      },
      "execution_count": 49,
      "outputs": [
        {
          "output_type": "stream",
          "name": "stdout",
          "text": [
            "6\n"
          ]
        }
      ]
    },
    {
      "cell_type": "markdown",
      "source": [
        "untuk numpy array 1 dimensi, kita cuma perlu 1 index"
      ],
      "metadata": {
        "id": "HV4Is0FpcY1P"
      }
    },
    {
      "cell_type": "code",
      "source": [
        "arr_contoh1 = np.arange(12)\n",
        "print(arr_contoh1)\n",
        "print(arr_contoh1[6])"
      ],
      "metadata": {
        "colab": {
          "base_uri": "https://localhost:8080/"
        },
        "id": "RDWVw2lCcTGt",
        "outputId": "d9fe0b0e-9003-4112-d82d-b0098c338b6d"
      },
      "execution_count": 50,
      "outputs": [
        {
          "output_type": "stream",
          "name": "stdout",
          "text": [
            "[ 0  1  2  3  4  5  6  7  8  9 10 11]\n",
            "6\n"
          ]
        }
      ]
    },
    {
      "cell_type": "code",
      "source": [
        "arr_contoh2 = np.arange(1, 12)\n",
        "print(arr_contoh2)\n",
        "print(arr_contoh2[6])"
      ],
      "metadata": {
        "colab": {
          "base_uri": "https://localhost:8080/"
        },
        "id": "i3K6bGfGdFqT",
        "outputId": "2fe7f865-aebe-4e66-d486-bde4deadebb2"
      },
      "execution_count": 52,
      "outputs": [
        {
          "output_type": "stream",
          "name": "stdout",
          "text": [
            "[ 1  2  3  4  5  6  7  8  9 10 11]\n",
            "7\n"
          ]
        }
      ]
    },
    {
      "cell_type": "code",
      "source": [
        "arr_contoh2 = np.random.random(12)\n",
        "print(arr_contoh2)\n",
        "print(arr_contoh2[6])"
      ],
      "metadata": {
        "colab": {
          "base_uri": "https://localhost:8080/"
        },
        "id": "luiODSfFdTXl",
        "outputId": "b25eea53-1002-4d80-baec-4250d2d916f3"
      },
      "execution_count": 53,
      "outputs": [
        {
          "output_type": "stream",
          "name": "stdout",
          "text": [
            "[0.0292552  0.90916371 0.54851109 0.54808263 0.04890998 0.27162037\n",
            " 0.22834078 0.14499318 0.75421001 0.43394406 0.68932551 0.20060395]\n",
            "0.2283407805166925\n"
          ]
        }
      ]
    },
    {
      "cell_type": "markdown",
      "source": [
        "untuk slicing, kita mau ambil beberapa angka sekaligus"
      ],
      "metadata": {
        "id": "KdvnmzoRczTt"
      }
    },
    {
      "cell_type": "code",
      "source": [
        "print(arr_contoh)"
      ],
      "metadata": {
        "colab": {
          "base_uri": "https://localhost:8080/"
        },
        "id": "tTgeQJOzcbUw",
        "outputId": "8fddcab0-143c-41af-ab33-c9a4960800b2"
      },
      "execution_count": 51,
      "outputs": [
        {
          "output_type": "stream",
          "name": "stdout",
          "text": [
            "[[ 0  1  2  3]\n",
            " [ 4  5  6  7]\n",
            " [ 8  9 10 11]]\n"
          ]
        }
      ]
    },
    {
      "cell_type": "code",
      "source": [
        "# misalkan kita mau ambil angka 1,2,5,6\n",
        "# angka 1,2,5,6 ada di... baris ke1 dan ke2, kolom ke2 dan ke3\n",
        "\n",
        "# baris 1,2 memiliki index 0,1, untuk ambil semuanya antara index 0 dan 1, kita pakai :, tapi mirip range, angka terakhir perlu di +1\n",
        "# baris 0:2\n",
        "# baris index 0 sampai index 1 diambil semua\n",
        "\n",
        "# kolom 2,3 memiliki index 1,2\n",
        "# kolom 1:3\n",
        "# kolom index 1 sampai index 2 diambil semua\n",
        "\n",
        "print(arr_contoh[0:2, 1:3])"
      ],
      "metadata": {
        "colab": {
          "base_uri": "https://localhost:8080/"
        },
        "id": "qHoHbyUUc2xc",
        "outputId": "050e4c64-a092-4660-8e86-198a716a5b7c"
      },
      "execution_count": 61,
      "outputs": [
        {
          "output_type": "stream",
          "name": "stdout",
          "text": [
            "[[1 2]\n",
            " [5 6]]\n"
          ]
        }
      ]
    },
    {
      "cell_type": "markdown",
      "source": [
        "cobalah ambil slicing array arr_contoh untuk angka 2,6,10"
      ],
      "metadata": {
        "id": "54kN3830e6jE"
      }
    },
    {
      "cell_type": "code",
      "source": [
        "arr_contoh = np.arange(12).reshape((3,4))\n",
        "print(arr_contoh)"
      ],
      "metadata": {
        "colab": {
          "base_uri": "https://localhost:8080/"
        },
        "id": "ui2t4ulndyTO",
        "outputId": "7f35c4ed-488a-45f8-ae5d-0ea5c983d9ce"
      },
      "execution_count": 62,
      "outputs": [
        {
          "output_type": "stream",
          "name": "stdout",
          "text": [
            "[[ 0  1  2  3]\n",
            " [ 4  5  6  7]\n",
            " [ 8  9 10 11]]\n"
          ]
        }
      ]
    },
    {
      "cell_type": "code",
      "source": [
        "# semua baris\n",
        "# kolom k3, kolom index 2\n",
        "\n",
        "print(arr_contoh[:, 2])"
      ],
      "metadata": {
        "colab": {
          "base_uri": "https://localhost:8080/"
        },
        "id": "fZCH9NTLfIYJ",
        "outputId": "78118859-3156-4e00-db52-840d121e4dc8"
      },
      "execution_count": 63,
      "outputs": [
        {
          "output_type": "stream",
          "name": "stdout",
          "text": [
            "[ 2  6 10]\n"
          ]
        }
      ]
    },
    {
      "cell_type": "code",
      "source": [
        "print(arr_contoh[:, [2]])"
      ],
      "metadata": {
        "colab": {
          "base_uri": "https://localhost:8080/"
        },
        "id": "1jEUn9oVgHVU",
        "outputId": "fe2e286b-b1b3-456d-e6db-d6681a71ece2"
      },
      "execution_count": 64,
      "outputs": [
        {
          "output_type": "stream",
          "name": "stdout",
          "text": [
            "[[ 2]\n",
            " [ 6]\n",
            " [10]]\n"
          ]
        }
      ]
    },
    {
      "cell_type": "code",
      "source": [
        "hasil = arr_contoh[:, 2].reshape((3,1))\n",
        "print(hasil)"
      ],
      "metadata": {
        "colab": {
          "base_uri": "https://localhost:8080/"
        },
        "id": "JaHGiANwgSfB",
        "outputId": "87231917-e65d-4d44-ccdc-787c34ba8040"
      },
      "execution_count": 65,
      "outputs": [
        {
          "output_type": "stream",
          "name": "stdout",
          "text": [
            "[[ 2]\n",
            " [ 6]\n",
            " [10]]\n"
          ]
        }
      ]
    },
    {
      "cell_type": "markdown",
      "source": [
        "## kalkulasi\n",
        "sejauh ini semua yang sudah kita lakukan adalah CRUD numpy array, kita bikin, edit, baca informasi, ambil data tertentu dengan indexing/ slicing, delete, sortir\n",
        "\n",
        "tapi sebenarnya numpy dibuat untuk kalkukasi matematik di python\n",
        "\n",
        "berbeda dengan list, angka2 yang ada di numpy array bisa dengan mudah kita ubah pakai operator matematika\n",
        "\n",
        "bisa juga kita +-*/ dengan numpy array lainnya\n",
        "\n",
        "bisa juga kita gunakan fungsi bawaan numpy untuk agregasi, seperti cari rata-rata, max, min, dan angka statistik lainnya"
      ],
      "metadata": {
        "id": "U0-KLT2ngibU"
      }
    },
    {
      "cell_type": "code",
      "source": [
        "a = np.ones(24)\n",
        "\n",
        "print(a)"
      ],
      "metadata": {
        "colab": {
          "base_uri": "https://localhost:8080/"
        },
        "id": "eFh1P2ZdgYns",
        "outputId": "0d781a00-7cc9-478d-9612-d7daed98c389"
      },
      "execution_count": 67,
      "outputs": [
        {
          "output_type": "stream",
          "name": "stdout",
          "text": [
            "[1. 1. 1. 1. 1. 1. 1. 1. 1. 1. 1. 1. 1. 1. 1. 1. 1. 1. 1. 1. 1. 1. 1. 1.]\n"
          ]
        }
      ]
    },
    {
      "cell_type": "code",
      "source": [
        "# broadcasting, melakukan operasi matematik antara 1 numpy array dengan 1 angka\n",
        "b = a * 3\n",
        "print(b)"
      ],
      "metadata": {
        "colab": {
          "base_uri": "https://localhost:8080/"
        },
        "id": "e4Rg7FFXhJ-4",
        "outputId": "7ad45eea-bb29-43a9-eaaa-6861b64737b8"
      },
      "execution_count": 68,
      "outputs": [
        {
          "output_type": "stream",
          "name": "stdout",
          "text": [
            "[3. 3. 3. 3. 3. 3. 3. 3. 3. 3. 3. 3. 3. 3. 3. 3. 3. 3. 3. 3. 3. 3. 3. 3.]\n"
          ]
        }
      ]
    },
    {
      "cell_type": "code",
      "source": [
        "# melakukan operasi matematik antara 2 numpy array yang mempunyai ukuran yang sama\n",
        "c = a + b\n",
        "print(c)"
      ],
      "metadata": {
        "colab": {
          "base_uri": "https://localhost:8080/"
        },
        "id": "G5KiRQUdhOQS",
        "outputId": "3dd0a328-0f08-406b-b3d9-e176f18a2a14"
      },
      "execution_count": 69,
      "outputs": [
        {
          "output_type": "stream",
          "name": "stdout",
          "text": [
            "[4. 4. 4. 4. 4. 4. 4. 4. 4. 4. 4. 4. 4. 4. 4. 4. 4. 4. 4. 4. 4. 4. 4. 4.]\n"
          ]
        }
      ]
    },
    {
      "cell_type": "code",
      "source": [
        "d = a + b * c / 10\n",
        "print(d)"
      ],
      "metadata": {
        "colab": {
          "base_uri": "https://localhost:8080/"
        },
        "id": "miwg557JhQj7",
        "outputId": "4b54ee63-5584-42a7-8f1b-09d51232c511"
      },
      "execution_count": 70,
      "outputs": [
        {
          "output_type": "stream",
          "name": "stdout",
          "text": [
            "[2.2 2.2 2.2 2.2 2.2 2.2 2.2 2.2 2.2 2.2 2.2 2.2 2.2 2.2 2.2 2.2 2.2 2.2\n",
            " 2.2 2.2 2.2 2.2 2.2 2.2]\n"
          ]
        }
      ]
    },
    {
      "cell_type": "code",
      "source": [
        "a2 = a.reshape((3,8))\n",
        "print(a2)"
      ],
      "metadata": {
        "colab": {
          "base_uri": "https://localhost:8080/"
        },
        "id": "KbqCX4UYhVDF",
        "outputId": "5dd0ef1f-aa86-460e-9d74-a353d90db815"
      },
      "execution_count": 71,
      "outputs": [
        {
          "output_type": "stream",
          "name": "stdout",
          "text": [
            "[[1. 1. 1. 1. 1. 1. 1. 1.]\n",
            " [1. 1. 1. 1. 1. 1. 1. 1.]\n",
            " [1. 1. 1. 1. 1. 1. 1. 1.]]\n"
          ]
        }
      ]
    },
    {
      "cell_type": "code",
      "source": [
        "b2 = a2 * 10 / 2\n",
        "print(b2)"
      ],
      "metadata": {
        "colab": {
          "base_uri": "https://localhost:8080/"
        },
        "id": "6c_-hv7JhfrZ",
        "outputId": "40f33234-8bb7-4005-f4a4-1d6684eb3ca9"
      },
      "execution_count": 73,
      "outputs": [
        {
          "output_type": "stream",
          "name": "stdout",
          "text": [
            "[[5. 5. 5. 5. 5. 5. 5. 5.]\n",
            " [5. 5. 5. 5. 5. 5. 5. 5.]\n",
            " [5. 5. 5. 5. 5. 5. 5. 5.]]\n"
          ]
        }
      ]
    },
    {
      "cell_type": "code",
      "source": [
        "c2 = a2 + b2 * b2\n",
        "print(c2)"
      ],
      "metadata": {
        "colab": {
          "base_uri": "https://localhost:8080/"
        },
        "id": "b9qnaNE0hkAb",
        "outputId": "e77064ab-91c9-4e61-ed9a-8ca67bf4cb0d"
      },
      "execution_count": 74,
      "outputs": [
        {
          "output_type": "stream",
          "name": "stdout",
          "text": [
            "[[26. 26. 26. 26. 26. 26. 26. 26.]\n",
            " [26. 26. 26. 26. 26. 26. 26. 26.]\n",
            " [26. 26. 26. 26. 26. 26. 26. 26.]]\n"
          ]
        }
      ]
    },
    {
      "cell_type": "code",
      "source": [
        "# misalkan kita mau generate data random hasil buang dadu\n",
        "# 1,2,3,4,5,6 adalah hasil buang dadu\n",
        "# gimana kalau kita buat data hasil buang dadu 100x?\n",
        "\n",
        "dadu100 = np.random.random(100) * 5 + 1\n",
        "dadu100 = np.round(dadu100)\n",
        "print(dadu100)"
      ],
      "metadata": {
        "colab": {
          "base_uri": "https://localhost:8080/"
        },
        "id": "PrWqmpfxhwXZ",
        "outputId": "0b215f0c-97cf-4478-a816-e8e2e66fea56"
      },
      "execution_count": 77,
      "outputs": [
        {
          "output_type": "stream",
          "name": "stdout",
          "text": [
            "[3. 4. 6. 2. 5. 3. 4. 3. 5. 2. 4. 2. 4. 5. 5. 4. 5. 3. 2. 2. 4. 6. 4. 5.\n",
            " 2. 4. 3. 5. 2. 6. 6. 1. 3. 4. 3. 3. 4. 2. 5. 4. 5. 3. 3. 3. 4. 2. 6. 5.\n",
            " 1. 2. 2. 6. 2. 3. 2. 2. 3. 6. 4. 6. 4. 5. 3. 3. 3. 3. 5. 5. 6. 2. 2. 4.\n",
            " 5. 5. 1. 2. 5. 2. 3. 5. 1. 5. 6. 2. 5. 3. 6. 5. 5. 2. 1. 4. 4. 5. 2. 3.\n",
            " 3. 4. 1. 4.]\n"
          ]
        }
      ]
    },
    {
      "cell_type": "code",
      "source": [
        "# cek min, max, mean, median\n",
        "print(\"min\", np.min(dadu100))\n",
        "print(\"max\", np.max(dadu100))\n",
        "print(\"mean\", np.mean(dadu100))\n",
        "print(\"median\", np.median(dadu100))"
      ],
      "metadata": {
        "colab": {
          "base_uri": "https://localhost:8080/"
        },
        "id": "0XjueqObiIbL",
        "outputId": "9f90a766-caa2-491b-8137-8932a4e400f0"
      },
      "execution_count": 80,
      "outputs": [
        {
          "output_type": "stream",
          "name": "stdout",
          "text": [
            "min 1.0\n",
            "max 6.0\n",
            "mean 3.63\n",
            "median 4.0\n"
          ]
        }
      ]
    },
    {
      "cell_type": "code",
      "source": [
        "# misalkan ada 2 numpy array size sama, tapi shape beda\n",
        "\n",
        "a = np.array([3,5,7,8])\n",
        "b = np.array([[1,3],[5,0]])\n",
        "\n",
        "print(a, a.shape, a.size)\n",
        "print(b, b.shape, b.size)"
      ],
      "metadata": {
        "colab": {
          "base_uri": "https://localhost:8080/"
        },
        "id": "Kcd2dYoFjWl-",
        "outputId": "758e2320-2af8-4821-c3b7-d3103600bb02"
      },
      "execution_count": 81,
      "outputs": [
        {
          "output_type": "stream",
          "name": "stdout",
          "text": [
            "[3 5 7 8] (4,) 4\n",
            "[[1 3]\n",
            " [5 0]] (2, 2) 4\n"
          ]
        }
      ]
    },
    {
      "cell_type": "code",
      "source": [
        "c = a.reshape((2,2))\n",
        "print(c)"
      ],
      "metadata": {
        "colab": {
          "base_uri": "https://localhost:8080/"
        },
        "id": "NTYZwxhHjuzw",
        "outputId": "1079849f-ea0f-4e5c-a524-c8ff4d3fb786"
      },
      "execution_count": 85,
      "outputs": [
        {
          "output_type": "stream",
          "name": "stdout",
          "text": [
            "[[3 5]\n",
            " [7 8]]\n"
          ]
        }
      ]
    },
    {
      "cell_type": "code",
      "source": [
        "d = c * b\n",
        "print(d)"
      ],
      "metadata": {
        "colab": {
          "base_uri": "https://localhost:8080/"
        },
        "id": "4iKQokOkiezt",
        "outputId": "6050675a-eccf-4d02-dca5-101c91bf9753"
      },
      "execution_count": 87,
      "outputs": [
        {
          "output_type": "stream",
          "name": "stdout",
          "text": [
            "[[ 3 15]\n",
            " [35  0]]\n"
          ]
        }
      ]
    },
    {
      "cell_type": "markdown",
      "source": [
        "stacking dan splitting\n",
        "\n",
        "stack: menempelkasn beberapa numpy array jadi satu\n",
        "\n",
        "split: memisahkan 1 numpy array menjadi beberapa bagian yang size sama"
      ],
      "metadata": {
        "id": "Tx5GRHeukCw0"
      }
    },
    {
      "cell_type": "code",
      "source": [
        "# horizontal stack, ditempelnya kiri ke kanan\n",
        "e = np.hstack((c, d, b))\n",
        "print(e)"
      ],
      "metadata": {
        "colab": {
          "base_uri": "https://localhost:8080/"
        },
        "id": "Tqt3gxPdjnmD",
        "outputId": "4174467c-100f-4a42-bf6e-247f7fa006b8"
      },
      "execution_count": 92,
      "outputs": [
        {
          "output_type": "stream",
          "name": "stdout",
          "text": [
            "[[ 3  5  3 15  1  3]\n",
            " [ 7  8 35  0  5  0]]\n"
          ]
        }
      ]
    },
    {
      "cell_type": "code",
      "source": [
        "# vertical stack, ditempelnya atas ke bawah\n",
        "f = np.vstack((c, d, b))\n",
        "print(f)"
      ],
      "metadata": {
        "colab": {
          "base_uri": "https://localhost:8080/"
        },
        "id": "ESEcDBJZkbpx",
        "outputId": "253887c9-e567-4657-9ccb-fb6112369f38"
      },
      "execution_count": 91,
      "outputs": [
        {
          "output_type": "stream",
          "name": "stdout",
          "text": [
            "[[ 3  5]\n",
            " [ 7  8]\n",
            " [ 3 15]\n",
            " [35  0]\n",
            " [ 1  3]\n",
            " [ 5  0]]\n"
          ]
        }
      ]
    },
    {
      "cell_type": "code",
      "source": [
        "# horizontal split\n",
        "np.hsplit(e, 2)"
      ],
      "metadata": {
        "colab": {
          "base_uri": "https://localhost:8080/"
        },
        "id": "bvMaWpm_kmKl",
        "outputId": "807a21e2-bb2e-4807-895b-1447026ab27d"
      },
      "execution_count": 94,
      "outputs": [
        {
          "output_type": "execute_result",
          "data": {
            "text/plain": [
              "[array([[ 3,  5,  3],\n",
              "        [ 7,  8, 35]]),\n",
              " array([[15,  1,  3],\n",
              "        [ 0,  5,  0]])]"
            ]
          },
          "metadata": {},
          "execution_count": 94
        }
      ]
    },
    {
      "cell_type": "code",
      "source": [
        "# vertical split\n",
        "np.vsplit(f, 2)"
      ],
      "metadata": {
        "colab": {
          "base_uri": "https://localhost:8080/"
        },
        "id": "7OW8h1b2kyqL",
        "outputId": "fd2383b7-a425-41a1-9f79-2467ca2fec55"
      },
      "execution_count": 96,
      "outputs": [
        {
          "output_type": "execute_result",
          "data": {
            "text/plain": [
              "[array([[ 3,  5],\n",
              "        [ 7,  8],\n",
              "        [ 3, 15]]),\n",
              " array([[35,  0],\n",
              "        [ 1,  3],\n",
              "        [ 5,  0]])]"
            ]
          },
          "metadata": {},
          "execution_count": 96
        }
      ]
    },
    {
      "cell_type": "markdown",
      "source": [
        "function, untuk di \"invoke\" di jalankan, kita pakai ()   \n",
        "- nama_function()\n",
        "- nama_function(arg1, arg2, ...)\n",
        "\n",
        "untuk data yang bersifat tuple, kita pakai () juga, () juga digunakan untuk membuat tuple. Untuk function numpy yang shape dan reshape, dia memberi dan menerima bentuk numpy array sebagai tuple.\n"
      ],
      "metadata": {
        "id": "R0fyi-iolKcV"
      }
    },
    {
      "cell_type": "code",
      "source": [
        "print(a)\n",
        "print(a.shape)"
      ],
      "metadata": {
        "colab": {
          "base_uri": "https://localhost:8080/"
        },
        "id": "_chp-CIfk5xG",
        "outputId": "461a9d30-838b-4ef1-b9c4-7fabd88db90c"
      },
      "execution_count": 98,
      "outputs": [
        {
          "output_type": "stream",
          "name": "stdout",
          "text": [
            "[3 5 7 8]\n",
            "(4,)\n"
          ]
        }
      ]
    },
    {
      "cell_type": "code",
      "source": [
        "# function reshape\n",
        "a.reshape"
      ],
      "metadata": {
        "colab": {
          "base_uri": "https://localhost:8080/"
        },
        "id": "cW-Dx6Melgnp",
        "outputId": "fc1926fe-e0e7-43ee-d2c8-2b4614c48c79"
      },
      "execution_count": 99,
      "outputs": [
        {
          "output_type": "execute_result",
          "data": {
            "text/plain": [
              "<function ndarray.reshape>"
            ]
          },
          "metadata": {},
          "execution_count": 99
        }
      ]
    },
    {
      "cell_type": "code",
      "source": [
        "# jalanin function pakai () untuk di invoke\n",
        "# kebetulan, argumen reshape harus dalam bentuk tuple, tuple dibuat dengan ()\n",
        "a.reshape((4,1))"
      ],
      "metadata": {
        "colab": {
          "base_uri": "https://localhost:8080/"
        },
        "id": "CAlxWaMWlnuh",
        "outputId": "5a51dfad-d77c-4782-977c-47462a1c0b0a"
      },
      "execution_count": 101,
      "outputs": [
        {
          "output_type": "execute_result",
          "data": {
            "text/plain": [
              "array([[3],\n",
              "       [5],\n",
              "       [7],\n",
              "       [8]])"
            ]
          },
          "metadata": {},
          "execution_count": 101
        }
      ]
    },
    {
      "cell_type": "code",
      "source": [
        "# sebuah list dibuat dengan []\n",
        "# function numpy array, kita invoke pakai () dan dia menerima argumen sebuah list []\n",
        "np.array([])"
      ],
      "metadata": {
        "colab": {
          "base_uri": "https://localhost:8080/"
        },
        "id": "7PgdvEkilsJj",
        "outputId": "4f9228ae-dc39-4e2e-e4b4-3bdf81ff2e43"
      },
      "execution_count": 102,
      "outputs": [
        {
          "output_type": "execute_result",
          "data": {
            "text/plain": [
              "array([], dtype=float64)"
            ]
          },
          "metadata": {},
          "execution_count": 102
        }
      ]
    },
    {
      "cell_type": "code",
      "source": [
        "# index, dan key, untuk akses data, untuk indexing, untuk slicing, juga menggunakan []\n",
        "print(dadu100)"
      ],
      "metadata": {
        "colab": {
          "base_uri": "https://localhost:8080/"
        },
        "id": "hegqLtmlmLDo",
        "outputId": "b3f60252-c94c-4c45-d5cf-a1f367016d2a"
      },
      "execution_count": 103,
      "outputs": [
        {
          "output_type": "stream",
          "name": "stdout",
          "text": [
            "[3. 4. 6. 2. 5. 3. 4. 3. 5. 2. 4. 2. 4. 5. 5. 4. 5. 3. 2. 2. 4. 6. 4. 5.\n",
            " 2. 4. 3. 5. 2. 6. 6. 1. 3. 4. 3. 3. 4. 2. 5. 4. 5. 3. 3. 3. 4. 2. 6. 5.\n",
            " 1. 2. 2. 6. 2. 3. 2. 2. 3. 6. 4. 6. 4. 5. 3. 3. 3. 3. 5. 5. 6. 2. 2. 4.\n",
            " 5. 5. 1. 2. 5. 2. 3. 5. 1. 5. 6. 2. 5. 3. 6. 5. 5. 2. 1. 4. 4. 5. 2. 3.\n",
            " 3. 4. 1. 4.]\n"
          ]
        }
      ]
    },
    {
      "cell_type": "code",
      "source": [
        "# ambil hasil lempar dadu yang ke 10\n",
        "# angka ke10, berarti index 9\n",
        "# data[index]\n",
        "dadu100[9]"
      ],
      "metadata": {
        "colab": {
          "base_uri": "https://localhost:8080/"
        },
        "id": "6IpsPK5ImSt7",
        "outputId": "fa6a7e21-c20c-4879-bd8a-f2860f10685b"
      },
      "execution_count": 104,
      "outputs": [
        {
          "output_type": "execute_result",
          "data": {
            "text/plain": [
              "2.0"
            ]
          },
          "metadata": {},
          "execution_count": 104
        }
      ]
    },
    {
      "cell_type": "code",
      "source": [
        "# slicing juga pakai index, jadi pakai [] untuk data\n",
        "# data[index]\n",
        "# bedanya slicing, index bisa banyak, kalau ada lebih dari 1 index, kita bisa pakai list berisi index index\n",
        "# list dibuat menggunakan []\n",
        "\n",
        "# misalkan kita mau ambil hasil lempar dadu ke 10 dan ke 20\n",
        "# index ke 9 dan ke 19, ada lebih dari 1 index, kita bisa kumpulin ke 1 list --> [9, 19]\n",
        "dadu100[[9, 19]]"
      ],
      "metadata": {
        "colab": {
          "base_uri": "https://localhost:8080/"
        },
        "id": "f4sxJHe6me7I",
        "outputId": "17fcd053-2a81-452b-f651-2b27522b4a14"
      },
      "execution_count": 105,
      "outputs": [
        {
          "output_type": "execute_result",
          "data": {
            "text/plain": [
              "array([2., 2.])"
            ]
          },
          "metadata": {},
          "execution_count": 105
        }
      ]
    },
    {
      "cell_type": "code",
      "source": [
        "# misalkan kita mau ambil hasil lempar dadu k1, ke-10 dan terakhir\n",
        "# index 0, index 9, dan index -1 --> [0, 9, -1]\n",
        "\n",
        "dadu100[[0, 9, -1]]"
      ],
      "metadata": {
        "colab": {
          "base_uri": "https://localhost:8080/"
        },
        "id": "qQZVyinhnIhz",
        "outputId": "c54b04f4-16ec-469e-8fdd-4d2d2b835300"
      },
      "execution_count": 107,
      "outputs": [
        {
          "output_type": "execute_result",
          "data": {
            "text/plain": [
              "array([3., 2., 4.])"
            ]
          },
          "metadata": {},
          "execution_count": 107
        }
      ]
    },
    {
      "cell_type": "markdown",
      "source": [
        "# matrices, transpose, dot product\n",
        "matrices: numpy array 2 dimensi\n",
        "\n",
        "transpose: mengubah shape sebuah matrix sambil memastikan teman sebaris menjadi teman sekolom\n",
        "\n",
        "dot product: perkalian spesial antara dua matrix"
      ],
      "metadata": {
        "id": "BF2OP9tgoUf1"
      }
    },
    {
      "cell_type": "code",
      "source": [
        "arr_penjualan = np.array([\n",
        "                            [5,\t10,\t15],\n",
        "                            [6,\t8,\t7]\n",
        "                         ])\n",
        "\n",
        "print(arr_penjualan)"
      ],
      "metadata": {
        "colab": {
          "base_uri": "https://localhost:8080/"
        },
        "id": "tpajVl1sne1r",
        "outputId": "ef64805e-769e-406e-93bf-e98b284ed57d"
      },
      "execution_count": 108,
      "outputs": [
        {
          "output_type": "stream",
          "name": "stdout",
          "text": [
            "[[ 5 10 15]\n",
            " [ 6  8  7]]\n"
          ]
        }
      ]
    },
    {
      "cell_type": "code",
      "source": [
        "# transpose\n",
        "print(arr_penjualan.T)"
      ],
      "metadata": {
        "colab": {
          "base_uri": "https://localhost:8080/"
        },
        "id": "DKP4G4turqW8",
        "outputId": "78e89fc9-248c-45b8-c8f4-cdba54790cb6"
      },
      "execution_count": 109,
      "outputs": [
        {
          "output_type": "stream",
          "name": "stdout",
          "text": [
            "[[ 5  6]\n",
            " [10  8]\n",
            " [15  7]]\n"
          ]
        }
      ]
    },
    {
      "cell_type": "markdown",
      "source": [
        "tipe data numpy array, memiliki beberapa sifat yang bisa kita panggil: shape, ndim, size, T"
      ],
      "metadata": {
        "id": "fjnVgsyJr0Eu"
      }
    },
    {
      "cell_type": "code",
      "source": [
        "print(arr_penjualan.T.T)"
      ],
      "metadata": {
        "colab": {
          "base_uri": "https://localhost:8080/"
        },
        "id": "28iCdw-kruke",
        "outputId": "feca5a70-2edc-4872-ac6c-2095e38b4a54"
      },
      "execution_count": 110,
      "outputs": [
        {
          "output_type": "stream",
          "name": "stdout",
          "text": [
            "[[ 5 10 15]\n",
            " [ 6  8  7]]\n"
          ]
        }
      ]
    },
    {
      "cell_type": "code",
      "source": [
        "# reshape\n",
        "print(arr_penjualan.reshape((3,2)))"
      ],
      "metadata": {
        "colab": {
          "base_uri": "https://localhost:8080/"
        },
        "id": "_LdSBSHNr871",
        "outputId": "4e26f45c-da33-4dd8-fc6b-c7afe3f82299"
      },
      "execution_count": 111,
      "outputs": [
        {
          "output_type": "stream",
          "name": "stdout",
          "text": [
            "[[ 5 10]\n",
            " [15  6]\n",
            " [ 8  7]]\n"
          ]
        }
      ]
    },
    {
      "cell_type": "markdown",
      "source": [
        "untuk contoh dot product, sample data dibuat di [google sheets ini](https://docs.google.com/spreadsheets/d/1mMTuWh5zPnzCdueICh_EVEK96VIpNx1vR6CZdiG_I44/edit?usp=sharing)"
      ],
      "metadata": {
        "id": "_8m7PTDZv4Su"
      }
    },
    {
      "cell_type": "code",
      "source": [
        "# dot product\n",
        "p = arr_penjualan.T\n",
        "print(p)"
      ],
      "metadata": {
        "colab": {
          "base_uri": "https://localhost:8080/"
        },
        "id": "VGLqG6dGsI0z",
        "outputId": "1d3b8fc6-6020-43b2-bb2f-cc65dbbe4672"
      },
      "execution_count": 112,
      "outputs": [
        {
          "output_type": "stream",
          "name": "stdout",
          "text": [
            "[[ 5  6]\n",
            " [10  8]\n",
            " [15  7]]\n"
          ]
        }
      ]
    },
    {
      "cell_type": "code",
      "source": [
        "harga = np.array([[5000],\n",
        "                  [1500]])\n",
        "print(harga)"
      ],
      "metadata": {
        "colab": {
          "base_uri": "https://localhost:8080/"
        },
        "id": "IwtAyXEctMEn",
        "outputId": "88c863a4-bbdf-42c5-a552-dc4f64be716b"
      },
      "execution_count": 113,
      "outputs": [
        {
          "output_type": "stream",
          "name": "stdout",
          "text": [
            "[[5000]\n",
            " [1500]]\n"
          ]
        }
      ]
    },
    {
      "cell_type": "code",
      "source": [
        "hasil = p.dot(harga)\n",
        "print(hasil)"
      ],
      "metadata": {
        "colab": {
          "base_uri": "https://localhost:8080/"
        },
        "id": "WHrZyCRYtUsR",
        "outputId": "6f79c208-3091-437c-a1eb-064bac58d7f7"
      },
      "execution_count": 115,
      "outputs": [
        {
          "output_type": "stream",
          "name": "stdout",
          "text": [
            "[[34000]\n",
            " [62000]\n",
            " [85500]]\n"
          ]
        }
      ]
    },
    {
      "cell_type": "markdown",
      "source": [
        "total harga penjualan senin 34000, selasa 62000, rabu 85500\n",
        "\n",
        "kalau mau di total, kita bisa pakai numpy array function sum"
      ],
      "metadata": {
        "id": "Ayb2B7wxtaSl"
      }
    },
    {
      "cell_type": "code",
      "source": [
        "np.sum(hasil)"
      ],
      "metadata": {
        "colab": {
          "base_uri": "https://localhost:8080/"
        },
        "id": "AyV1tDYAtXMa",
        "outputId": "1427218f-d679-489f-e016-dc9d00d4e6ef"
      },
      "execution_count": 116,
      "outputs": [
        {
          "output_type": "execute_result",
          "data": {
            "text/plain": [
              "181500"
            ]
          },
          "metadata": {},
          "execution_count": 116
        }
      ]
    },
    {
      "cell_type": "code",
      "source": [],
      "metadata": {
        "id": "RC_F7IZptkGR"
      },
      "execution_count": null,
      "outputs": []
    }
  ]
}