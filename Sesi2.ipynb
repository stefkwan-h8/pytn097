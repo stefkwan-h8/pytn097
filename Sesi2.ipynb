{
 "cells": [
  {
   "cell_type": "markdown",
   "metadata": {},
   "source": [
    "# Sesi 2 - Conditional dan Iteration\n",
    "\n",
    "## Conditional\n",
    "membuat kondisi\n",
    "\n",
    "membuat peraturan untuk program nya\n",
    "\n",
    "misalkan, kalau hari ini hujan, maka kita bawa payung"
   ]
  },
  {
   "cell_type": "code",
   "execution_count": 1,
   "metadata": {},
   "outputs": [],
   "source": [
    "hujan = False\n",
    "\n",
    "if (hujan):\n",
    "    print(\"bawa payung\")"
   ]
  },
  {
   "cell_type": "code",
   "execution_count": 2,
   "metadata": {},
   "outputs": [
    {
     "name": "stdout",
     "output_type": "stream",
     "text": [
      "True\n",
      "False\n",
      "True\n",
      "False\n",
      "False\n",
      "True\n"
     ]
    }
   ],
   "source": [
    "# operator matematik pembanding\n",
    "\n",
    "a = 10\n",
    "b = 5\n",
    "\n",
    "print(a > b)\n",
    "print(a < b)\n",
    "print(a >= b)\n",
    "print(a <= b)\n",
    "print(a == b)\n",
    "print(a != b)"
   ]
  },
  {
   "cell_type": "code",
   "execution_count": 3,
   "metadata": {},
   "outputs": [
    {
     "name": "stdout",
     "output_type": "stream",
     "text": [
      "True\n"
     ]
    }
   ],
   "source": [
    "print(bool(a))"
   ]
  },
  {
   "cell_type": "code",
   "execution_count": 4,
   "metadata": {},
   "outputs": [
    {
     "name": "stdout",
     "output_type": "stream",
     "text": [
      "belum punya KTP\n"
     ]
    }
   ],
   "source": [
    "# buat sebuah if conditional dimana kita cek apakah umur sudah >= 17 atau belum\n",
    "\n",
    "umur = 16\n",
    "\n",
    "if (umur >= 17):\n",
    "    print(\"punya KTP\")\n",
    "else:\n",
    "    print(\"belum punya KTP\")\n"
   ]
  },
  {
   "cell_type": "code",
   "execution_count": 5,
   "metadata": {},
   "outputs": [
    {
     "name": "stdout",
     "output_type": "stream",
     "text": [
      "=======\n",
      "punya KTP\n",
      "=======\n"
     ]
    }
   ],
   "source": [
    "# selain minimum umur 17, dia juga harus kewarganegaraan Indonesia\n",
    "umur = 60\n",
    "warganegara = \"Indonesia\"\n",
    "print(\"=======\")\n",
    "if (umur >= 17 and warganegara == \"Indonesia\"):\n",
    "    print(\"punya KTP\")\n",
    "else:\n",
    "    print(\"tidak punya KTP\")\n",
    "\n",
    "print(\"=======\")"
   ]
  },
  {
   "cell_type": "markdown",
   "metadata": {},
   "source": [
    "bagaimana kalau kondisi nya banyak dan berurutan?\n",
    "\n",
    "seperti memisahkan nilai menjadi A B C D   \n",
    "A - 90+   \n",
    "B - 80+   \n",
    "C - 70+   \n",
    "sisanya D   "
   ]
  },
  {
   "cell_type": "code",
   "execution_count": 6,
   "metadata": {},
   "outputs": [
    {
     "name": "stdout",
     "output_type": "stream",
     "text": [
      "grade nya invalid\n",
      "invalid\n"
     ]
    }
   ],
   "source": [
    "nilai = 120\n",
    "grade = \"\"\n",
    "\n",
    "if (nilai > 100 or nilai < 0):\n",
    "    grade = \"invalid\"\n",
    "    print(\"grade nya invalid\")\n",
    "elif (nilai >= 90):\n",
    "    grade = \"A\"\n",
    "elif (nilai >= 80):\n",
    "    grade = \"B\"\n",
    "elif (nilai >= 70):\n",
    "    grade = \"C\"\n",
    "else:\n",
    "    grade = \"D\"\n",
    "\n",
    "\n",
    "print(grade)"
   ]
  },
  {
   "cell_type": "markdown",
   "metadata": {},
   "source": [
    "misalkan untuk lulus, grade minimal C dan jumlah absen minimal 75%\n",
    "\n",
    "buat sebuah kondisi yang menentukan murid lulus/ tidak DAN jelaskan kenapa kalau tidak lulus"
   ]
  },
  {
   "cell_type": "code",
   "execution_count": 11,
   "metadata": {},
   "outputs": [
    {
     "name": "stdout",
     "output_type": "stream",
     "text": [
      "tidak lulus\n",
      "nilai tidak mencukupi\n",
      "absen sudah mencukupi\n"
     ]
    }
   ],
   "source": [
    "nilai = 50\n",
    "absen = 10/10 # 100%\n",
    "\n",
    "if (nilai >= 70 and absen >= 0.75):\n",
    "    print(\"lulus\")\n",
    "else:\n",
    "    print(\"tidak lulus\")\n",
    "\n",
    "    if (nilai < 70):\n",
    "        print(\"nilai tidak mencukupi\")\n",
    "    else:\n",
    "        print(\"nilai sudah mencukupi\")\n",
    "\n",
    "    if (absen < 0.75):\n",
    "        print(\"absen tidak mencapai 75%\")\n",
    "    else:\n",
    "        print(\"absen sudah mencukupi\")"
   ]
  },
  {
   "cell_type": "markdown",
   "metadata": {},
   "source": [
    "selain untuk perbandingan angka > < >= <= atau text string == != kita juga bisa menggunakan operator \"in\"\n",
    "\n",
    "\"in\" menanyakan apakah yg di kiri ada di dalam yang di kanan\n",
    "\n",
    "kita bisa pakai \"in\" untuk string, list, dan tuple"
   ]
  },
  {
   "cell_type": "code",
   "execution_count": 15,
   "metadata": {},
   "outputs": [
    {
     "name": "stdout",
     "output_type": "stream",
     "text": [
      "ketemu Python nya di dalam message\n"
     ]
    }
   ],
   "source": [
    "message = \"hari ini kita belajar Conditional di python, yay\"\n",
    "\n",
    "if (\"Python\".lower() in message.lower()):\n",
    "    print(\"ketemu Python nya di dalam message\")"
   ]
  },
  {
   "cell_type": "code",
   "execution_count": 16,
   "metadata": {},
   "outputs": [
    {
     "name": "stdout",
     "output_type": "stream",
     "text": [
      "ketemu Python nya di dalam message\n"
     ]
    }
   ],
   "source": [
    "if (\"python\" in \"hari ini kita belajar conditional di python, yay\"):\n",
    "    print(\"ketemu Python nya di dalam message\")"
   ]
  },
  {
   "cell_type": "code",
   "execution_count": 19,
   "metadata": {},
   "outputs": [
    {
     "name": "stdout",
     "output_type": "stream",
     "text": [
      "yay ada apel di dalam list buah_buahan\n"
     ]
    }
   ],
   "source": [
    "buah_buahan = [\"apel\", \"jeruk\", \"pisang\"]\n",
    "buah_fav = \"apel\"\n",
    "\n",
    "if (buah_fav in buah_buahan):\n",
    "    print(\"yay ada \" + buah_fav + \" di dalam list buah_buahan\")"
   ]
  },
  {
   "cell_type": "code",
   "execution_count": 21,
   "metadata": {},
   "outputs": [
    {
     "name": "stdout",
     "output_type": "stream",
     "text": [
      "yah tidak ada semangka\n"
     ]
    }
   ],
   "source": [
    "# one line if\n",
    "buah_fav = \"semangka\"\n",
    "\n",
    "if (buah_fav in buah_buahan): print(\"yay ada \" + buah_fav)\n",
    "else: print(\"yah tidak ada \" + buah_fav)"
   ]
  },
  {
   "cell_type": "markdown",
   "metadata": {},
   "source": [
    "konsep ternary: menulis if di satu baris, selalu ada else juga, kalau kondisi True, dia kasih yang kiri, kalau False, dia kasih yang kanan"
   ]
  },
  {
   "cell_type": "code",
   "execution_count": 24,
   "metadata": {},
   "outputs": [
    {
     "name": "stdout",
     "output_type": "stream",
     "text": [
      "bawa payung\n"
     ]
    }
   ],
   "source": [
    "hujan = True\n",
    "\n",
    "print(\"bawa payung\") if hujan else print(\"tidak bawa payung\")\n",
    "print(\"bawa payung\" if hujan else \"tidak bawa payung\")"
   ]
  },
  {
   "cell_type": "markdown",
   "metadata": {},
   "source": [
    "misalkan kita punya code lagi dibuat setengah jadi, dan kita punya sebuah kondisi yang kita udah yakin mau ada\n",
    "\n",
    "```python\n",
    "# kalau plat nomor nya genap\n",
    "if (plat_nomor % 2 == 0):\n",
    "    # mau cek tanggal, kalau tanggal genap juga, ok, kalau nggak, ketilang\n",
    "else:\n",
    "    # mau cek tanggal, kalau tanggal ganjil, ok, kalau nggak, ketilang\n",
    "```\n",
    "\n",
    "kalau isi dari conditional nya kosong, tanpa code, Python akan complain\n",
    "\n",
    "kita bisa gunakan keyword \"pass\" untuk mengisi tanpa melakukan apapun"
   ]
  },
  {
   "cell_type": "code",
   "execution_count": 26,
   "metadata": {},
   "outputs": [],
   "source": [
    "plat_nomor = 123\n",
    "\n",
    "\n",
    "if (plat_nomor % 2 == 0):\n",
    "    # mau cek tanggal, kalau tanggal genap juga, ok, kalau nggak, ketilang\n",
    "    pass\n",
    "else:\n",
    "    # mau cek tanggal, kalau tanggal ganjil, ok, kalau nggak, ketilang\n",
    "    pass"
   ]
  },
  {
   "cell_type": "markdown",
   "metadata": {},
   "source": [
    "## Iteration\n",
    "Loop, Perulangan\n",
    "\n",
    "melakukan code yang sama berulang kali\n",
    "\n",
    "1. while - selama kondisi masih True, maka code masih di ulang\n",
    "2. for - mengambil satu per satu item dalam sebuah koleksi, misalkan koleksi isi 3, berarti code diulang 3 kali\n",
    "\n",
    "```python\n",
    "while (kondisi):\n",
    "    # code yang akan diulang\n",
    "    print(\"selamat malam\")\n",
    "```\n",
    "code diatas akan terus print selamat malam selama kondisi masih True\n",
    "\n",
    "jadi, pastikan kondisinya akan berubah jadi False\n",
    "\n",
    "kalau loop nya tidak bisa berhenti, kita telah membuat infinite loop. code yang jalan selamanya.\n",
    "\n",
    "pastikan di dalam while loop ada code yang akan merubah kondisi menjadi False suatu saat nanti\n"
   ]
  },
  {
   "cell_type": "code",
   "execution_count": 30,
   "metadata": {},
   "outputs": [
    {
     "name": "stdout",
     "output_type": "stream",
     "text": [
      "10\n",
      "selamat malam\n",
      "9\n",
      "selamat malam\n",
      "8\n",
      "selamat malam\n",
      "7\n",
      "selamat malam\n",
      "6\n",
      "selamat malam\n",
      "5\n",
      "selamat malam\n",
      "4\n",
      "selamat malam\n",
      "3\n",
      "selamat malam\n",
      "2\n",
      "selamat malam\n",
      "1\n",
      "selamat malam\n",
      "counternya sekarang 0\n"
     ]
    }
   ],
   "source": [
    "counter = 10\n",
    "while (counter > 0):\n",
    "    # code yang akan diulang\n",
    "    print(counter)\n",
    "    counter = counter - 1\n",
    "    print(\"selamat malam\")\n",
    "\n",
    "print(\"counternya sekarang\", counter)"
   ]
  },
  {
   "cell_type": "code",
   "execution_count": 31,
   "metadata": {},
   "outputs": [
    {
     "name": "stdout",
     "output_type": "stream",
     "text": [
      "10\n",
      "selamat malam\n",
      "9\n",
      "selamat malam\n",
      "8\n",
      "selamat malam\n",
      "7\n",
      "selamat malam\n",
      "6\n",
      "selamat malam\n",
      "5\n",
      "selamat malam\n",
      "4\n",
      "selamat malam\n",
      "3\n",
      "selamat malam\n",
      "2\n",
      "selamat malam\n",
      "1\n",
      "selamat malam\n",
      "counternya sekarang 0\n"
     ]
    }
   ],
   "source": [
    "counter = 10\n",
    "while (counter > 0):\n",
    "    # code yang akan diulang\n",
    "    print(counter)\n",
    "    counter -= 1\n",
    "    print(\"selamat malam\")\n",
    "\n",
    "print(\"counternya sekarang\", counter)"
   ]
  },
  {
   "cell_type": "markdown",
   "metadata": {},
   "source": [
    "misalkan kita mau cari angka prima\n",
    "\n",
    "angka prima adalah angka yang hanya bisa dibagi habis dengan angka 1 dan diri sendiri\n",
    "\n",
    "contohnya: 2, 3, 5, 7, 11, 13, ...\n",
    "\n",
    "angka 4 bukan prima karena dia bisa dibagi habis oleh 1, 2, dan 4\n",
    "\n",
    "angka 6 bukan prima karena dia bisa dibagi habis oleh 1, 2, 3, 6\n",
    "\n",
    "angka 11 adalah prima karena dia hanya bisa dibagi habis oleh 1 dan 11"
   ]
  },
  {
   "cell_type": "code",
   "execution_count": 36,
   "metadata": {},
   "outputs": [
    {
     "data": {
      "text/plain": [
       "1"
      ]
     },
     "execution_count": 36,
     "metadata": {},
     "output_type": "execute_result"
    }
   ],
   "source": [
    "# modulo adalah operator matematik yang memberikan sisa dari sebuah pembagian\n",
    "7 % 3"
   ]
  },
  {
   "cell_type": "code",
   "execution_count": 42,
   "metadata": {},
   "outputs": [
    {
     "name": "stdout",
     "output_type": "stream",
     "text": [
      "9 adalah faktor 18\n",
      "18 bukan prima\n"
     ]
    }
   ],
   "source": [
    "angka = 18\n",
    "pembagi = angka - 1\n",
    "\n",
    "while(pembagi > 1):\n",
    "    if (angka % pembagi == 0):\n",
    "        print(pembagi, \"adalah faktor\", angka)\n",
    "        print(angka, \"bukan prima\")\n",
    "        break\n",
    "    pembagi -= 1"
   ]
  },
  {
   "cell_type": "markdown",
   "metadata": {},
   "source": [
    "break dengan paksa menghentikan sebuah loop\n",
    "\n",
    "biasanya kita punya kondisi if, dalam sebuah loop, kemudian kalau kondisi tersebut True, kita kasih break. kita bisa nambahkan kondisi yang dengan paksa menghentikan loop nya."
   ]
  },
  {
   "cell_type": "code",
   "execution_count": 48,
   "metadata": {},
   "outputs": [
    {
     "name": "stdout",
     "output_type": "stream",
     "text": [
      "10\n",
      "selamat malam\n",
      "9\n",
      "selamat malam\n",
      "8\n",
      "selamat malam\n",
      "7\n",
      "selamat malam\n",
      "6\n",
      "selamat malam\n",
      "5\n",
      "4\n",
      "3\n",
      "2\n",
      "1\n",
      "counternya sekarang 0\n"
     ]
    }
   ],
   "source": [
    "# coba buat sebuah loop menggunakan while\n",
    "\n",
    "counter = 10\n",
    "while (counter > 0):\n",
    "    # code yang akan diulang\n",
    "    print(counter)\n",
    "    counter -= 1\n",
    "    if (counter <= 4):\n",
    "        continue\n",
    "    print(\"selamat malam\")\n",
    "\n",
    "print(\"counternya sekarang\", counter)\n",
    "\n",
    "# kalau sudah berhasil, coba tambahkan if di dalam loop nya\n",
    "# dan tambahkan break di dalam if tersebut"
   ]
  },
  {
   "cell_type": "markdown",
   "metadata": {},
   "source": [
    "else di while loop"
   ]
  },
  {
   "cell_type": "code",
   "execution_count": 50,
   "metadata": {},
   "outputs": [
    {
     "name": "stdout",
     "output_type": "stream",
     "text": [
      "hanya terjadi saat kondisi false, yaitu pembagi <= 1\n",
      "1\n"
     ]
    }
   ],
   "source": [
    "angka = 11\n",
    "pembagi = angka - 1\n",
    "\n",
    "while(pembagi > 1):\n",
    "    if (angka % pembagi == 0):\n",
    "        print(pembagi, \"adalah faktor\", angka)\n",
    "        print(angka, \"bukan prima\")\n",
    "        break\n",
    "    pembagi -= 1\n",
    "else:\n",
    "    print(\"hanya terjadi saat kondisi false, yaitu pembagi <= 1\")\n",
    "    print(pembagi)"
   ]
  },
  {
   "cell_type": "code",
   "execution_count": 54,
   "metadata": {},
   "outputs": [
    {
     "name": "stdout",
     "output_type": "stream",
     "text": [
      "14 bukan prima\n"
     ]
    }
   ],
   "source": [
    "angka = 14\n",
    "pembagi = angka - 1\n",
    "\n",
    "while(pembagi > 1):\n",
    "    if (angka % pembagi == 0):\n",
    "        print(angka, \"bukan prima\")\n",
    "        break\n",
    "    pembagi -= 1\n",
    "else:\n",
    "    print(angka, \"adalah angka prima\")"
   ]
  },
  {
   "cell_type": "markdown",
   "metadata": {},
   "source": [
    "highlight semua code\n",
    "\n",
    "ctrl + /\n",
    "\n",
    "dan semua code akan jadi comment"
   ]
  },
  {
   "cell_type": "markdown",
   "metadata": {},
   "source": [
    "## For Loop\n",
    "mengambil setiap item dalam sebuah koleksi\n",
    "\n",
    "kalau koleksi ada 100 item, maka kita akan mengulang 100 kali\n",
    "\n",
    "koleksi termasuk:\n",
    "- string\n",
    "- range (untuk angka)\n",
    "- list\n",
    "- tuple\n",
    "- dictionary"
   ]
  },
  {
   "cell_type": "code",
   "execution_count": 55,
   "metadata": {},
   "outputs": [
    {
     "name": "stdout",
     "output_type": "stream",
     "text": [
      "H\n",
      "a\n",
      "c\n",
      "k\n",
      "t\n",
      "i\n",
      "v\n",
      "8\n"
     ]
    }
   ],
   "source": [
    "# huruf adalah nama variable, tidak harus huruf\n",
    "for huruf in \"Hacktiv8\":\n",
    "    print(huruf)"
   ]
  },
  {
   "cell_type": "markdown",
   "metadata": {},
   "source": [
    "silahkan dicoba membuat for loop menggunakan String sebagai koleksinya"
   ]
  },
  {
   "cell_type": "code",
   "execution_count": 57,
   "metadata": {},
   "outputs": [
    {
     "name": "stdout",
     "output_type": "stream",
     "text": [
      "H\n",
      "a\n",
      "c\n",
      "k\n",
      "t\n",
      "i\n",
      "v\n",
      "8\n"
     ]
    }
   ],
   "source": [
    "for b in \"Hacktiv8\":\n",
    "    print(b)"
   ]
  },
  {
   "cell_type": "code",
   "execution_count": 58,
   "metadata": {},
   "outputs": [
    {
     "name": "stdout",
     "output_type": "stream",
     "text": [
      "H\n"
     ]
    }
   ],
   "source": [
    "for b in \"H\":\n",
    "    print(b)"
   ]
  },
  {
   "cell_type": "code",
   "execution_count": 59,
   "metadata": {},
   "outputs": [
    {
     "data": {
      "text/plain": [
       "range(0, 5)"
      ]
     },
     "execution_count": 59,
     "metadata": {},
     "output_type": "execute_result"
    }
   ],
   "source": [
    "range(5)"
   ]
  },
  {
   "cell_type": "markdown",
   "metadata": {},
   "source": [
    "range membuat angka urut berderet dari 0 sampai 5, tidak termasuk 5\n",
    "\n",
    "range(5) adalah [0,1,2,3,4]"
   ]
  },
  {
   "cell_type": "code",
   "execution_count": 60,
   "metadata": {},
   "outputs": [
    {
     "name": "stdout",
     "output_type": "stream",
     "text": [
      "0\n",
      "1\n",
      "2\n",
      "3\n",
      "4\n"
     ]
    }
   ],
   "source": [
    "for a in range(5):\n",
    "    print(a)"
   ]
  },
  {
   "cell_type": "code",
   "execution_count": 61,
   "metadata": {},
   "outputs": [
    {
     "name": "stdout",
     "output_type": "stream",
     "text": [
      "0\n",
      "1\n",
      "2\n",
      "3\n",
      "4\n"
     ]
    }
   ],
   "source": [
    "for a in [0,1,2,3,4]:\n",
    "    print(a)"
   ]
  },
  {
   "cell_type": "code",
   "execution_count": 63,
   "metadata": {},
   "outputs": [
    {
     "name": "stdout",
     "output_type": "stream",
     "text": [
      "apel\n",
      "3\n",
      "pisang\n",
      "2\n"
     ]
    }
   ],
   "source": [
    "d_buah = {\"apel\":3, \"pisang\":2}\n",
    "\n",
    "for key in d_buah:\n",
    "    print(key)\n",
    "    print(d_buah[key])"
   ]
  },
  {
   "cell_type": "code",
   "execution_count": 70,
   "metadata": {},
   "outputs": [
    {
     "name": "stdout",
     "output_type": "stream",
     "text": [
      "1. A\n",
      "2. B\n",
      "3. C\n",
      "4. D\n",
      "5. E\n",
      "6. F\n",
      "7. G\n",
      "8. H\n",
      "9. I\n",
      "10. J\n",
      "11. K\n",
      "12. L\n",
      "13. M\n",
      "14. N\n",
      "15. O\n",
      "16. P\n",
      "17. Q\n",
      "18. R\n",
      "19. S\n",
      "20. T\n",
      "21. U\n",
      "22. V\n",
      "23. W\n",
      "24. X\n",
      "25. Y\n",
      "26. Z\n"
     ]
    }
   ],
   "source": [
    "abjad = \"abcdefghijklmnopqrstuvwxyz\"\n",
    "counter = 1\n",
    "for a in abjad.upper():\n",
    "    print(str(counter) + \".\",  a)\n",
    "    counter += 1"
   ]
  },
  {
   "cell_type": "code",
   "execution_count": 73,
   "metadata": {},
   "outputs": [
    {
     "name": "stdout",
     "output_type": "stream",
     "text": [
      "1 a\n",
      "2 b\n",
      "3 c\n",
      "4 d\n",
      "5 e\n",
      "6 f\n",
      "7 g\n",
      "8 h\n",
      "9 i\n",
      "10 j\n",
      "11 k\n",
      "12 l\n",
      "13 m\n",
      "14 n\n",
      "15 o\n",
      "16 p\n",
      "17 q\n",
      "18 r\n",
      "19 s\n",
      "20 t\n",
      "21 u\n",
      "22 v\n",
      "23 w\n",
      "24 x\n",
      "25 y\n",
      "26 z\n"
     ]
    }
   ],
   "source": [
    "abjad = \"abcdefghijklmnopqrstuvwxyz\"\n",
    "\n",
    "for index in range(1, 27):\n",
    "    print(index, abjad[index-1])"
   ]
  },
  {
   "cell_type": "markdown",
   "metadata": {},
   "source": [
    "ada 3 cara pakai range\n",
    "\n",
    "1. range(5) artinya [0,1,2,3,4]\n",
    "2. range(5, 11) artinya [5,6,7,8,9,10]\n",
    "3. range(5, 34, 7) artinya [5,12,19,26,33]"
   ]
  },
  {
   "cell_type": "code",
   "execution_count": 74,
   "metadata": {},
   "outputs": [
    {
     "name": "stdout",
     "output_type": "stream",
     "text": [
      "0\n",
      "1\n",
      "2\n",
      "3\n",
      "4\n"
     ]
    }
   ],
   "source": [
    "for a in range(5):\n",
    "    print(a)"
   ]
  },
  {
   "cell_type": "code",
   "execution_count": 75,
   "metadata": {},
   "outputs": [
    {
     "name": "stdout",
     "output_type": "stream",
     "text": [
      "5\n",
      "6\n",
      "7\n",
      "8\n",
      "9\n",
      "10\n"
     ]
    }
   ],
   "source": [
    "for a in range(5,11):\n",
    "    print(a)"
   ]
  },
  {
   "cell_type": "code",
   "execution_count": 77,
   "metadata": {},
   "outputs": [
    {
     "name": "stdout",
     "output_type": "stream",
     "text": [
      "5\n",
      "12\n",
      "19\n",
      "26\n",
      "33\n"
     ]
    }
   ],
   "source": [
    "for a in range(5,34,7):\n",
    "    print(a)"
   ]
  },
  {
   "cell_type": "code",
   "execution_count": null,
   "metadata": {},
   "outputs": [],
   "source": []
  }
 ],
 "metadata": {
  "kernelspec": {
   "display_name": "base",
   "language": "python",
   "name": "python3"
  },
  "language_info": {
   "codemirror_mode": {
    "name": "ipython",
    "version": 3
   },
   "file_extension": ".py",
   "mimetype": "text/x-python",
   "name": "python",
   "nbconvert_exporter": "python",
   "pygments_lexer": "ipython3",
   "version": "3.9.13"
  },
  "orig_nbformat": 4
 },
 "nbformat": 4,
 "nbformat_minor": 2
}
