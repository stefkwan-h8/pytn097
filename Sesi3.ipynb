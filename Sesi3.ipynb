{
 "cells": [
  {
   "cell_type": "markdown",
   "metadata": {},
   "source": [
    "# Function\n",
    "seperti membuat variable khusus untuk simpan code, dengan keyword \"def\""
   ]
  },
  {
   "cell_type": "code",
   "execution_count": 7,
   "metadata": {},
   "outputs": [],
   "source": [
    "def menyapa():\n",
    "    print(\"halo\")\n",
    "    print(\"selamat malam\")"
   ]
  },
  {
   "cell_type": "code",
   "execution_count": 2,
   "metadata": {},
   "outputs": [
    {
     "data": {
      "text/plain": [
       "<function __main__.menyapa()>"
      ]
     },
     "execution_count": 2,
     "metadata": {},
     "output_type": "execute_result"
    }
   ],
   "source": [
    "menyapa"
   ]
  },
  {
   "cell_type": "code",
   "execution_count": 3,
   "metadata": {},
   "outputs": [
    {
     "name": "stdout",
     "output_type": "stream",
     "text": [
      "halo\n",
      "selamat malam\n"
     ]
    }
   ],
   "source": [
    "menyapa()"
   ]
  },
  {
   "cell_type": "markdown",
   "metadata": {},
   "source": [
    "untuk menjalankan code yang ada di dalam function, selain memanggil nama function tersebut, kita juga \"invoke\" function nya menggunakan ()\n",
    "\n",
    "() yang ada di sebelah nama function menandakan variable variable spesial milik function tersebut.\n",
    "\n",
    "di contoh diatas, function menyapa tidak memiliki variable spesial.\n",
    "\n",
    "variable spesial ini sering dinamakan argumen atau parameter."
   ]
  },
  {
   "cell_type": "code",
   "execution_count": 4,
   "metadata": {},
   "outputs": [
    {
     "name": "stdout",
     "output_type": "stream",
     "text": [
      "halo\n",
      "selamat malam\n",
      "halo\n",
      "selamat malam\n",
      "halo\n",
      "selamat malam\n"
     ]
    }
   ],
   "source": [
    "menyapa()\n",
    "menyapa()\n",
    "menyapa()"
   ]
  },
  {
   "cell_type": "code",
   "execution_count": null,
   "metadata": {},
   "outputs": [],
   "source": [
    "# ini komentar, tidak termasuk code\n",
    "\"ini juga komentar\""
   ]
  },
  {
   "cell_type": "markdown",
   "metadata": {},
   "source": [
    "misalkan kita mau membuat code yang menyapa, dengan informasi pagi/ siang/ malam"
   ]
  },
  {
   "cell_type": "code",
   "execution_count": 6,
   "metadata": {},
   "outputs": [],
   "source": [
    "def menyapaDenganWaktu(waktu):\n",
    "    # waktu adalah parameter/ argumen/ variable spesial milik function menyapa\n",
    "    print(\"selamat\", waktu)"
   ]
  },
  {
   "cell_type": "code",
   "execution_count": 8,
   "metadata": {},
   "outputs": [
    {
     "data": {
      "text/plain": [
       "<function __main__.menyapaDenganWaktu(waktu)>"
      ]
     },
     "execution_count": 8,
     "metadata": {},
     "output_type": "execute_result"
    }
   ],
   "source": [
    "menyapaDenganWaktu"
   ]
  },
  {
   "cell_type": "code",
   "execution_count": 10,
   "metadata": {},
   "outputs": [
    {
     "name": "stdout",
     "output_type": "stream",
     "text": [
      "selamat pagi\n"
     ]
    }
   ],
   "source": [
    "menyapaDenganWaktu(\"pagi\")"
   ]
  },
  {
   "cell_type": "code",
   "execution_count": 11,
   "metadata": {},
   "outputs": [
    {
     "name": "stdout",
     "output_type": "stream",
     "text": [
      "selamat pagi\n",
      "selamat siang\n",
      "selamat sore\n",
      "selamat malam\n"
     ]
    }
   ],
   "source": [
    "menyapaDenganWaktu(\"pagi\")\n",
    "menyapaDenganWaktu(\"siang\")\n",
    "menyapaDenganWaktu(\"sore\")\n",
    "menyapaDenganWaktu(\"malam\")"
   ]
  },
  {
   "cell_type": "markdown",
   "metadata": {},
   "source": [
    "1. Coba buat sebuah function tanpa argumen\n",
    "2. coba buat sebuah function yang menerima argumen angka, lalu print angka tersebut di dalam code function nya\n",
    "3. coba buat sebuah function yang menerima argumen angka, lalu print sebuah loop menggunakan for loop dan range.   \n",
    "misalkan angka 5, print nya 0,1,2,3,4"
   ]
  },
  {
   "cell_type": "code",
   "execution_count": 12,
   "metadata": {},
   "outputs": [],
   "source": [
    "def logger():\n",
    "    print(123)"
   ]
  },
  {
   "cell_type": "code",
   "execution_count": 13,
   "metadata": {},
   "outputs": [
    {
     "name": "stdout",
     "output_type": "stream",
     "text": [
      "123\n"
     ]
    }
   ],
   "source": [
    "logger()"
   ]
  },
  {
   "cell_type": "code",
   "execution_count": 14,
   "metadata": {},
   "outputs": [],
   "source": [
    "def logger(num):\n",
    "    print(\"angkanya adalah:\", num)"
   ]
  },
  {
   "cell_type": "code",
   "execution_count": 15,
   "metadata": {},
   "outputs": [
    {
     "name": "stdout",
     "output_type": "stream",
     "text": [
      "angkanya adalah: 5\n"
     ]
    }
   ],
   "source": [
    "logger(5)"
   ]
  },
  {
   "cell_type": "code",
   "execution_count": 16,
   "metadata": {},
   "outputs": [],
   "source": [
    "def logger(num):\n",
    "    for c in range(num):\n",
    "        print(c)"
   ]
  },
  {
   "cell_type": "code",
   "execution_count": 17,
   "metadata": {},
   "outputs": [
    {
     "name": "stdout",
     "output_type": "stream",
     "text": [
      "0\n",
      "1\n",
      "2\n",
      "3\n",
      "4\n"
     ]
    }
   ],
   "source": [
    "logger(5)"
   ]
  },
  {
   "cell_type": "markdown",
   "metadata": {},
   "source": [
    "function yang kita buat sejauh ini semuanya \"print\" saja, menjalankan code untuk menampilkan code\n",
    "\n",
    "tapi, selain \"print\" function lebih umum digunakan untuk melakukan sebuah proses.\n",
    "\n",
    "misalkan kalkulasi, rangkuman, filter, sortir, dll...\n",
    "\n",
    "input -> proses -> output\n",
    "\n",
    "input misalkan sebuah list berisi angka-angka plat mobil dan tanggal hari ini, di proses di sebuah function, kemudian kita dapat output ada berapa mobil yang melanggar ganjil genap. (2 input angka, 1 output angka)\n",
    "\n",
    "input misalkan sebuah text, proses di function, output kita diberikan jumlah huruf \"a\" yang ada di dalam text tersebut. (1 input text, 1 output angka)\n",
    "\n",
    "input misalkan sebuah text, proses di function, output kita diberikan jumlah setiap huruf yang ada di dalam text tersebut. (1 input text, 1 output dictionary huruf a brp, b brp, c brp, ...)"
   ]
  },
  {
   "cell_type": "code",
   "execution_count": 18,
   "metadata": {},
   "outputs": [
    {
     "name": "stdout",
     "output_type": "stream",
     "text": [
      "0\n",
      "1\n",
      "2\n",
      "3\n",
      "4\n"
     ]
    }
   ],
   "source": [
    "hasil_function = logger(5)"
   ]
  },
  {
   "cell_type": "code",
   "execution_count": 19,
   "metadata": {},
   "outputs": [
    {
     "name": "stdout",
     "output_type": "stream",
     "text": [
      "None\n"
     ]
    }
   ],
   "source": [
    "print(hasil_function)"
   ]
  },
  {
   "cell_type": "markdown",
   "metadata": {},
   "source": [
    "kalau cuma di print, hasil kalkulasi function tidak bisa disimpan. tidak bisa di capture di luar.\n",
    "\n",
    "kita belajar keyword \"return\"\n",
    "\n",
    "return mengembalikan sebuah value ke tempat function tersebut dipanggil"
   ]
  },
  {
   "cell_type": "code",
   "execution_count": 20,
   "metadata": {},
   "outputs": [],
   "source": [
    "def tambahSepuluh(num):\n",
    "    return num + 10"
   ]
  },
  {
   "cell_type": "code",
   "execution_count": 21,
   "metadata": {},
   "outputs": [],
   "source": [
    "hasil_function = tambahSepuluh(5)"
   ]
  },
  {
   "cell_type": "code",
   "execution_count": 22,
   "metadata": {},
   "outputs": [
    {
     "name": "stdout",
     "output_type": "stream",
     "text": [
      "15\n"
     ]
    }
   ],
   "source": [
    "print(hasil_function)"
   ]
  },
  {
   "cell_type": "markdown",
   "metadata": {},
   "source": [
    "dengan keyword return, kita berhasil mengembalikan (me-return) sebuah value angka 15 di contoh di atas."
   ]
  },
  {
   "cell_type": "code",
   "execution_count": 23,
   "metadata": {},
   "outputs": [],
   "source": [
    "# input list berisi angka-angka plat mobil dan tanggal hari ini, \n",
    "# output ada berapa mobil yang melanggar ganjil genap\n",
    "\n",
    "def totalPelanggar(list_plat, tanggal_hari_ini):\n",
    "    counter = 0\n",
    "    for plat in list_plat:\n",
    "        if ((plat % 2) != (tanggal_hari_ini % 2)):\n",
    "            counter += 1\n",
    "    return counter"
   ]
  },
  {
   "cell_type": "code",
   "execution_count": 24,
   "metadata": {},
   "outputs": [
    {
     "name": "stdout",
     "output_type": "stream",
     "text": [
      "total pelanggar hari ini ada: 3 mobil\n"
     ]
    }
   ],
   "source": [
    "hasil_function = totalPelanggar([1234,8910,823,543,678], 31)\n",
    "\n",
    "print(\"total pelanggar hari ini ada:\", hasil_function, \"mobil\")"
   ]
  },
  {
   "cell_type": "markdown",
   "metadata": {},
   "source": [
    "jika sudah sedikit banyak memahami cara menggunakan keyword \"return\"\n",
    "\n",
    "Cobalah membuat sebuah function menggunakan keyword return, simpan hasil return ke variable, lalu print variable tersebut.\n",
    "\n",
    "```python\n",
    "print() # function print bawaan python\n",
    "return # keyword khusus untuk digunakan di dalam sebuah function yang kita buat\n",
    "```"
   ]
  },
  {
   "cell_type": "code",
   "execution_count": 25,
   "metadata": {},
   "outputs": [],
   "source": [
    "def tambah(a, b):\n",
    "    print(\"ini adalah function tambah yang menambahkan\",a,\"dengan\",b)\n",
    "    return a + b"
   ]
  },
  {
   "cell_type": "code",
   "execution_count": 31,
   "metadata": {},
   "outputs": [
    {
     "name": "stdout",
     "output_type": "stream",
     "text": [
      "ini adalah function tambah yang menambahkan 5 dengan 9\n",
      "ini adalah function tambah yang menambahkan halo dengan malam\n"
     ]
    }
   ],
   "source": [
    "hasil_function = tambah(5, 9)\n",
    "\n",
    "hasil_function = tambah(\"halo\", \"malam\")"
   ]
  },
  {
   "cell_type": "markdown",
   "metadata": {},
   "source": [
    "kita break, jam 20.10\n",
    "\n",
    "kita bisa lanjut ke pembahasan argumen. argumen bisa lebih dari satu. \n",
    "\n",
    "argumen ada 2 jenis berbeda:\n",
    "- required (harus diisi)\n",
    "- default (tidak harus diisi karena punya default value)\n",
    "\n",
    "cara isi argumen ada 2 teknik:\n",
    "- positional (diisi sesuai lokasi, apakah dia argumen pertama, kedua, ketiga, ...)\n",
    "- keyword (isi menggunakan nama argumennya)"
   ]
  },
  {
   "cell_type": "code",
   "execution_count": 32,
   "metadata": {},
   "outputs": [],
   "source": [
    "def menyapa(nama, waktu, tempat):\n",
    "    print(\"selamat\", waktu, \"pak/bu\", nama, \"di\", tempat)\n",
    "    "
   ]
  },
  {
   "cell_type": "code",
   "execution_count": 34,
   "metadata": {},
   "outputs": [
    {
     "name": "stdout",
     "output_type": "stream",
     "text": [
      "selamat pagi pak/bu Andhika di kantor\n"
     ]
    }
   ],
   "source": [
    "menyapa(\"Andhika\", \"pagi\", \"kantor\")"
   ]
  },
  {
   "cell_type": "code",
   "execution_count": 35,
   "metadata": {},
   "outputs": [],
   "source": [
    "def menyapaDenganDefault(nama=\"Andi\", waktu=\"pagi\", tempat=\"tempat\"):\n",
    "    print(\"selamat\", waktu, \"pak/bu\", nama, \"di\", tempat)"
   ]
  },
  {
   "cell_type": "code",
   "execution_count": 36,
   "metadata": {},
   "outputs": [
    {
     "name": "stdout",
     "output_type": "stream",
     "text": [
      "selamat pagi pak/bu Andi di tempat\n"
     ]
    }
   ],
   "source": [
    "menyapaDenganDefault()"
   ]
  },
  {
   "cell_type": "code",
   "execution_count": 37,
   "metadata": {},
   "outputs": [
    {
     "name": "stdout",
     "output_type": "stream",
     "text": [
      "selamat pagi pak/bu Budiman di tempat\n"
     ]
    }
   ],
   "source": [
    "menyapaDenganDefault(\"Budiman\")"
   ]
  },
  {
   "cell_type": "markdown",
   "metadata": {},
   "source": [
    "dengan membuat default argumen, function kita jadi tidak harus diisi argumen, tidak required lagi.\n",
    "\n",
    "kalau mau dicampur, selalu tulis required argumen duluan, baru diikuti default argumen"
   ]
  },
  {
   "cell_type": "code",
   "execution_count": 38,
   "metadata": {},
   "outputs": [],
   "source": [
    "def menyapaDenganDefault(nama, waktu=\"pagi\", tempat=\"tempat\"):\n",
    "    print(\"selamat\", waktu, \"pak/bu\", nama, \"di\", tempat)"
   ]
  },
  {
   "cell_type": "code",
   "execution_count": 40,
   "metadata": {},
   "outputs": [
    {
     "name": "stdout",
     "output_type": "stream",
     "text": [
      "selamat pagi pak/bu Cantika di tempat\n"
     ]
    }
   ],
   "source": [
    "menyapaDenganDefault(\"Cantika\")"
   ]
  },
  {
   "cell_type": "code",
   "execution_count": 41,
   "metadata": {},
   "outputs": [
    {
     "name": "stdout",
     "output_type": "stream",
     "text": [
      "selamat pagi pak/bu  di tempat\n"
     ]
    }
   ],
   "source": [
    "menyapaDenganDefault(\"\")"
   ]
  },
  {
   "cell_type": "markdown",
   "metadata": {},
   "source": [
    "itulah perbedaan \"required\" dan \"default\" argumen\n",
    "\n",
    "berikutnya kita jelaskan perbedaan \"positional\" dengan \"keyword\" cara isi argumen yg berbeda"
   ]
  },
  {
   "cell_type": "code",
   "execution_count": 43,
   "metadata": {},
   "outputs": [
    {
     "name": "stdout",
     "output_type": "stream",
     "text": [
      "selamat malam pak/bu helen di rumah\n"
     ]
    }
   ],
   "source": [
    "menyapaDenganDefault(waktu=\"malam\", tempat=\"rumah\", nama=\"helen\")"
   ]
  },
  {
   "cell_type": "markdown",
   "metadata": {},
   "source": [
    "kita menggunakan teknik keyword untuk mengisi argumen di function di atas\n",
    "\n",
    "kita bisa punya semua jenis argumen dan semua teknik isi argumen di satu function yang sama. contohnya function menyapaDenganDefault yang kita buat punya required dan default argumen. kita akan isi argumen2 ini dengan positional dan keyword. positional selalu duluan."
   ]
  },
  {
   "cell_type": "code",
   "execution_count": 44,
   "metadata": {},
   "outputs": [
    {
     "name": "stdout",
     "output_type": "stream",
     "text": [
      "selamat pagi pak/bu Kartika di cafe\n"
     ]
    }
   ],
   "source": [
    "menyapaDenganDefault(\"Kartika\", tempat=\"cafe\")"
   ]
  },
  {
   "cell_type": "markdown",
   "metadata": {},
   "source": [
    "beberapa hal berikut yang mau kita bahas:\n",
    "\n",
    "- variable-length argumen\n",
    "- konsep pass by reference dan pass by value\n",
    "- module\n",
    "- package\n",
    "\n",
    "kita mulai dengan \n",
    "## variable-length argumen\n",
    "\n",
    "sejauh ini argumen yang kita tulis untuk function bisa diisi satu data. padahal function pertama yang kita pelajari, \"print\" bisa menerima 0-banyak argumen."
   ]
  },
  {
   "cell_type": "code",
   "execution_count": 45,
   "metadata": {},
   "outputs": [
    {
     "name": "stdout",
     "output_type": "stream",
     "text": [
      "\n"
     ]
    }
   ],
   "source": [
    "print()"
   ]
  },
  {
   "cell_type": "code",
   "execution_count": 46,
   "metadata": {},
   "outputs": [
    {
     "name": "stdout",
     "output_type": "stream",
     "text": [
      "1 2 3 3 4 5\n"
     ]
    }
   ],
   "source": [
    "print(1,2,3,3,4,5)"
   ]
  },
  {
   "cell_type": "markdown",
   "metadata": {},
   "source": [
    "kita gunakan * di depan nama argumen untuk membuat dia menjadi variable-length argumen. argumen yang bisa diisi 0-banyak data."
   ]
  },
  {
   "cell_type": "code",
   "execution_count": 47,
   "metadata": {},
   "outputs": [],
   "source": [
    "def sapaBanyak(*nama_orang):\n",
    "    for nama in nama_orang:\n",
    "        print(\"halo\", nama)"
   ]
  },
  {
   "cell_type": "code",
   "execution_count": 48,
   "metadata": {},
   "outputs": [],
   "source": [
    "sapaBanyak()"
   ]
  },
  {
   "cell_type": "code",
   "execution_count": 49,
   "metadata": {},
   "outputs": [
    {
     "name": "stdout",
     "output_type": "stream",
     "text": [
      "halo andi\n",
      "halo budi\n",
      "halo cindy\n"
     ]
    }
   ],
   "source": [
    "sapaBanyak(\"andi\", \"budi\", \"cindy\")"
   ]
  },
  {
   "cell_type": "markdown",
   "metadata": {},
   "source": [
    "## pass by reference, pass by value\n",
    "untuk tipe data terstruktur, datanya tidak dibuat duplikat banyak kali.\n",
    "\n",
    "misalkan kita buat list"
   ]
  },
  {
   "cell_type": "code",
   "execution_count": 50,
   "metadata": {},
   "outputs": [],
   "source": [
    "buah_buahan = [\"apel\", \"jeruk\", \"pisang\"]"
   ]
  },
  {
   "cell_type": "markdown",
   "metadata": {},
   "source": [
    "lalu kita buat copy dari list tersebut"
   ]
  },
  {
   "cell_type": "code",
   "execution_count": 51,
   "metadata": {},
   "outputs": [],
   "source": [
    "buah_buahan_copy = buah_buahan"
   ]
  },
  {
   "cell_type": "markdown",
   "metadata": {},
   "source": [
    "yang terjadi adalah, kedua variable berbeda yang kita buat, \"buah_buahan\" dan \"buah_buahan_copy\" menunjuk ke data yang sama.\n",
    "\n",
    "ibarat alamat beda, rumah sama. satu rumah 2 alamat."
   ]
  },
  {
   "cell_type": "code",
   "execution_count": 52,
   "metadata": {},
   "outputs": [
    {
     "name": "stdout",
     "output_type": "stream",
     "text": [
      "['apel', 'jeruk', 'pisang']\n",
      "['apel', 'jeruk', 'pisang']\n"
     ]
    }
   ],
   "source": [
    "print(buah_buahan)\n",
    "print(buah_buahan_copy)"
   ]
  },
  {
   "cell_type": "code",
   "execution_count": 53,
   "metadata": {},
   "outputs": [],
   "source": [
    "buah_buahan_copy.append(\"semangta\")"
   ]
  },
  {
   "cell_type": "code",
   "execution_count": 54,
   "metadata": {},
   "outputs": [
    {
     "name": "stdout",
     "output_type": "stream",
     "text": [
      "['apel', 'jeruk', 'pisang', 'semangta']\n",
      "['apel', 'jeruk', 'pisang', 'semangta']\n"
     ]
    }
   ],
   "source": [
    "print(buah_buahan)\n",
    "print(buah_buahan_copy)"
   ]
  },
  {
   "cell_type": "code",
   "execution_count": 55,
   "metadata": {},
   "outputs": [
    {
     "name": "stdout",
     "output_type": "stream",
     "text": [
      "apel\n",
      "apel\n",
      "apel\n",
      "apel...!!!\n"
     ]
    }
   ],
   "source": [
    "# pass by value untuk tipe data primitif/ basic\n",
    "nama_buah = \"apel\"\n",
    "copy_nama_buah = nama_buah\n",
    "\n",
    "print(nama_buah)\n",
    "print(copy_nama_buah)\n",
    "\n",
    "copy_nama_buah += \"...!!!\"\n",
    "\n",
    "print(nama_buah)\n",
    "print(copy_nama_buah)"
   ]
  },
  {
   "cell_type": "markdown",
   "metadata": {},
   "source": [
    "misalkan kita punya function yang mengubah data input\n",
    "\n",
    "input -> proses -> output\n",
    "\n",
    "function yang baik tidak mengubah data awal. misalkan data awal tersebut hasil tarikan dari database, kita tidak mau sebuah fucntion mengubah database kita. jadi kita perlu perhatikan pass by reference ini saaat membuat sebuah function.\n",
    "\n",
    "misalkan, kita punya function yang menerima list buah buahan, dan menambahkan buah baru ke list tersebut. kita tidak mau list awal yang kita terima ikutan berubah."
   ]
  },
  {
   "cell_type": "code",
   "execution_count": 66,
   "metadata": {},
   "outputs": [],
   "source": [
    "def addBuah(list_buah, *buah_tambahan):\n",
    "    # buat dulu deep copy list_buah supaya data asli tidak ikutan berubah\n",
    "    list_buah_copy = list_buah.copy()\n",
    "    \n",
    "    for bt in buah_tambahan:\n",
    "        list_buah_copy.append(bt)\n",
    "\n",
    "    return list_buah_copy"
   ]
  },
  {
   "cell_type": "code",
   "execution_count": 69,
   "metadata": {},
   "outputs": [
    {
     "name": "stdout",
     "output_type": "stream",
     "text": [
      "['apel', 'jeruk', 'pisang']\n"
     ]
    }
   ],
   "source": [
    "buah_buahan = [\"apel\", \"jeruk\", \"pisang\"]\n",
    "print(buah_buahan)"
   ]
  },
  {
   "cell_type": "code",
   "execution_count": 70,
   "metadata": {},
   "outputs": [
    {
     "name": "stdout",
     "output_type": "stream",
     "text": [
      "['apel', 'jeruk', 'pisang']\n",
      "['apel', 'jeruk', 'pisang', 'kelapa', 'nangka']\n"
     ]
    }
   ],
   "source": [
    "list_baru = addBuah(buah_buahan, \"kelapa\", \"nangka\")\n",
    "\n",
    "print(buah_buahan)\n",
    "print(list_baru)"
   ]
  },
  {
   "cell_type": "markdown",
   "metadata": {},
   "source": [
    "cobalah membuat sebuah variable dengan isi tipe data structured\n",
    "(list, dictionary)\n",
    "\n",
    "buat copy nya, variable baru = variable tadi\n",
    "\n",
    "coba tambahkan value ke variable baru tipe data structured tersebut\n",
    "\n",
    "print hasil kedua variable tersebut\n",
    "\n",
    "apakah variable awal kita ikut berubah?\n",
    "\n",
    "coba sekali lagi, gunakan .copy() saat membuat variable baru"
   ]
  },
  {
   "cell_type": "code",
   "execution_count": 72,
   "metadata": {},
   "outputs": [
    {
     "name": "stdout",
     "output_type": "stream",
     "text": [
      "['Apel', 'Anggur', 'Jeruk']\n",
      "['Apel', 'Anggur', 'Jeruk', 'Semangka']\n"
     ]
    }
   ],
   "source": [
    "buah_buahan = [\"Apel\", \"Anggur\",\"Jeruk\"]\n",
    "\n",
    "buah_buahan_copy = buah_buahan.copy()\n",
    "\n",
    "buah_buahan_copy.append(\"Semangka\")\n",
    "\n",
    "print(buah_buahan)\n",
    "print(buah_buahan_copy)"
   ]
  },
  {
   "cell_type": "markdown",
   "metadata": {},
   "source": [
    "anonymous function\n",
    "\n",
    "menulis function tanpa nama, dalam 1 barus\n",
    "\n",
    "function tanpa nama --> anonymous\n",
    "\n",
    "pakai keyword lambda, bukan def"
   ]
  },
  {
   "cell_type": "code",
   "execution_count": null,
   "metadata": {},
   "outputs": [],
   "source": [
    "# kedua function ini sama cara pakai dan hasilnya\n",
    "tambahTambahan = lambda a, b: a + b\n",
    "\n",
    "def tambahTambahan (a, b):\n",
    "    return a + b"
   ]
  },
  {
   "cell_type": "markdown",
   "metadata": {},
   "source": [
    "## Scope of Variable\n",
    "variable yang kita buat ada tempat \"hidup\" nya, ada tempat tempat dimana sebuah variable itu tidak exist, tidak ada\n",
    "\n",
    "contohnya, variable yang kita buat di dalam sebuah function, tidak bisa dibaca di luar function tersebut.\n",
    "\n",
    "variable yang kita buat di luar function, bisa dibaca di dalam function tersebut. walaupun ini bukan best practice, baiknya function hanya membaca variable yang ada di argumen milik dia sendiri."
   ]
  },
  {
   "cell_type": "code",
   "execution_count": 79,
   "metadata": {},
   "outputs": [],
   "source": [
    "nilai_andi = 80 # scope global\n",
    "\n",
    "def cekNilai(nilai):\n",
    "    # convert nilai 90+ jadi A, sisanya jadi B\n",
    "    grade = \"-\" # scope dalam function cekNilai\n",
    "    # argumen nilai juga scope di dalam function cekNilai\n",
    "    if (nilai >= 90):\n",
    "        grade = \"A\"\n",
    "    else:\n",
    "        grade = \"B\"\n",
    "\n",
    "    # variable global nilai_andi bisa dibaca di dalam function cekNilai\n",
    "    print(\"nilai Andi aja\", nilai_andi, \"masa nilai kamu\", nilai)\n",
    "\n",
    "    return grade\n",
    "\n",
    "def tesNilai():\n",
    "    # bisa baca variable global nilai_andi\n",
    "    print(nilai_andi, cekNilai(nilai_andi))\n",
    "\n",
    "    # tidak bisa baca variable milik function cekNilai\n",
    "    # print(nilai, grade)\n",
    "    n = 10"
   ]
  },
  {
   "cell_type": "code",
   "execution_count": 78,
   "metadata": {},
   "outputs": [
    {
     "name": "stdout",
     "output_type": "stream",
     "text": [
      "nilai Andi aja 80 masa nilai kamu 60\n",
      "global kebaca 80\n",
      "nilai Andi aja 80 masa nilai kamu 80\n",
      "80 B\n"
     ]
    }
   ],
   "source": [
    "cekNilai(60)\n",
    "\n",
    "print(\"global kebaca\", nilai_andi)\n",
    "# print(\"variable scope di dalam function cekNilai tidak terbaca\", nilai, grade)\n",
    "\n",
    "tesNilai()"
   ]
  },
  {
   "cell_type": "markdown",
   "metadata": {},
   "source": [
    "### recap\n",
    "- pembuatan function\n",
    "- tujuan function\n",
    "- argument: required, default, variable-length, positional, keyword\n",
    "- return\n",
    "- pass by reference\n",
    "- anonymous function\n",
    "- scope of variable\n",
    "\n",
    "break 21.20 lalu kita masuk ke module"
   ]
  },
  {
   "cell_type": "code",
   "execution_count": 91,
   "metadata": {},
   "outputs": [
    {
     "name": "stdout",
     "output_type": "stream",
     "text": [
      "['lulu', 'lula', 'lazlo', 'yupmi']\n",
      "['lulu', 'lula', 'lazlo', 'yupmi']\n"
     ]
    }
   ],
   "source": [
    "list_peserta = [\"lulu\", \"lula\", \"lazlo\"]\n",
    "\n",
    "list_peserta_copy = list_peserta\n",
    "\n",
    "list_peserta_copy += [\"yupmi\"]\n",
    "\n",
    "print (list_peserta)\n",
    "print (list_peserta_copy)"
   ]
  },
  {
   "cell_type": "code",
   "execution_count": 92,
   "metadata": {},
   "outputs": [],
   "source": [
    "def pesertaCourse(list_peserta, *perserta_tambahan):\n",
    "    list_peserta_copy = list_peserta.copy()\n",
    "    for lp in perserta_tambahan:\n",
    "        list_peserta_copy.append(lp)\n",
    "\n",
    "    return list_peserta_copy"
   ]
  },
  {
   "cell_type": "code",
   "execution_count": 93,
   "metadata": {},
   "outputs": [
    {
     "name": "stdout",
     "output_type": "stream",
     "text": [
      "['lulu', 'lula', 'lazlo', 'yupmi'] data awal kita\n",
      "['lulu', 'lula', 'lazlo', 'yupmi', 'penny'] hasil output function pesertaCourse\n"
     ]
    }
   ],
   "source": [
    "hasil = pesertaCourse(list_peserta, \"penny\")\n",
    "\n",
    "print(list_peserta, \"data awal kita\")\n",
    "print(hasil, \"hasil output function pesertaCourse\")"
   ]
  },
  {
   "cell_type": "code",
   "execution_count": 94,
   "metadata": {},
   "outputs": [
    {
     "name": "stdout",
     "output_type": "stream",
     "text": [
      "['apple', 'orange', 'nanas']\n",
      "['apple', 'orange', 'nanas', 'durian']\n"
     ]
    }
   ],
   "source": [
    "fruits = [\"apple\", \"orange\", \"nanas\"]\n",
    "\n",
    "def addFruit(fruits,*extra):\n",
    "    fruits_copy = fruits.copy() #first we create a copy of the initial list\n",
    "    for fruit in extra:\n",
    "        fruits_copy.append(fruit) # then append the extra fruit to the copy\n",
    "    return fruits_copy\n",
    "\n",
    "hasil = addFruit(fruits, \"durian\")\n",
    "print (fruits)\n",
    "print (hasil)"
   ]
  },
  {
   "cell_type": "code",
   "execution_count": 95,
   "metadata": {},
   "outputs": [
    {
     "name": "stdout",
     "output_type": "stream",
     "text": [
      "Nilai Andi =  80  Sedangkan Nilai Kamu  90  dan Grade 1\n",
      "Angka nya adalah =  sama\n"
     ]
    }
   ],
   "source": [
    "nilai_andi = 80\n",
    "\n",
    "def cekNilai(nilai):\n",
    "    grade = 0\n",
    "    if(nilai > 80):\n",
    "        grade = 1\n",
    "    else:\n",
    "        grade = 2\n",
    "\n",
    "    print(\"Nilai Andi = \",nilai_andi,\" Sedangkan Nilai Kamu \",nilai,\" dan Grade\",grade)\n",
    "    return grade\n",
    "\n",
    "def cekAngka(bulan):\n",
    "    bln = \"\"\n",
    "    if(bulan == 1):\n",
    "        bln = \"sama\"\n",
    "    else:\n",
    "        bln = \"beda\"\n",
    "    return bln\n",
    "\n",
    "\n",
    "tmp_angka = cekNilai(90) # ekspektasi 1\n",
    "cetak = cekAngka(tmp_angka) # ekspektasi sama\n",
    "print(\"Angka nya adalah = \",cetak)"
   ]
  },
  {
   "cell_type": "markdown",
   "metadata": {},
   "source": [
    "# Module\n",
    "file terpisah\n",
    "\n",
    "file .py\n",
    "\n",
    "file berisi code, variable, function, class, data, dll semua yang bisa ditulis di bahasa Python\n",
    "\n",
    "\n",
    "module kemudian bisa kita import kedalam notebook, untuk kita pakai code yang ada di dalamnya. function, variable, class, biasanya kita pakai."
   ]
  },
  {
   "cell_type": "code",
   "execution_count": 96,
   "metadata": {},
   "outputs": [],
   "source": [
    "import andi"
   ]
  },
  {
   "cell_type": "code",
   "execution_count": 97,
   "metadata": {},
   "outputs": [
    {
     "data": {
      "text/plain": [
       "{'edukasi': 'S1',\n",
       " 'keluaga': 'berkeluarga',\n",
       " 'mencari_pekerjaan': True,\n",
       " 'tahun_lahir': 1996}"
      ]
     },
     "execution_count": 97,
     "metadata": {},
     "output_type": "execute_result"
    }
   ],
   "source": [
    "andi.background"
   ]
  },
  {
   "cell_type": "code",
   "execution_count": 98,
   "metadata": {},
   "outputs": [
    {
     "data": {
      "text/plain": [
       "<function andi.kenalan()>"
      ]
     },
     "execution_count": 98,
     "metadata": {},
     "output_type": "execute_result"
    }
   ],
   "source": [
    "andi.kenalan"
   ]
  },
  {
   "cell_type": "code",
   "execution_count": 99,
   "metadata": {},
   "outputs": [
    {
     "name": "stdout",
     "output_type": "stream",
     "text": [
      "nama saya Andhika Widjaja\n",
      "saya lahir di tahun 1996\n",
      "salam kenal\n"
     ]
    }
   ],
   "source": [
    "andi.kenalan()"
   ]
  },
  {
   "cell_type": "markdown",
   "metadata": {},
   "source": [
    "coba buat sebuah file .py\n",
    "\n",
    "isi dengan variable dan function\n",
    "\n",
    "import module tersebut dengan keyword \"import\" lalu nama file tanpa .py di belakang\n",
    "\n",
    "pastikan file notebook dan module ada di folder yang sama"
   ]
  },
  {
   "cell_type": "code",
   "execution_count": 100,
   "metadata": {},
   "outputs": [
    {
     "data": {
      "text/plain": [
       "['c:\\\\Users\\\\stefa\\\\Documents\\\\PYTN097',\n",
       " 'c:\\\\Users\\\\stefa\\\\anaconda3\\\\python39.zip',\n",
       " 'c:\\\\Users\\\\stefa\\\\anaconda3\\\\DLLs',\n",
       " 'c:\\\\Users\\\\stefa\\\\anaconda3\\\\lib',\n",
       " 'c:\\\\Users\\\\stefa\\\\anaconda3',\n",
       " '',\n",
       " 'c:\\\\Users\\\\stefa\\\\anaconda3\\\\lib\\\\site-packages',\n",
       " 'c:\\\\Users\\\\stefa\\\\anaconda3\\\\lib\\\\site-packages\\\\win32',\n",
       " 'c:\\\\Users\\\\stefa\\\\anaconda3\\\\lib\\\\site-packages\\\\win32\\\\lib',\n",
       " 'c:\\\\Users\\\\stefa\\\\anaconda3\\\\lib\\\\site-packages\\\\Pythonwin']"
      ]
     },
     "execution_count": 100,
     "metadata": {},
     "output_type": "execute_result"
    }
   ],
   "source": [
    "# import module sys buatan Python\n",
    "import sys\n",
    "\n",
    "# pakai variable path yang ada di dalam module sys\n",
    "sys.path"
   ]
  },
  {
   "cell_type": "markdown",
   "metadata": {},
   "source": [
    "yang di print di atas adalah folder folder yang dicari oleh notebook kita, saat kita minta \"import\""
   ]
  },
  {
   "cell_type": "markdown",
   "metadata": {},
   "source": [
    "### importing module\n",
    "\n",
    "import module selain import namamodule kita bisa kasih alias juga, nama pendek"
   ]
  },
  {
   "cell_type": "code",
   "execution_count": 101,
   "metadata": {},
   "outputs": [],
   "source": [
    "import andi as an"
   ]
  },
  {
   "cell_type": "code",
   "execution_count": 102,
   "metadata": {},
   "outputs": [
    {
     "data": {
      "text/plain": [
       "{'edukasi': 'S1',\n",
       " 'keluaga': 'berkeluarga',\n",
       " 'mencari_pekerjaan': True,\n",
       " 'tahun_lahir': 1996}"
      ]
     },
     "execution_count": 102,
     "metadata": {},
     "output_type": "execute_result"
    }
   ],
   "source": [
    "an.background"
   ]
  },
  {
   "cell_type": "code",
   "execution_count": 103,
   "metadata": {},
   "outputs": [
    {
     "name": "stdout",
     "output_type": "stream",
     "text": [
      "nama saya Andhika Widjaja\n",
      "saya lahir di tahun 1996\n",
      "salam kenal\n"
     ]
    }
   ],
   "source": [
    "an.kenalan()"
   ]
  },
  {
   "cell_type": "code",
   "execution_count": 104,
   "metadata": {},
   "outputs": [
    {
     "data": {
      "text/plain": [
       "'Andhika Widjaja'"
      ]
     },
     "execution_count": 104,
     "metadata": {},
     "output_type": "execute_result"
    }
   ],
   "source": [
    "an.nama"
   ]
  },
  {
   "cell_type": "code",
   "execution_count": 107,
   "metadata": {},
   "outputs": [],
   "source": [
    "# kita juga bisa import sebagian dari module nya saja\n",
    "# misalnya khusus variable background\n",
    "# bisa juga kita kasih alias\n",
    "from andi import background as bg"
   ]
  },
  {
   "cell_type": "code",
   "execution_count": 106,
   "metadata": {},
   "outputs": [
    {
     "data": {
      "text/plain": [
       "{'edukasi': 'S1',\n",
       " 'keluaga': 'berkeluarga',\n",
       " 'mencari_pekerjaan': True,\n",
       " 'tahun_lahir': 1996}"
      ]
     },
     "execution_count": 106,
     "metadata": {},
     "output_type": "execute_result"
    }
   ],
   "source": [
    "bg"
   ]
  },
  {
   "cell_type": "markdown",
   "metadata": {},
   "source": [
    "dengan banyaknya jumlah nama yang kita pakai dari:\n",
    "- keyword python\n",
    "- variable\n",
    "- function\n",
    "- module\n",
    "- alias\n",
    "\n",
    "untuk memastikan saat membuat nama variable/ function/ dll baru kita tidak tabrakan dengan nama yang sudah ada, kita bisa minta bantuan dir()"
   ]
  },
  {
   "cell_type": "code",
   "execution_count": 108,
   "metadata": {},
   "outputs": [
    {
     "data": {
      "text/plain": [
       "['In',\n",
       " 'Out',\n",
       " '_',\n",
       " '_100',\n",
       " '_102',\n",
       " '_104',\n",
       " '_106',\n",
       " '_2',\n",
       " '_26',\n",
       " '_27',\n",
       " '_28',\n",
       " '_74',\n",
       " '_8',\n",
       " '_97',\n",
       " '_98',\n",
       " '__',\n",
       " '___',\n",
       " '__builtin__',\n",
       " '__builtins__',\n",
       " '__doc__',\n",
       " '__loader__',\n",
       " '__name__',\n",
       " '__package__',\n",
       " '__spec__',\n",
       " '__vsc_ipynb_file__',\n",
       " '_dh',\n",
       " '_i',\n",
       " '_i1',\n",
       " '_i10',\n",
       " '_i100',\n",
       " '_i101',\n",
       " '_i102',\n",
       " '_i103',\n",
       " '_i104',\n",
       " '_i105',\n",
       " '_i106',\n",
       " '_i107',\n",
       " '_i108',\n",
       " '_i11',\n",
       " '_i12',\n",
       " '_i13',\n",
       " '_i14',\n",
       " '_i15',\n",
       " '_i16',\n",
       " '_i17',\n",
       " '_i18',\n",
       " '_i19',\n",
       " '_i2',\n",
       " '_i20',\n",
       " '_i21',\n",
       " '_i22',\n",
       " '_i23',\n",
       " '_i24',\n",
       " '_i25',\n",
       " '_i26',\n",
       " '_i27',\n",
       " '_i28',\n",
       " '_i29',\n",
       " '_i3',\n",
       " '_i30',\n",
       " '_i31',\n",
       " '_i32',\n",
       " '_i33',\n",
       " '_i34',\n",
       " '_i35',\n",
       " '_i36',\n",
       " '_i37',\n",
       " '_i38',\n",
       " '_i39',\n",
       " '_i4',\n",
       " '_i40',\n",
       " '_i41',\n",
       " '_i42',\n",
       " '_i43',\n",
       " '_i44',\n",
       " '_i45',\n",
       " '_i46',\n",
       " '_i47',\n",
       " '_i48',\n",
       " '_i49',\n",
       " '_i5',\n",
       " '_i50',\n",
       " '_i51',\n",
       " '_i52',\n",
       " '_i53',\n",
       " '_i54',\n",
       " '_i55',\n",
       " '_i56',\n",
       " '_i57',\n",
       " '_i58',\n",
       " '_i59',\n",
       " '_i6',\n",
       " '_i60',\n",
       " '_i61',\n",
       " '_i62',\n",
       " '_i63',\n",
       " '_i64',\n",
       " '_i65',\n",
       " '_i66',\n",
       " '_i67',\n",
       " '_i68',\n",
       " '_i69',\n",
       " '_i7',\n",
       " '_i70',\n",
       " '_i71',\n",
       " '_i72',\n",
       " '_i73',\n",
       " '_i74',\n",
       " '_i75',\n",
       " '_i76',\n",
       " '_i77',\n",
       " '_i78',\n",
       " '_i79',\n",
       " '_i8',\n",
       " '_i80',\n",
       " '_i81',\n",
       " '_i82',\n",
       " '_i83',\n",
       " '_i84',\n",
       " '_i85',\n",
       " '_i86',\n",
       " '_i87',\n",
       " '_i88',\n",
       " '_i89',\n",
       " '_i9',\n",
       " '_i90',\n",
       " '_i91',\n",
       " '_i92',\n",
       " '_i93',\n",
       " '_i94',\n",
       " '_i95',\n",
       " '_i96',\n",
       " '_i97',\n",
       " '_i98',\n",
       " '_i99',\n",
       " '_ih',\n",
       " '_ii',\n",
       " '_iii',\n",
       " '_oh',\n",
       " 'a',\n",
       " 'addBuah',\n",
       " 'addFruit',\n",
       " 'an',\n",
       " 'andi',\n",
       " 'bg',\n",
       " 'buah_buahan',\n",
       " 'buah_buahan_copy',\n",
       " 'cekAngka',\n",
       " 'cekNilai',\n",
       " 'cetak',\n",
       " 'copy_nama_buah',\n",
       " 'exit',\n",
       " 'fruits',\n",
       " 'get_ipython',\n",
       " 'hasil',\n",
       " 'hasil_function',\n",
       " 'list_baru',\n",
       " 'list_peserta',\n",
       " 'list_peserta_copy',\n",
       " 'logger',\n",
       " 'menyapa',\n",
       " 'menyapaDenganDefault',\n",
       " 'menyapaDenganWaktu',\n",
       " 'nama_buah',\n",
       " 'nilai_andi',\n",
       " 'pesertaCourse',\n",
       " 'quit',\n",
       " 'sapaBanyak',\n",
       " 'sys',\n",
       " 'tambah',\n",
       " 'tambahSepuluh',\n",
       " 'tesNilai',\n",
       " 'tmp_angka',\n",
       " 'totalPelanggar']"
      ]
     },
     "execution_count": 108,
     "metadata": {},
     "output_type": "execute_result"
    }
   ],
   "source": [
    "dir()"
   ]
  },
  {
   "cell_type": "markdown",
   "metadata": {},
   "source": [
    "pakai bareng operator in"
   ]
  },
  {
   "cell_type": "code",
   "execution_count": 113,
   "metadata": {},
   "outputs": [
    {
     "data": {
      "text/plain": [
       "True"
      ]
     },
     "execution_count": 113,
     "metadata": {},
     "output_type": "execute_result"
    }
   ],
   "source": [
    "\"andi\" in list(dir())"
   ]
  },
  {
   "cell_type": "markdown",
   "metadata": {},
   "source": [
    "module yang sudah kita import\n",
    "\n",
    "kalau kita edit dan save file module nya, tetap tidak terbaca update nya di notebook kita.\n",
    "\n",
    "kita perlu bantuan force reload. untuk reload ulang module yang sudah di update."
   ]
  },
  {
   "cell_type": "code",
   "execution_count": 118,
   "metadata": {},
   "outputs": [
    {
     "name": "stdout",
     "output_type": "stream",
     "text": [
      "HEI\n"
     ]
    }
   ],
   "source": [
    "import importlib\n",
    "\n",
    "importlib.reload(andi)\n",
    "\n",
    "andi.marah()"
   ]
  },
  {
   "cell_type": "markdown",
   "metadata": {},
   "source": [
    "## Package\n",
    "Saat ada banyak module di 1 folder, kita namakan folder tersebut package."
   ]
  },
  {
   "cell_type": "code",
   "execution_count": 119,
   "metadata": {},
   "outputs": [],
   "source": [
    "import murid.andi as andi"
   ]
  },
  {
   "cell_type": "code",
   "execution_count": 120,
   "metadata": {},
   "outputs": [
    {
     "data": {
      "text/plain": [
       "{'edukasi': 'S1',\n",
       " 'keluaga': 'berkeluarga',\n",
       " 'mencari_pekerjaan': True,\n",
       " 'tahun_lahir': 1996}"
      ]
     },
     "execution_count": 120,
     "metadata": {},
     "output_type": "execute_result"
    }
   ],
   "source": [
    "andi.background"
   ]
  },
  {
   "cell_type": "code",
   "execution_count": 121,
   "metadata": {},
   "outputs": [],
   "source": [
    "import murid.budi as budi"
   ]
  },
  {
   "cell_type": "code",
   "execution_count": 122,
   "metadata": {},
   "outputs": [
    {
     "data": {
      "text/plain": [
       "'Budi Budiman'"
      ]
     },
     "execution_count": 122,
     "metadata": {},
     "output_type": "execute_result"
    }
   ],
   "source": [
    "budi.nama"
   ]
  },
  {
   "cell_type": "code",
   "execution_count": 123,
   "metadata": {},
   "outputs": [],
   "source": [
    "import murid.cindy"
   ]
  },
  {
   "cell_type": "code",
   "execution_count": 124,
   "metadata": {},
   "outputs": [
    {
     "name": "stdout",
     "output_type": "stream",
     "text": [
      "nama saya Cindy Sutrisno\n",
      "salam kenal\n"
     ]
    }
   ],
   "source": [
    "murid.cindy.kenalan()"
   ]
  },
  {
   "cell_type": "code",
   "execution_count": null,
   "metadata": {},
   "outputs": [],
   "source": []
  }
 ],
 "metadata": {
  "kernelspec": {
   "display_name": "base",
   "language": "python",
   "name": "python3"
  },
  "language_info": {
   "codemirror_mode": {
    "name": "ipython",
    "version": 3
   },
   "file_extension": ".py",
   "mimetype": "text/x-python",
   "name": "python",
   "nbconvert_exporter": "python",
   "pygments_lexer": "ipython3",
   "version": "3.9.13"
  },
  "orig_nbformat": 4
 },
 "nbformat": 4,
 "nbformat_minor": 2
}
