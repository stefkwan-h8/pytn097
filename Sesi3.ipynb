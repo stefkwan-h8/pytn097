{
 "cells": [
  {
   "cell_type": "markdown",
   "metadata": {},
   "source": [
    "# Function\n",
    "seperti membuat variable khusus untuk simpan code, dengan keyword \"def\""
   ]
  },
  {
   "cell_type": "code",
   "execution_count": 7,
   "metadata": {},
   "outputs": [],
   "source": [
    "def menyapa():\n",
    "    print(\"halo\")\n",
    "    print(\"selamat malam\")"
   ]
  },
  {
   "cell_type": "code",
   "execution_count": 2,
   "metadata": {},
   "outputs": [
    {
     "data": {
      "text/plain": [
       "<function __main__.menyapa()>"
      ]
     },
     "execution_count": 2,
     "metadata": {},
     "output_type": "execute_result"
    }
   ],
   "source": [
    "menyapa"
   ]
  },
  {
   "cell_type": "code",
   "execution_count": 3,
   "metadata": {},
   "outputs": [
    {
     "name": "stdout",
     "output_type": "stream",
     "text": [
      "halo\n",
      "selamat malam\n"
     ]
    }
   ],
   "source": [
    "menyapa()"
   ]
  },
  {
   "cell_type": "markdown",
   "metadata": {},
   "source": [
    "untuk menjalankan code yang ada di dalam function, selain memanggil nama function tersebut, kita juga \"invoke\" function nya menggunakan ()\n",
    "\n",
    "() yang ada di sebelah nama function menandakan variable variable spesial milik function tersebut.\n",
    "\n",
    "di contoh diatas, function menyapa tidak memiliki variable spesial.\n",
    "\n",
    "variable spesial ini sering dinamakan argumen atau parameter."
   ]
  },
  {
   "cell_type": "code",
   "execution_count": 4,
   "metadata": {},
   "outputs": [
    {
     "name": "stdout",
     "output_type": "stream",
     "text": [
      "halo\n",
      "selamat malam\n",
      "halo\n",
      "selamat malam\n",
      "halo\n",
      "selamat malam\n"
     ]
    }
   ],
   "source": [
    "menyapa()\n",
    "menyapa()\n",
    "menyapa()"
   ]
  },
  {
   "cell_type": "code",
   "execution_count": null,
   "metadata": {},
   "outputs": [],
   "source": [
    "# ini komentar, tidak termasuk code\n",
    "\"ini juga komentar\""
   ]
  },
  {
   "cell_type": "markdown",
   "metadata": {},
   "source": [
    "misalkan kita mau membuat code yang menyapa, dengan informasi pagi/ siang/ malam"
   ]
  },
  {
   "cell_type": "code",
   "execution_count": 6,
   "metadata": {},
   "outputs": [],
   "source": [
    "def menyapaDenganWaktu(waktu):\n",
    "    # waktu adalah parameter/ argumen/ variable spesial milik function menyapa\n",
    "    print(\"selamat\", waktu)"
   ]
  },
  {
   "cell_type": "code",
   "execution_count": 8,
   "metadata": {},
   "outputs": [
    {
     "data": {
      "text/plain": [
       "<function __main__.menyapaDenganWaktu(waktu)>"
      ]
     },
     "execution_count": 8,
     "metadata": {},
     "output_type": "execute_result"
    }
   ],
   "source": [
    "menyapaDenganWaktu"
   ]
  },
  {
   "cell_type": "code",
   "execution_count": 10,
   "metadata": {},
   "outputs": [
    {
     "name": "stdout",
     "output_type": "stream",
     "text": [
      "selamat pagi\n"
     ]
    }
   ],
   "source": [
    "menyapaDenganWaktu(\"pagi\")"
   ]
  },
  {
   "cell_type": "code",
   "execution_count": 11,
   "metadata": {},
   "outputs": [
    {
     "name": "stdout",
     "output_type": "stream",
     "text": [
      "selamat pagi\n",
      "selamat siang\n",
      "selamat sore\n",
      "selamat malam\n"
     ]
    }
   ],
   "source": [
    "menyapaDenganWaktu(\"pagi\")\n",
    "menyapaDenganWaktu(\"siang\")\n",
    "menyapaDenganWaktu(\"sore\")\n",
    "menyapaDenganWaktu(\"malam\")"
   ]
  },
  {
   "cell_type": "markdown",
   "metadata": {},
   "source": [
    "1. Coba buat sebuah function tanpa argumen\n",
    "2. coba buat sebuah function yang menerima argumen angka, lalu print angka tersebut di dalam code function nya\n",
    "3. coba buat sebuah function yang menerima argumen angka, lalu print sebuah loop menggunakan for loop dan range.   \n",
    "misalkan angka 5, print nya 0,1,2,3,4"
   ]
  },
  {
   "cell_type": "code",
   "execution_count": 12,
   "metadata": {},
   "outputs": [],
   "source": [
    "def logger():\n",
    "    print(123)"
   ]
  },
  {
   "cell_type": "code",
   "execution_count": 13,
   "metadata": {},
   "outputs": [
    {
     "name": "stdout",
     "output_type": "stream",
     "text": [
      "123\n"
     ]
    }
   ],
   "source": [
    "logger()"
   ]
  },
  {
   "cell_type": "code",
   "execution_count": 14,
   "metadata": {},
   "outputs": [],
   "source": [
    "def logger(num):\n",
    "    print(\"angkanya adalah:\", num)"
   ]
  },
  {
   "cell_type": "code",
   "execution_count": 15,
   "metadata": {},
   "outputs": [
    {
     "name": "stdout",
     "output_type": "stream",
     "text": [
      "angkanya adalah: 5\n"
     ]
    }
   ],
   "source": [
    "logger(5)"
   ]
  },
  {
   "cell_type": "code",
   "execution_count": 16,
   "metadata": {},
   "outputs": [],
   "source": [
    "def logger(num):\n",
    "    for c in range(num):\n",
    "        print(c)"
   ]
  },
  {
   "cell_type": "code",
   "execution_count": 17,
   "metadata": {},
   "outputs": [
    {
     "name": "stdout",
     "output_type": "stream",
     "text": [
      "0\n",
      "1\n",
      "2\n",
      "3\n",
      "4\n"
     ]
    }
   ],
   "source": [
    "logger(5)"
   ]
  },
  {
   "cell_type": "markdown",
   "metadata": {},
   "source": [
    "function yang kita buat sejauh ini semuanya \"print\" saja, menjalankan code untuk menampilkan code\n",
    "\n",
    "tapi, selain \"print\" function lebih umum digunakan untuk melakukan sebuah proses.\n",
    "\n",
    "misalkan kalkulasi, rangkuman, filter, sortir, dll...\n",
    "\n",
    "input -> proses -> output\n",
    "\n",
    "input misalkan sebuah list berisi angka-angka plat mobil dan tanggal hari ini, di proses di sebuah function, kemudian kita dapat output ada berapa mobil yang melanggar ganjil genap. (2 input angka, 1 output angka)\n",
    "\n",
    "input misalkan sebuah text, proses di function, output kita diberikan jumlah huruf \"a\" yang ada di dalam text tersebut. (1 input text, 1 output angka)\n",
    "\n",
    "input misalkan sebuah text, proses di function, output kita diberikan jumlah setiap huruf yang ada di dalam text tersebut. (1 input text, 1 output dictionary huruf a brp, b brp, c brp, ...)"
   ]
  },
  {
   "cell_type": "code",
   "execution_count": 18,
   "metadata": {},
   "outputs": [
    {
     "name": "stdout",
     "output_type": "stream",
     "text": [
      "0\n",
      "1\n",
      "2\n",
      "3\n",
      "4\n"
     ]
    }
   ],
   "source": [
    "hasil_function = logger(5)"
   ]
  },
  {
   "cell_type": "code",
   "execution_count": 19,
   "metadata": {},
   "outputs": [
    {
     "name": "stdout",
     "output_type": "stream",
     "text": [
      "None\n"
     ]
    }
   ],
   "source": [
    "print(hasil_function)"
   ]
  },
  {
   "cell_type": "markdown",
   "metadata": {},
   "source": [
    "kalau cuma di print, hasil kalkulasi function tidak bisa disimpan. tidak bisa di capture di luar.\n",
    "\n",
    "kita belajar keyword \"return\"\n",
    "\n",
    "return mengembalikan sebuah value ke tempat function tersebut dipanggil"
   ]
  },
  {
   "cell_type": "code",
   "execution_count": 20,
   "metadata": {},
   "outputs": [],
   "source": [
    "def tambahSepuluh(num):\n",
    "    return num + 10"
   ]
  },
  {
   "cell_type": "code",
   "execution_count": 21,
   "metadata": {},
   "outputs": [],
   "source": [
    "hasil_function = tambahSepuluh(5)"
   ]
  },
  {
   "cell_type": "code",
   "execution_count": 22,
   "metadata": {},
   "outputs": [
    {
     "name": "stdout",
     "output_type": "stream",
     "text": [
      "15\n"
     ]
    }
   ],
   "source": [
    "print(hasil_function)"
   ]
  },
  {
   "cell_type": "markdown",
   "metadata": {},
   "source": [
    "dengan keyword return, kita berhasil mengembalikan (me-return) sebuah value angka 15 di contoh di atas."
   ]
  },
  {
   "cell_type": "code",
   "execution_count": 23,
   "metadata": {},
   "outputs": [],
   "source": [
    "# input list berisi angka-angka plat mobil dan tanggal hari ini, \n",
    "# output ada berapa mobil yang melanggar ganjil genap\n",
    "\n",
    "def totalPelanggar(list_plat, tanggal_hari_ini):\n",
    "    counter = 0\n",
    "    for plat in list_plat:\n",
    "        if ((plat % 2) != (tanggal_hari_ini % 2)):\n",
    "            counter += 1\n",
    "    return counter"
   ]
  },
  {
   "cell_type": "code",
   "execution_count": 24,
   "metadata": {},
   "outputs": [
    {
     "name": "stdout",
     "output_type": "stream",
     "text": [
      "total pelanggar hari ini ada: 3 mobil\n"
     ]
    }
   ],
   "source": [
    "hasil_function = totalPelanggar([1234,8910,823,543,678], 31)\n",
    "\n",
    "print(\"total pelanggar hari ini ada:\", hasil_function, \"mobil\")"
   ]
  },
  {
   "cell_type": "markdown",
   "metadata": {},
   "source": [
    "jika sudah sedikit banyak memahami cara menggunakan keyword \"return\"\n",
    "\n",
    "Cobalah membuat sebuah function menggunakan keyword return, simpan hasil return ke variable, lalu print variable tersebut.\n",
    "\n",
    "```python\n",
    "print() # function print bawaan python\n",
    "return # keyword khusus untuk digunakan di dalam sebuah function yang kita buat\n",
    "```"
   ]
  },
  {
   "cell_type": "code",
   "execution_count": 25,
   "metadata": {},
   "outputs": [],
   "source": [
    "def tambah(a, b):\n",
    "    print(\"ini adalah function tambah yang menambahkan\",a,\"dengan\",b)\n",
    "    return a + b"
   ]
  },
  {
   "cell_type": "code",
   "execution_count": 31,
   "metadata": {},
   "outputs": [
    {
     "name": "stdout",
     "output_type": "stream",
     "text": [
      "ini adalah function tambah yang menambahkan 5 dengan 9\n",
      "ini adalah function tambah yang menambahkan halo dengan malam\n"
     ]
    }
   ],
   "source": [
    "hasil_function = tambah(5, 9)\n",
    "\n",
    "hasil_function = tambah(\"halo\", \"malam\")"
   ]
  },
  {
   "cell_type": "markdown",
   "metadata": {},
   "source": [
    "kita break, jam 20.10\n",
    "\n",
    "kita bisa lanjut ke pembahasan argumen. argumen bisa lebih dari satu. \n",
    "\n",
    "argumen ada 2 jenis berbeda:\n",
    "- required (harus diisi)\n",
    "- default (tidak harus diisi karena punya default value)\n",
    "\n",
    "cara isi argumen ada 2 teknik:\n",
    "- positional (diisi sesuai lokasi, apakah dia argumen pertama, kedua, ketiga, ...)\n",
    "- keyword (isi menggunakan nama argumennya)"
   ]
  },
  {
   "cell_type": "code",
   "execution_count": 32,
   "metadata": {},
   "outputs": [],
   "source": [
    "def menyapa(nama, waktu, tempat):\n",
    "    print(\"selamat\", waktu, \"pak/bu\", nama, \"di\", tempat)\n",
    "    "
   ]
  },
  {
   "cell_type": "code",
   "execution_count": 34,
   "metadata": {},
   "outputs": [
    {
     "name": "stdout",
     "output_type": "stream",
     "text": [
      "selamat pagi pak/bu Andhika di kantor\n"
     ]
    }
   ],
   "source": [
    "menyapa(\"Andhika\", \"pagi\", \"kantor\")"
   ]
  },
  {
   "cell_type": "code",
   "execution_count": 35,
   "metadata": {},
   "outputs": [],
   "source": [
    "def menyapaDenganDefault(nama=\"Andi\", waktu=\"pagi\", tempat=\"tempat\"):\n",
    "    print(\"selamat\", waktu, \"pak/bu\", nama, \"di\", tempat)"
   ]
  },
  {
   "cell_type": "code",
   "execution_count": 36,
   "metadata": {},
   "outputs": [
    {
     "name": "stdout",
     "output_type": "stream",
     "text": [
      "selamat pagi pak/bu Andi di tempat\n"
     ]
    }
   ],
   "source": [
    "menyapaDenganDefault()"
   ]
  },
  {
   "cell_type": "code",
   "execution_count": 37,
   "metadata": {},
   "outputs": [
    {
     "name": "stdout",
     "output_type": "stream",
     "text": [
      "selamat pagi pak/bu Budiman di tempat\n"
     ]
    }
   ],
   "source": [
    "menyapaDenganDefault(\"Budiman\")"
   ]
  },
  {
   "cell_type": "markdown",
   "metadata": {},
   "source": [
    "dengan membuat default argumen, function kita jadi tidak harus diisi argumen, tidak required lagi.\n",
    "\n",
    "kalau mau dicampur, selalu tulis required argumen duluan, baru diikuti default argumen"
   ]
  },
  {
   "cell_type": "code",
   "execution_count": 38,
   "metadata": {},
   "outputs": [],
   "source": [
    "def menyapaDenganDefault(nama, waktu=\"pagi\", tempat=\"tempat\"):\n",
    "    print(\"selamat\", waktu, \"pak/bu\", nama, \"di\", tempat)"
   ]
  },
  {
   "cell_type": "code",
   "execution_count": 40,
   "metadata": {},
   "outputs": [
    {
     "name": "stdout",
     "output_type": "stream",
     "text": [
      "selamat pagi pak/bu Cantika di tempat\n"
     ]
    }
   ],
   "source": [
    "menyapaDenganDefault(\"Cantika\")"
   ]
  },
  {
   "cell_type": "code",
   "execution_count": 41,
   "metadata": {},
   "outputs": [
    {
     "name": "stdout",
     "output_type": "stream",
     "text": [
      "selamat pagi pak/bu  di tempat\n"
     ]
    }
   ],
   "source": [
    "menyapaDenganDefault(\"\")"
   ]
  },
  {
   "cell_type": "markdown",
   "metadata": {},
   "source": [
    "itulah perbedaan \"required\" dan \"default\" argumen\n",
    "\n",
    "berikutnya kita jelaskan perbedaan \"positional\" dengan \"keyword\" cara isi argumen yg berbeda"
   ]
  },
  {
   "cell_type": "code",
   "execution_count": 43,
   "metadata": {},
   "outputs": [
    {
     "name": "stdout",
     "output_type": "stream",
     "text": [
      "selamat malam pak/bu helen di rumah\n"
     ]
    }
   ],
   "source": [
    "menyapaDenganDefault(waktu=\"malam\", tempat=\"rumah\", nama=\"helen\")"
   ]
  },
  {
   "cell_type": "markdown",
   "metadata": {},
   "source": [
    "kita menggunakan teknik keyword untuk mengisi argumen di function di atas\n",
    "\n",
    "kita bisa punya semua jenis argumen dan semua teknik isi argumen di satu function yang sama. contohnya function menyapaDenganDefault yang kita buat punya required dan default argumen. kita akan isi argumen2 ini dengan positional dan keyword. positional selalu duluan."
   ]
  },
  {
   "cell_type": "code",
   "execution_count": 44,
   "metadata": {},
   "outputs": [
    {
     "name": "stdout",
     "output_type": "stream",
     "text": [
      "selamat pagi pak/bu Kartika di cafe\n"
     ]
    }
   ],
   "source": [
    "menyapaDenganDefault(\"Kartika\", tempat=\"cafe\")"
   ]
  },
  {
   "cell_type": "markdown",
   "metadata": {},
   "source": [
    "beberapa hal berikut yang mau kita bahas:\n",
    "\n",
    "- variable-length argumen\n",
    "- konsep pass by reference dan pass by value\n",
    "- module\n",
    "- package\n",
    "\n",
    "kita mulai dengan \n",
    "## variable-length argumen\n",
    "\n",
    "sejauh ini argumen yang kita tulis untuk function bisa diisi satu data. padahal function pertama yang kita pelajari, \"print\" bisa menerima 0-banyak argumen."
   ]
  },
  {
   "cell_type": "code",
   "execution_count": 45,
   "metadata": {},
   "outputs": [
    {
     "name": "stdout",
     "output_type": "stream",
     "text": [
      "\n"
     ]
    }
   ],
   "source": [
    "print()"
   ]
  },
  {
   "cell_type": "code",
   "execution_count": 46,
   "metadata": {},
   "outputs": [
    {
     "name": "stdout",
     "output_type": "stream",
     "text": [
      "1 2 3 3 4 5\n"
     ]
    }
   ],
   "source": [
    "print(1,2,3,3,4,5)"
   ]
  },
  {
   "cell_type": "markdown",
   "metadata": {},
   "source": [
    "kita gunakan * di depan nama argumen untuk membuat dia menjadi variable-length argumen. argumen yang bisa diisi 0-banyak data."
   ]
  },
  {
   "cell_type": "code",
   "execution_count": 47,
   "metadata": {},
   "outputs": [],
   "source": [
    "def sapaBanyak(*nama_orang):\n",
    "    for nama in nama_orang:\n",
    "        print(\"halo\", nama)"
   ]
  },
  {
   "cell_type": "code",
   "execution_count": 48,
   "metadata": {},
   "outputs": [],
   "source": [
    "sapaBanyak()"
   ]
  },
  {
   "cell_type": "code",
   "execution_count": 49,
   "metadata": {},
   "outputs": [
    {
     "name": "stdout",
     "output_type": "stream",
     "text": [
      "halo andi\n",
      "halo budi\n",
      "halo cindy\n"
     ]
    }
   ],
   "source": [
    "sapaBanyak(\"andi\", \"budi\", \"cindy\")"
   ]
  },
  {
   "cell_type": "markdown",
   "metadata": {},
   "source": [
    "## pass by reference, pass by value\n",
    "untuk tipe data terstruktur, datanya tidak dibuat duplikat banyak kali.\n",
    "\n",
    "misalkan kita buat list"
   ]
  },
  {
   "cell_type": "code",
   "execution_count": 50,
   "metadata": {},
   "outputs": [],
   "source": [
    "buah_buahan = [\"apel\", \"jeruk\", \"pisang\"]"
   ]
  },
  {
   "cell_type": "markdown",
   "metadata": {},
   "source": [
    "lalu kita buat copy dari list tersebut"
   ]
  },
  {
   "cell_type": "code",
   "execution_count": 51,
   "metadata": {},
   "outputs": [],
   "source": [
    "buah_buahan_copy = buah_buahan"
   ]
  },
  {
   "cell_type": "markdown",
   "metadata": {},
   "source": [
    "yang terjadi adalah, kedua variable berbeda yang kita buat, \"buah_buahan\" dan \"buah_buahan_copy\" menunjuk ke data yang sama.\n",
    "\n",
    "ibarat alamat beda, rumah sama. satu rumah 2 alamat."
   ]
  },
  {
   "cell_type": "code",
   "execution_count": 52,
   "metadata": {},
   "outputs": [
    {
     "name": "stdout",
     "output_type": "stream",
     "text": [
      "['apel', 'jeruk', 'pisang']\n",
      "['apel', 'jeruk', 'pisang']\n"
     ]
    }
   ],
   "source": [
    "print(buah_buahan)\n",
    "print(buah_buahan_copy)"
   ]
  },
  {
   "cell_type": "code",
   "execution_count": 53,
   "metadata": {},
   "outputs": [],
   "source": [
    "buah_buahan_copy.append(\"semangta\")"
   ]
  },
  {
   "cell_type": "code",
   "execution_count": 54,
   "metadata": {},
   "outputs": [
    {
     "name": "stdout",
     "output_type": "stream",
     "text": [
      "['apel', 'jeruk', 'pisang', 'semangta']\n",
      "['apel', 'jeruk', 'pisang', 'semangta']\n"
     ]
    }
   ],
   "source": [
    "print(buah_buahan)\n",
    "print(buah_buahan_copy)"
   ]
  },
  {
   "cell_type": "code",
   "execution_count": 55,
   "metadata": {},
   "outputs": [
    {
     "name": "stdout",
     "output_type": "stream",
     "text": [
      "apel\n",
      "apel\n",
      "apel\n",
      "apel...!!!\n"
     ]
    }
   ],
   "source": [
    "# pass by value untuk tipe data primitif/ basic\n",
    "nama_buah = \"apel\"\n",
    "copy_nama_buah = nama_buah\n",
    "\n",
    "print(nama_buah)\n",
    "print(copy_nama_buah)\n",
    "\n",
    "copy_nama_buah += \"...!!!\"\n",
    "\n",
    "print(nama_buah)\n",
    "print(copy_nama_buah)"
   ]
  },
  {
   "cell_type": "markdown",
   "metadata": {},
   "source": [
    "misalkan kita punya function yang mengubah data input\n",
    "\n",
    "input -> proses -> output\n",
    "\n",
    "function yang baik tidak mengubah data awal. misalkan data awal tersebut hasil tarikan dari database, kita tidak mau sebuah fucntion mengubah database kita. jadi kita perlu perhatikan pass by reference ini saaat membuat sebuah function.\n",
    "\n",
    "misalkan, kita punya function yang menerima list buah buahan, dan menambahkan buah baru ke list tersebut. kita tidak mau list awal yang kita terima ikutan berubah."
   ]
  },
  {
   "cell_type": "code",
   "execution_count": 66,
   "metadata": {},
   "outputs": [],
   "source": [
    "def addBuah(list_buah, *buah_tambahan):\n",
    "    # buat dulu deep copy list_buah supaya data asli tidak ikutan berubah\n",
    "    list_buah_copy = list_buah.copy()\n",
    "    for bt in buah_tambahan:\n",
    "        list_buah_copy.append(bt)\n",
    "\n",
    "    return list_buah_copy"
   ]
  },
  {
   "cell_type": "code",
   "execution_count": 69,
   "metadata": {},
   "outputs": [
    {
     "name": "stdout",
     "output_type": "stream",
     "text": [
      "['apel', 'jeruk', 'pisang']\n"
     ]
    }
   ],
   "source": [
    "buah_buahan = [\"apel\", \"jeruk\", \"pisang\"]\n",
    "print(buah_buahan)"
   ]
  },
  {
   "cell_type": "code",
   "execution_count": 70,
   "metadata": {},
   "outputs": [
    {
     "name": "stdout",
     "output_type": "stream",
     "text": [
      "['apel', 'jeruk', 'pisang']\n",
      "['apel', 'jeruk', 'pisang', 'kelapa', 'nangka']\n"
     ]
    }
   ],
   "source": [
    "list_baru = addBuah(buah_buahan, \"kelapa\", \"nangka\")\n",
    "\n",
    "print(buah_buahan)\n",
    "print(list_baru)"
   ]
  },
  {
   "cell_type": "markdown",
   "metadata": {},
   "source": [
    "cobalah membuat sebuah variable dengan isi tipe data structured\n",
    "(list, dictionary)\n",
    "\n",
    "buat copy nya, variable baru = variable tadi\n",
    "\n",
    "coba tambahkan value ke variable baru tipe data structured tersebut\n",
    "\n",
    "print hasil kedua variable tersebut\n",
    "\n",
    "apakah variable awal kita ikut berubah?\n",
    "\n",
    "coba sekali lagi, gunakan .copy() saat membuat variable baru\n",
    "\n",
    "\n",
    "kita lanjut jam 20.50"
   ]
  },
  {
   "cell_type": "code",
   "execution_count": null,
   "metadata": {},
   "outputs": [],
   "source": []
  }
 ],
 "metadata": {
  "kernelspec": {
   "display_name": "base",
   "language": "python",
   "name": "python3"
  },
  "language_info": {
   "codemirror_mode": {
    "name": "ipython",
    "version": 3
   },
   "file_extension": ".py",
   "mimetype": "text/x-python",
   "name": "python",
   "nbconvert_exporter": "python",
   "pygments_lexer": "ipython3",
   "version": "3.9.13"
  },
  "orig_nbformat": 4
 },
 "nbformat": 4,
 "nbformat_minor": 2
}
