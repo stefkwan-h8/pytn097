{
 "cells": [
  {
   "cell_type": "markdown",
   "metadata": {},
   "source": [
    "# Function\n",
    "seperti membuat variable khusus untuk simpan code, dengan keyword \"def\""
   ]
  },
  {
   "cell_type": "code",
   "execution_count": 7,
   "metadata": {},
   "outputs": [],
   "source": [
    "def menyapa():\n",
    "    print(\"halo\")\n",
    "    print(\"selamat malam\")"
   ]
  },
  {
   "cell_type": "code",
   "execution_count": 2,
   "metadata": {},
   "outputs": [
    {
     "data": {
      "text/plain": [
       "<function __main__.menyapa()>"
      ]
     },
     "execution_count": 2,
     "metadata": {},
     "output_type": "execute_result"
    }
   ],
   "source": [
    "menyapa"
   ]
  },
  {
   "cell_type": "code",
   "execution_count": 3,
   "metadata": {},
   "outputs": [
    {
     "name": "stdout",
     "output_type": "stream",
     "text": [
      "halo\n",
      "selamat malam\n"
     ]
    }
   ],
   "source": [
    "menyapa()"
   ]
  },
  {
   "cell_type": "markdown",
   "metadata": {},
   "source": [
    "untuk menjalankan code yang ada di dalam function, selain memanggil nama function tersebut, kita juga \"invoke\" function nya menggunakan ()\n",
    "\n",
    "() yang ada di sebelah nama function menandakan variable variable spesial milik function tersebut.\n",
    "\n",
    "di contoh diatas, function menyapa tidak memiliki variable spesial.\n",
    "\n",
    "variable spesial ini sering dinamakan argumen atau parameter."
   ]
  },
  {
   "cell_type": "code",
   "execution_count": 4,
   "metadata": {},
   "outputs": [
    {
     "name": "stdout",
     "output_type": "stream",
     "text": [
      "halo\n",
      "selamat malam\n",
      "halo\n",
      "selamat malam\n",
      "halo\n",
      "selamat malam\n"
     ]
    }
   ],
   "source": [
    "menyapa()\n",
    "menyapa()\n",
    "menyapa()"
   ]
  },
  {
   "cell_type": "code",
   "execution_count": null,
   "metadata": {},
   "outputs": [],
   "source": [
    "# ini komentar, tidak termasuk code\n",
    "\"ini juga komentar\""
   ]
  },
  {
   "cell_type": "markdown",
   "metadata": {},
   "source": [
    "misalkan kita mau membuat code yang menyapa, dengan informasi pagi/ siang/ malam"
   ]
  },
  {
   "cell_type": "code",
   "execution_count": 6,
   "metadata": {},
   "outputs": [],
   "source": [
    "def menyapaDenganWaktu(waktu):\n",
    "    # waktu adalah parameter/ argumen/ variable spesial milik function menyapa\n",
    "    print(\"selamat\", waktu)"
   ]
  },
  {
   "cell_type": "code",
   "execution_count": 8,
   "metadata": {},
   "outputs": [
    {
     "data": {
      "text/plain": [
       "<function __main__.menyapaDenganWaktu(waktu)>"
      ]
     },
     "execution_count": 8,
     "metadata": {},
     "output_type": "execute_result"
    }
   ],
   "source": [
    "menyapaDenganWaktu"
   ]
  },
  {
   "cell_type": "code",
   "execution_count": 10,
   "metadata": {},
   "outputs": [
    {
     "name": "stdout",
     "output_type": "stream",
     "text": [
      "selamat pagi\n"
     ]
    }
   ],
   "source": [
    "menyapaDenganWaktu(\"pagi\")"
   ]
  },
  {
   "cell_type": "code",
   "execution_count": 11,
   "metadata": {},
   "outputs": [
    {
     "name": "stdout",
     "output_type": "stream",
     "text": [
      "selamat pagi\n",
      "selamat siang\n",
      "selamat sore\n",
      "selamat malam\n"
     ]
    }
   ],
   "source": [
    "menyapaDenganWaktu(\"pagi\")\n",
    "menyapaDenganWaktu(\"siang\")\n",
    "menyapaDenganWaktu(\"sore\")\n",
    "menyapaDenganWaktu(\"malam\")"
   ]
  },
  {
   "cell_type": "markdown",
   "metadata": {},
   "source": [
    "1. Coba buat sebuah function tanpa argumen\n",
    "2. coba buat sebuah function yang menerima argumen angka, lalu print angka tersebut di dalam code function nya\n",
    "3. coba buat sebuah function yang menerima argumen angka, lalu print sebuah loop menggunakan for loop dan range.   \n",
    "misalkan angka 5, print nya 0,1,2,3,4"
   ]
  },
  {
   "cell_type": "code",
   "execution_count": 12,
   "metadata": {},
   "outputs": [],
   "source": [
    "def logger():\n",
    "    print(123)"
   ]
  },
  {
   "cell_type": "code",
   "execution_count": 13,
   "metadata": {},
   "outputs": [
    {
     "name": "stdout",
     "output_type": "stream",
     "text": [
      "123\n"
     ]
    }
   ],
   "source": [
    "logger()"
   ]
  },
  {
   "cell_type": "code",
   "execution_count": 14,
   "metadata": {},
   "outputs": [],
   "source": [
    "def logger(num):\n",
    "    print(\"angkanya adalah:\", num)"
   ]
  },
  {
   "cell_type": "code",
   "execution_count": 15,
   "metadata": {},
   "outputs": [
    {
     "name": "stdout",
     "output_type": "stream",
     "text": [
      "angkanya adalah: 5\n"
     ]
    }
   ],
   "source": [
    "logger(5)"
   ]
  },
  {
   "cell_type": "code",
   "execution_count": 16,
   "metadata": {},
   "outputs": [],
   "source": [
    "def logger(num):\n",
    "    for c in range(num):\n",
    "        print(c)"
   ]
  },
  {
   "cell_type": "code",
   "execution_count": 17,
   "metadata": {},
   "outputs": [
    {
     "name": "stdout",
     "output_type": "stream",
     "text": [
      "0\n",
      "1\n",
      "2\n",
      "3\n",
      "4\n"
     ]
    }
   ],
   "source": [
    "logger(5)"
   ]
  },
  {
   "cell_type": "markdown",
   "metadata": {},
   "source": [
    "function yang kita buat sejauh ini semuanya \"print\" saja, menjalankan code untuk menampilkan code\n",
    "\n",
    "tapi, selain \"print\" function lebih umum digunakan untuk melakukan sebuah proses.\n",
    "\n",
    "misalkan kalkulasi, rangkuman, filter, sortir, dll...\n",
    "\n",
    "input -> proses -> output\n",
    "\n",
    "input misalkan sebuah list berisi angka-angka plat mobil dan tanggal hari ini, di proses di sebuah function, kemudian kita dapat output ada berapa mobil yang melanggar ganjil genap. (2 input angka, 1 output angka)\n",
    "\n",
    "input misalkan sebuah text, proses di function, output kita diberikan jumlah huruf \"a\" yang ada di dalam text tersebut. (1 input text, 1 output angka)\n",
    "\n",
    "input misalkan sebuah text, proses di function, output kita diberikan jumlah setiap huruf yang ada di dalam text tersebut. (1 input text, 1 output dictionary huruf a brp, b brp, c brp, ...)"
   ]
  },
  {
   "cell_type": "code",
   "execution_count": 18,
   "metadata": {},
   "outputs": [
    {
     "name": "stdout",
     "output_type": "stream",
     "text": [
      "0\n",
      "1\n",
      "2\n",
      "3\n",
      "4\n"
     ]
    }
   ],
   "source": [
    "hasil_function = logger(5)"
   ]
  },
  {
   "cell_type": "code",
   "execution_count": 19,
   "metadata": {},
   "outputs": [
    {
     "name": "stdout",
     "output_type": "stream",
     "text": [
      "None\n"
     ]
    }
   ],
   "source": [
    "print(hasil_function)"
   ]
  },
  {
   "cell_type": "markdown",
   "metadata": {},
   "source": [
    "kalau cuma di print, hasil kalkulasi function tidak bisa disimpan. tidak bisa di capture di luar.\n",
    "\n",
    "kita belajar keyword \"return\"\n",
    "\n",
    "return mengembalikan sebuah value ke tempat function tersebut dipanggil"
   ]
  },
  {
   "cell_type": "code",
   "execution_count": 20,
   "metadata": {},
   "outputs": [],
   "source": [
    "def tambahSepuluh(num):\n",
    "    return num + 10"
   ]
  },
  {
   "cell_type": "code",
   "execution_count": 21,
   "metadata": {},
   "outputs": [],
   "source": [
    "hasil_function = tambahSepuluh(5)"
   ]
  },
  {
   "cell_type": "code",
   "execution_count": 22,
   "metadata": {},
   "outputs": [
    {
     "name": "stdout",
     "output_type": "stream",
     "text": [
      "15\n"
     ]
    }
   ],
   "source": [
    "print(hasil_function)"
   ]
  },
  {
   "cell_type": "markdown",
   "metadata": {},
   "source": [
    "dengan keyword return, kita berhasil mengembalikan (me-return) sebuah value angka 15 di contoh di atas."
   ]
  },
  {
   "cell_type": "code",
   "execution_count": 23,
   "metadata": {},
   "outputs": [],
   "source": [
    "# input list berisi angka-angka plat mobil dan tanggal hari ini, \n",
    "# output ada berapa mobil yang melanggar ganjil genap\n",
    "\n",
    "def totalPelanggar(list_plat, tanggal_hari_ini):\n",
    "    counter = 0\n",
    "    for plat in list_plat:\n",
    "        if ((plat % 2) != (tanggal_hari_ini % 2)):\n",
    "            counter += 1\n",
    "    return counter"
   ]
  },
  {
   "cell_type": "code",
   "execution_count": 24,
   "metadata": {},
   "outputs": [
    {
     "name": "stdout",
     "output_type": "stream",
     "text": [
      "total pelanggar hari ini ada: 3 mobil\n"
     ]
    }
   ],
   "source": [
    "hasil_function = totalPelanggar([1234,8910,823,543,678], 31)\n",
    "\n",
    "print(\"total pelanggar hari ini ada:\", hasil_function, \"mobil\")"
   ]
  },
  {
   "cell_type": "markdown",
   "metadata": {},
   "source": [
    "jika sudah sedikit banyak memahami cara menggunakan keyword \"return\"\n",
    "\n",
    "Cobalah membuat sebuah function menggunakan keyword return, simpan hasil return ke variable, lalu print variable tersebut.\n",
    "\n",
    "```python\n",
    "print() # function print bawaan python\n",
    "return # keyword khusus untuk digunakan di dalam sebuah function yang kita buat\n",
    "```"
   ]
  },
  {
   "cell_type": "code",
   "execution_count": 25,
   "metadata": {},
   "outputs": [],
   "source": [
    "def tambah(a, b):\n",
    "    print(\"ini adalah function tambah yang menambahkan\",a,\"dengan\",b)\n",
    "    return a + b"
   ]
  },
  {
   "cell_type": "code",
   "execution_count": 31,
   "metadata": {},
   "outputs": [
    {
     "name": "stdout",
     "output_type": "stream",
     "text": [
      "ini adalah function tambah yang menambahkan 5 dengan 9\n",
      "ini adalah function tambah yang menambahkan halo dengan malam\n"
     ]
    }
   ],
   "source": [
    "hasil_function = tambah(5, 9)\n",
    "\n",
    "hasil_function = tambah(\"halo\", \"malam\")"
   ]
  },
  {
   "cell_type": "markdown",
   "metadata": {},
   "source": [
    "kita break, jam 20.10\n",
    "\n",
    "kita bisa lanjut ke pembahasan argumen. argumen bisa lebih dari satu. \n",
    "\n",
    "argumen ada 2 jenis berbeda:\n",
    "- required (harus diisi)\n",
    "- default (tidak harus diisi karena punya default value)\n",
    "\n",
    "cara isi argumen ada 2 teknik:\n",
    "- positional (diisi sesuai lokasi, apakah dia argumen pertama, kedua, ketiga, ...)\n",
    "- keyword (isi menggunakan nama argumennya)"
   ]
  },
  {
   "cell_type": "markdown",
   "metadata": {},
   "source": []
  }
 ],
 "metadata": {
  "kernelspec": {
   "display_name": "base",
   "language": "python",
   "name": "python3"
  },
  "language_info": {
   "codemirror_mode": {
    "name": "ipython",
    "version": 3
   },
   "file_extension": ".py",
   "mimetype": "text/x-python",
   "name": "python",
   "nbconvert_exporter": "python",
   "pygments_lexer": "ipython3",
   "version": "3.9.13"
  },
  "orig_nbformat": 4
 },
 "nbformat": 4,
 "nbformat_minor": 2
}
